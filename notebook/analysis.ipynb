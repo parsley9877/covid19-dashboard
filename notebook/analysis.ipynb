{
 "cells": [
  {
   "cell_type": "code",
   "execution_count": 1,
   "id": "401d193e",
   "metadata": {},
   "outputs": [],
   "source": [
    "import pandas as pd\n",
    "import numpy as np\n",
    "import matplotlib.pyplot as plt\n",
    "import plotly.express as px\n",
    "import datetime\n",
    "import os"
   ]
  },
  {
   "cell_type": "code",
   "execution_count": 2,
   "id": "4efd6879",
   "metadata": {},
   "outputs": [
    {
     "name": "stdout",
     "output_type": "stream",
     "text": [
      "   Unnamed: 0  Province_State Country_Region          Last_Update      Lat  \\\n",
      "0           0         Alabama             US  2021-01-02 05:30:44  32.3182   \n",
      "1           1          Alaska             US  2021-01-02 05:30:44  61.3707   \n",
      "2           2  American Samoa             US  2021-01-02 05:30:44 -14.2710   \n",
      "3           3         Arizona             US  2021-01-02 05:30:44  33.7298   \n",
      "4           4        Arkansas             US  2021-01-02 05:30:44  34.9697   \n",
      "\n",
      "      Long_  Confirmed  Deaths  Recovered    Active  FIPS  Incident_Rate  \\\n",
      "0  -86.9023     365747    4872   202137.0  158738.0   1.0    7459.375895   \n",
      "1 -152.4044      47019     206     7165.0   39648.0   2.0    6427.355802   \n",
      "2 -170.1320          0       0        NaN       NaN  60.0       0.000000   \n",
      "3 -111.4312     530267    9015    76934.0  444318.0   4.0    7285.171274   \n",
      "4  -92.3731     229442    3711   199247.0   26484.0   5.0    7602.945718   \n",
      "\n",
      "   Total_Test_Results  People_Hospitalized  Case_Fatality_Ratio         UID  \\\n",
      "0           3275341.0                  NaN             1.332068  84000001.0   \n",
      "1           1275750.0                  NaN             0.438121  84000002.0   \n",
      "2              2140.0                  NaN                  NaN        16.0   \n",
      "3           5155330.0                  NaN             1.700087  84000004.0   \n",
      "4           2051488.0                  NaN             1.617402  84000005.0   \n",
      "\n",
      "  ISO3   Testing_Rate  Hospitalization_Rate  \n",
      "0  USA   66800.273700                   NaN  \n",
      "1  USA  174391.185778                   NaN  \n",
      "2  ASM    3846.084722                   NaN  \n",
      "3  USA   39551.860582                   NaN  \n",
      "4  USA   67979.497674                   NaN  \n"
     ]
    }
   ],
   "source": [
    "#read the data\n",
    "covid_path = r'C:\\Users\\lizhu\\Desktop\\ece143\\projec\\covid19-dashboard\\temp_data' \n",
    "vac_data_path_base = r'C:\\Users\\lizhu\\Desktop\\ece143\\projec\\covid19-dashboard\\data\\COVID-19_Vaccinations_in_the_United_States_Jurisdiction.csv'\n",
    "vac_data = pd.read_csv(vac_data_path_base)\n",
    "#print(vac_data.head())\n",
    "df = pd.read_csv(covid_path+'/01-01-2021.csv')\n",
    "print(df.head())\n",
    "#temp_data\\01-01-2021.csv"
   ]
  },
  {
   "cell_type": "code",
   "execution_count": 3,
   "id": "8e282346",
   "metadata": {},
   "outputs": [],
   "source": [
    "class data_reader:\n",
    "    '''\n",
    "    My own version of reading the data\n",
    "    folder: the path to the folder of the CSSE US data\n",
    "    path = 'COVID-19_Vaccinations_in_the_United_States_County.csv'\n",
    "\n",
    "    This one is not used in the final project\n",
    "    '''\n",
    "    def __init__(self,folder) -> None:\n",
    "        assert isinstance(folder, str)\n",
    "        print('Initializing folder: ', folder)\n",
    "        self.folder = folder\n",
    "        first_f = os.listdir(folder)[0]\n",
    "        data = pd.read_csv(os.path.join(folder,first_f), index_col=1)\n",
    "        self.states = set(data.index)\n",
    "        self.timeline = []\n",
    "        for i in os.listdir(folder)[:-1]:\n",
    "            self.timeline.append(pd.Timestamp(i[:-4]))\n",
    "        print('Finished initialization')\n",
    "        \n",
    "\n",
    "    def read_trend(self,state):\n",
    "        '''\n",
    "        read the data of a given state\n",
    "        '''  \n",
    "        #assert (state in self.states) and isinstance(state, str) \n",
    "        infect = []\n",
    "        death = []\n",
    "        recovered = []\n",
    "        incident = []\n",
    "        for filename in os.listdir(self.folder)[:-1]:  \n",
    "            data = pd.read_csv(os.path.join(self.folder,filename), index_col=1) \n",
    "            infect.append(data.loc[state,'Confirmed'])\n",
    "            death.append(data.loc[state,'Deaths'])\n",
    "            recovered.append(data.loc[state,'Recovered'])\n",
    "            incident.append(data.loc[state,'Incident_Rate'])\n",
    "        \n",
    "        stat = pd.DataFrame({'infect':infect, 'death':death, 'recovered':recovered, 'incident_rate':incident}, index=self.timeline)\n",
    "        stat = stat.sort_index()\n",
    "        #print(stat.head())\n",
    "        #print(stat.tail())\n",
    "        return stat"
   ]
  },
  {
   "cell_type": "code",
   "execution_count": 4,
   "id": "6dafa7d0",
   "metadata": {},
   "outputs": [
    {
     "name": "stdout",
     "output_type": "stream",
     "text": [
      "Initializing folder:  C:\\Users\\lizhu\\Desktop\\ece143\\projec\\covid19-dashboard\\temp_data\n",
      "Finished initialization\n",
      "             infect  death  recovered  incident_rate\n",
      "2020-11-15  1048647  18306        NaN    2654.209053\n",
      "2020-11-16  1058764  18326        NaN    2679.851751\n",
      "2020-11-17  1070042  18379        NaN    2708.450496\n",
      "2020-11-18  1082467  18492        NaN    2739.929363\n",
      "2020-11-19  1096728  18581        NaN    2776.044770\n"
     ]
    }
   ],
   "source": [
    "#read data\n",
    "covid_path = r'C:\\Users\\lizhu\\Desktop\\ece143\\projec\\covid19-dashboard\\temp_data'\n",
    "rd = data_reader(covid_path)\n",
    "#first_f = os.listdir(covid_path)[0]\n",
    "#data = pd.read_csv(os.path.join(covid_path,first_f), index_col=1)\n",
    "covid_data = rd.read_trend('California')\n",
    "print(covid_data.head())\n",
    "#print(data.head())"
   ]
  },
  {
   "cell_type": "code",
   "execution_count": 5,
   "id": "b04801b8",
   "metadata": {},
   "outputs": [
    {
     "name": "stderr",
     "output_type": "stream",
     "text": [
      "C:\\Users\\lizhu\\AppData\\Local\\Temp\\ipykernel_21892\\3763552119.py:12: RuntimeWarning: invalid value encountered in log\n",
      "  plt.plot(np.log(death_per_day+1),label = 'death')\n"
     ]
    },
    {
     "data": {
      "image/png": "[encoded data removed]",
      "text/plain": [
       "<Figure size 432x288 with 1 Axes>"
      ]
     },
     "metadata": {
      "needs_background": "light"
     },
     "output_type": "display_data"
    }
   ],
   "source": [
    "inci = np.array(covid_data['incident_rate'])\n",
    "infect =  np.array(covid_data['infect'])\n",
    "deaths = np.array(covid_data['death'])\n",
    "\n",
    "\n",
    "new_per_day = infect[1:]-infect[:-1]\n",
    "death_per_day = deaths[1:]-deaths[:-1]\n",
    "\n",
    "# plot\n",
    "#plus 1 to avoid 0 in log\n",
    "plt.plot(np.log(new_per_day+1), label='new')\n",
    "plt.plot(np.log(death_per_day+1),label = 'death')\n",
    "plt.xlabel('Days')\n",
    "plt.ylabel('Log of new infectant/death per day')\n",
    "plt.legend()\n",
    "plt.show()"
   ]
  },
  {
   "cell_type": "code",
   "execution_count": 6,
   "id": "fa37c825",
   "metadata": {},
   "outputs": [
    {
     "data": {
      "text/plain": [
       "[<matplotlib.lines.Line2D at 0x180e704ed30>]"
      ]
     },
     "execution_count": 6,
     "metadata": {},
     "output_type": "execute_result"
    },
    {
     "data": {
      "image/png": "[encoded data removed]",
      "text/plain": [
       "<Figure size 432x288 with 1 Axes>"
      ]
     },
     "metadata": {
      "needs_background": "light"
     },
     "output_type": "display_data"
    }
   ],
   "source": [
    "death_rate = death_per_day/new_per_day\n",
    "plt.plot(death_rate, label = 'death_rate')"
   ]
  },
  {
   "cell_type": "markdown",
   "id": "f4a769bd",
   "metadata": {},
   "source": [
    "Can see that the death rate is smaller during the second and third peak."
   ]
  },
  {
   "cell_type": "markdown",
   "id": "039c604f",
   "metadata": {},
   "source": [
    "# Conclusion 1:\n",
    "There are roughly 2 waves of pandemic. (Covid-19, Omicron)\n",
    "The first wave has lower infectivity (less new infectants per day), but higher fatality\n",
    "The second wave has higher infectivity, but lower fatality"
   ]
  },
  {
   "cell_type": "code",
   "execution_count": 7,
   "id": "43d6d16f",
   "metadata": {
    "scrolled": true
   },
   "outputs": [
    {
     "data": {
      "image/png": "[encoded data removed]",
      "text/plain": [
       "<Figure size 432x288 with 1 Axes>"
      ]
     },
     "metadata": {
      "needs_background": "light"
     },
     "output_type": "display_data"
    }
   ],
   "source": [
    "# 载入数据\n",
    "#the data in California have some outliers and is not good for learning\n",
    "covid_data = rd.read_trend('Washington') \n",
    "r1start = pd.to_datetime('2020-10-15')\n",
    "r1end = pd.to_datetime('2021-02-15')\n",
    "round1_data = covid_data.loc[np.logical_and(covid_data.index>=r1start, covid_data.index<=r1end),:]\n",
    "\n",
    "\n",
    "inci = np.array(round1_data['incident_rate'])\n",
    "new_per_day = inci[1:]-inci[:-1]\n",
    "plt.plot(new_per_day)\n",
    "plt.show()"
   ]
  },
  {
   "cell_type": "code",
   "execution_count": 8,
   "id": "ffc4455e",
   "metadata": {},
   "outputs": [],
   "source": [
    "R0 = 2\n",
    "#initial values of the model\n",
    "S =  100000-(1+R0)*inci[0]\n",
    "E = R0*inci[0]\n",
    "I = inci[0]\n",
    "R = 0"
   ]
  },
  {
   "cell_type": "code",
   "execution_count": 9,
   "id": "f9f91908",
   "metadata": {},
   "outputs": [],
   "source": [
    "def loss(orig,pred):\n",
    "    return sum(np.square(orig-pred))"
   ]
  },
  {
   "cell_type": "code",
   "execution_count": 10,
   "id": "4fa66bbe",
   "metadata": {},
   "outputs": [],
   "source": [
    "def base_seir_model(s=100000,e=0,i=1000,r=0, beta=0.1066, sigma=0.18, gamma=0.0714, t=100):\n",
    "    '''\n",
    "    A basic suspect, exposed, infected, recovered model,\n",
    "    which models the trend of the population in each part\n",
    "\n",
    "    input:\n",
    "    s,e,i,r: the initial population of each part\n",
    "    beta: The rate of transmission. \n",
    "    sigma: The rate of exposed people became infectants (rate of symptom reveals)\n",
    "    gamma: rate of recovery\n",
    "    t: the total time length to do the prediction\n",
    "\n",
    "    Output:\n",
    "    A pandas array P\n",
    "    P[0]: the Suspectable population trend\n",
    "    P[1]: the Exposed population trend\n",
    "    P[2]: the Infectant population trend\n",
    "    P[3]: the Recovered population trend\n",
    "    P[4]: New infectant per day\n",
    "    '''\n",
    "    assert s>0 and e>=0 and i>0 and r>=0, 'Invalid input for population!'\n",
    "    assert beta>0 and sigma>0 and gamma>0,'Invalid input for parameters!'\n",
    "    assert isinstance(t,int) and t>0,'Invalid input for time!'\n",
    "\n",
    "    S, E, I, R = [s], [e], [i], [r]\n",
    "    new_infect = [0]\n",
    "    dt=1\n",
    "    for _ in range(t-1):\n",
    "        new = sigma*E[-1]\n",
    "        new_infect.append(new)\n",
    "        N=S[-1]+E[-1]+I[-1]+R[-1]\n",
    "        next_S = S[-1] - (beta*S[-1]*I[-1])/N*dt\n",
    "        next_E = E[-1] + (beta*S[-1]*I[-1]/N - new)*dt\n",
    "        next_I = I[-1] + (new - gamma*I[-1])*dt\n",
    "        next_R = R[-1] + (gamma*I[-1])*dt\n",
    "        S.append(next_S)\n",
    "        E.append(next_E)\n",
    "        I.append(next_I)\n",
    "        R.append(next_R)\n",
    "    \n",
    "    data = np.stack([S, E, I, R,new_infect]).T\n",
    "    s = pd.DataFrame(data, columns=['Susceptible','Exposed','Infectant','Recovered','New Infect'])\n",
    "    return s"
   ]
  },
  {
   "cell_type": "code",
   "execution_count": 73,
   "id": "5b1440d7",
   "metadata": {},
   "outputs": [
    {
     "name": "stdout",
     "output_type": "stream",
     "text": [
      "10000 0.02 0.03 0.01\n",
      "20000 0.03 0.05 0.02\n",
      "30000 0.04 0.06999999999999999 0.03\n",
      "40000 0.05 0.09 0.04\n",
      "50000 0.060000000000000005 0.11 0.05\n",
      "60000 0.06999999999999999 0.13 0.060000000000000005\n",
      "70000 0.08 0.15000000000000002 0.06999999999999999\n",
      "80000 0.09 0.17 0.08\n",
      "90000 0.09999999999999999 0.19 0.09\n",
      "100000 0.11 0.21000000000000002 0.09999999999999999\n",
      "110000 0.12 0.23 0.11\n",
      "120000 0.13 0.25 0.12\n",
      "130000 0.14 0.27 0.13\n",
      "140000 0.15000000000000002 0.29000000000000004 0.14\n",
      "150000 0.16 0.31 0.15000000000000002\n",
      "160000 0.17 0.33 0.16\n",
      "170000 0.18000000000000002 0.35000000000000003 0.17\n",
      "180000 0.19 0.37 0.18000000000000002\n",
      "190000 0.2 0.39 0.19\n",
      "200000 0.21000000000000002 0.41000000000000003 0.2\n",
      "210000 0.22 0.43 0.21000000000000002\n",
      "220000 0.23 0.45 0.22\n",
      "230000 0.24000000000000002 0.47000000000000003 0.23\n",
      "240000 0.25 0.49 0.24000000000000002\n",
      "250000 0.26 0.51 0.25\n",
      "260000 0.27 0.53 0.26\n",
      "270000 0.28 0.55 0.27\n",
      "280000 0.29000000000000004 0.5700000000000001 0.28\n",
      "290000 0.3 0.59 0.29000000000000004\n",
      "300000 0.31 0.61 0.3\n",
      "310000 0.32 0.63 0.31\n",
      "320000 0.33 0.65 0.32\n",
      "330000 0.34 0.67 0.33\n",
      "340000 0.35000000000000003 0.6900000000000001 0.34\n",
      "350000 0.36000000000000004 0.7100000000000001 0.35000000000000003\n",
      "360000 0.37 0.73 0.36000000000000004\n",
      "370000 0.38 0.75 0.37\n",
      "380000 0.39 0.77 0.38\n",
      "390000 0.4 0.79 0.39\n",
      "400000 0.41000000000000003 0.81 0.4\n",
      "410000 0.42000000000000004 0.8300000000000001 0.41000000000000003\n",
      "420000 0.43 0.85 0.42000000000000004\n",
      "430000 0.44 0.87 0.43\n",
      "440000 0.45 0.89 0.44\n",
      "450000 0.46 0.91 0.45\n",
      "460000 0.47000000000000003 0.93 0.46\n",
      "470000 0.48000000000000004 0.9500000000000001 0.47000000000000003\n",
      "480000 0.49 0.97 0.48000000000000004\n",
      "490000 0.5 0.99 0.49\n",
      "500000 0.52 0.02 0.5\n",
      "510000 0.53 0.04 0.51\n",
      "520000 0.54 0.060000000000000005 0.52\n",
      "530000 0.55 0.08 0.53\n",
      "540000 0.56 0.09999999999999999 0.54\n",
      "550000 0.5700000000000001 0.12 0.55\n",
      "560000 0.5800000000000001 0.14 0.56\n",
      "570000 0.59 0.16 0.5700000000000001\n",
      "580000 0.6 0.18000000000000002 0.5800000000000001\n",
      "590000 0.61 0.2 0.59\n",
      "600000 0.62 0.22 0.6\n",
      "610000 0.63 0.24000000000000002 0.61\n",
      "620000 0.64 0.26 0.62\n",
      "630000 0.65 0.28 0.63\n",
      "640000 0.66 0.3 0.64\n",
      "650000 0.67 0.32 0.65\n",
      "660000 0.68 0.34 0.66\n",
      "670000 0.6900000000000001 0.36000000000000004 0.67\n",
      "680000 0.7000000000000001 0.38 0.68\n",
      "690000 0.7100000000000001 0.4 0.6900000000000001\n",
      "700000 0.72 0.42000000000000004 0.7000000000000001\n",
      "710000 0.73 0.44 0.7100000000000001\n",
      "720000 0.74 0.46 0.72\n",
      "730000 0.75 0.48000000000000004 0.73\n",
      "740000 0.76 0.5 0.74\n",
      "750000 0.77 0.52 0.75\n",
      "760000 0.78 0.54 0.76\n",
      "770000 0.79 0.56 0.77\n",
      "780000 0.8 0.5800000000000001 0.78\n",
      "790000 0.81 0.6 0.79\n",
      "800000 0.8200000000000001 0.62 0.8\n",
      "810000 0.8300000000000001 0.64 0.81\n",
      "820000 0.8400000000000001 0.66 0.8200000000000001\n",
      "830000 0.85 0.68 0.8300000000000001\n",
      "840000 0.86 0.7000000000000001 0.8400000000000001\n",
      "850000 0.87 0.72 0.85\n",
      "860000 0.88 0.74 0.86\n",
      "870000 0.89 0.76 0.87\n",
      "880000 0.9 0.78 0.88\n",
      "890000 0.91 0.8 0.89\n",
      "900000 0.92 0.8200000000000001 0.9\n",
      "910000 0.93 0.8400000000000001 0.91\n",
      "920000 0.9400000000000001 0.86 0.92\n",
      "930000 0.9500000000000001 0.88 0.93\n",
      "940000 0.9600000000000001 0.9 0.9400000000000001\n",
      "950000 0.97 0.92 0.9500000000000001\n",
      "960000 0.98 0.9400000000000001 0.9600000000000001\n",
      "970000 0.99 0.9600000000000001 0.97\n",
      "0.01 0.01 0.99\n"
     ]
    }
   ],
   "source": [
    "min_loss = 10000000\n",
    "b=0\n",
    "s=0\n",
    "g=0\n",
    "#compute the parameters that best fit the rwal data\n",
    "for beta in np.arange(0.01,1,0.01):\n",
    "    for sigma in np.arange(0.01,1.,0.01):\n",
    "        for gamma in np.arange(0.01,1.,0.01):\n",
    "            result = base_seir_model(S,E,I,R,beta,sigma,gamma, t = len(inci))\n",
    "            new_pre = result['New Infect'][1:]\n",
    "            c_loss = loss(new_per_day,new_pre)\n",
    "            if c_loss <min_loss:\n",
    "                min_loss=c_loss\n",
    "                b=beta\n",
    "                s=sigma\n",
    "                g=gamma\n",
    "\n",
    "print(b,s,g)"
   ]
  },
  {
   "cell_type": "markdown",
   "id": "fa1b7478",
   "metadata": {},
   "source": [
    "So the parameters given by the model is 0.06, 0.01, 0.01\n",
    "Beta = 0.06: Roughly speaking, when a patient contact with a susceptible man, there is 6% possibility that the susceptible man become infected."
   ]
  },
  {
   "cell_type": "code",
   "execution_count": 19,
   "id": "35ba5806",
   "metadata": {},
   "outputs": [
    {
     "data": {
      "application/vnd.plotly.v1+json": {
       "config": {
        "linkText": "Export to plot.ly",
        "plotlyServerURL": "https://plot.ly",
        "showLink": false
       },
       "data": [
        {
         "mode": "lines",
         "name": "Susceptible",
         "type": "scatter",
         "x": [
          0,
          1,
          2,
          3,
          4,
          5,
          6,
          7,
          8,
          9,
          10,
          11,
          12,
          13,
          14,
          15,
          16,
          17,
          18,
          19,
          20,
          21,
          22,
          23,
          24,
          25,
          26,
          27,
          28,
          29,
          30,
          31,
          32,
          33,
          34,
          35,
          36,
          37,
          38,
          39,
          40,
          41,
          42,
          43,
          44,
          45,
          46,
          47,
          48,
          49,
          50,
          51,
          52,
          53,
          54,
          55,
          56,
          57,
          58,
          59,
          60,
          61,
          62,
          63,
          64,
          65,
          66,
          67,
          68,
          69,
          70,
          71,
          72,
          73,
          74,
          75,
          76,
          77,
          78,
          79,
          80,
          81,
          82,
          83,
          84,
          85,
          86,
          87,
          88,
          89,
          90,
          91,
          92,
          93,
          94,
          95,
          96,
          97,
          98,
          99,
          100,
          101,
          102,
          103,
          104,
          105,
          106,
          107,
          108,
          109,
          110,
          111,
          112,
          113,
          114,
          115,
          116,
          117,
          118,
          119,
          120,
          121,
          122,
          123,
          124,
          125,
          126,
          127,
          128,
          129,
          130,
          131,
          132,
          133,
          134,
          135,
          136,
          137,
          138,
          139,
          140,
          141,
          142,
          143,
          144,
          145,
          146,
          147,
          148,
          149,
          150,
          151,
          152,
          153,
          154,
          155,
          156,
          157,
          158,
          159,
          160,
          161,
          162,
          163,
          164,
          165,
          166,
          167,
          168,
          169,
          170,
          171,
          172,
          173,
          174,
          175,
          176,
          177,
          178,
          179,
          180,
          181,
          182,
          183,
          184,
          185,
          186,
          187,
          188,
          189,
          190,
          191,
          192,
          193,
          194,
          195,
          196,
          197,
          198,
          199,
          200,
          201,
          202,
          203,
          204,
          205,
          206,
          207,
          208,
          209,
          210,
          211,
          212,
          213,
          214,
          215,
          216,
          217,
          218,
          219,
          220,
          221,
          222,
          223,
          224,
          225,
          226,
          227,
          228,
          229,
          230,
          231,
          232,
          233,
          234,
          235,
          236,
          237,
          238,
          239,
          240,
          241,
          242,
          243,
          244,
          245,
          246,
          247,
          248,
          249,
          250,
          251,
          252,
          253,
          254,
          255,
          256,
          257,
          258,
          259,
          260,
          261,
          262,
          263,
          264,
          265,
          266,
          267,
          268,
          269,
          270,
          271,
          272,
          273,
          274,
          275,
          276,
          277,
          278,
          279,
          280,
          281,
          282,
          283,
          284,
          285,
          286,
          287,
          288,
          289,
          290,
          291,
          292,
          293,
          294,
          295,
          296,
          297,
          298,
          299,
          300,
          301,
          302,
          303,
          304,
          305,
          306,
          307,
          308,
          309,
          310,
          311,
          312,
          313,
          314,
          315,
          316,
          317,
          318,
          319,
          320,
          321,
          322,
          323,
          324,
          325,
          326,
          327,
          328,
          329,
          330,
          331,
          332,
          333,
          334,
          335,
          336,
          337,
          338,
          339,
          340,
          341,
          342,
          343,
          344,
          345,
          346,
          347,
          348,
          349,
          350,
          351,
          352,
          353,
          354,
          355,
          356,
          357,
          358,
          359
         ],
         "y": [
          94682.69613243417,
          94582.00479916685,
          94480.41470466286,
          94377.90202817204,
          94274.44322098192,
          94170.01499480513,
          94064.59431070057,
          93958.15836851268,
          93850.68459681384,
          93742.15064333593,
          93632.53436587744,
          93521.81382367312,
          93409.96726921403,
          93296.97314050612,
          93182.81005375611,
          93067.45679647414,
          92950.89232098276,
          92833.09573832277,
          92714.04631254644,
          92593.72345538954,
          92472.10672131338,
          92349.17580290926,
          92224.91052665739,
          92099.29084903315,
          91972.29685295364,
          91843.90874455814,
          91714.10685031586,
          91582.87161445532,
          91450.18359670944,
          91316.02347037099,
          91180.37202065322,
          91043.21014335073,
          90904.5188437959,
          90764.27923610635,
          90622.47254271923,
          90479.08009420823,
          90334.08332937935,
          90187.46379564187,
          90039.20314965078,
          89889.28315821735,
          89737.68569948457,
          89584.39276436433,
          89429.38645823317,
          89272.649002884,
          89114.16273873056,
          88953.9101272622,
          88791.87375374626,
          88628.0363301753,
          88462.38069845692,
          88294.88983384351,
          88125.54684859945,
          87954.3349959036,
          87781.23767398437,
          87606.23843048533,
          87429.32096705867,
          87250.46914418438,
          87069.66698621266,
          86886.8986866271,
          86702.1486135263,
          86515.40131532127,
          86326.64152664633,
          86135.85417448057,
          85943.02438447755,
          85748.13748750022,
          85551.17902635837,
          85352.1347627457,
          85150.99068437342,
          84947.73301229723,
          84742.34820843457,
          84534.82298326853,
          84325.14430373514,
          84113.29940129025,
          83899.27578015218,
          83683.06122571629,
          83464.64381313714,
          83244.01191607422,
          83021.15421559643,
          82796.05970924092,
          82568.71772022125,
          82339.11790677988,
          82107.2502716796,
          81873.10517182859,
          81636.67332803321,
          81397.94583487265,
          81156.91417068928,
          80913.57020768824,
          80667.90622213963,
          80419.91490467638,
          80169.58937068064,
          79916.92317075127,
          79661.91030124476,
          79404.54521488158,
          79144.82283140984,
          78882.7385483176,
          78618.28825158536,
          78351.46832646933,
          78082.27566830654,
          77810.7076933319,
          77536.76234949756,
          77260.43812728426,
          76981.73407049448,
          76700.64978701647,
          76417.18545954837,
          76131.34185627109,
          75843.1203414585,
          75552.52288601332,
          75259.55207791636,
          74964.21113257729,
          74666.50390307403,
          74366.43489026839,
          74064.00925278467,
          73759.23281683834,
          73452.11208590113,
          73142.65425018915,
          72830.86719596019,
          72516.75951460612,
          72200.34051152649,
          71881.62021476892,
          71560.60938342182,
          71237.31951574505,
          70911.76285702383,
          70583.95240713104,
          70253.90192778346,
          69921.62594947663,
          69587.13977808393,
          69250.45950110469,
          68911.60199354652,
          68570.5849234271,
          68227.42675688058,
          67882.14676285388,
          67534.76501737827,
          67185.30240740186,
          66833.78063416848,
          66480.22221612907,
          66124.65049137139,
          65767.08961955448,
          65407.56458333447,
          65046.10118926846,
          64682.726068183765,
          64317.46667499995,
          63950.35128799165,
          63581.40900748038,
          63210.66975394414,
          62838.164265534026,
          62463.92409498754,
          62087.9816059288,
          61710.36996854653,
          61331.123154641136,
          60950.27593203287,
          60567.86385832379,
          60183.92327400676,
          59798.49129491551,
          59411.60580401062,
          59023.30544249675,
          58633.62960026756,
          58242.61840567534,
          57850.31271462334,
          57456.75409897946,
          57061.984834311144,
          56666.0478869419,
          56268.986900330965,
          55870.84618077853,
          55471.670682459924,
          55071.50599179306,
          54670.39831114445,
          54268.39444188007,
          53865.54176676855,
          53461.88823174476,
          53057.48232704332,
          52652.37306771232,
          52246.60997351863,
          51840.24304825721,
          51433.32275847784,
          51025.9000116437,
          50618.02613373723,
          50209.752846329735,
          49801.13224313216,
          49392.21676604538,
          48983.05918072941,
          48573.71255171183,
          48164.23021705658,
          47754.665762615245,
          47345.07299588382,
          46935.50591948872,
          46526.01870432665,
          46116.66566238367,
          45707.5012192597,
          45298.579886425134,
          44889.956233237135,
          44481.684858743676,
          44073.82036330403,
          43666.417320054905,
          43259.530246251896,
          42853.21357451643,
          42447.521624018686,
          42042.50857162735,
          41638.22842305734,
          41234.73498404681,
          40832.08183159505,
          40430.32228529289,
          40029.50937877717,
          39629.69583134126,
          39230.934019733,
          38833.2759501717,
          38436.773230615574,
          38041.477043310675,
          37647.43811765216,
          37254.70670338835,
          36863.33254419773,
          36473.36485166831,
          36084.85227970862,
          35697.8428994187,
          35312.38417444903,
          34928.52293687453,
          34546.3053636101,
          34165.77695339338,
          33786.982504359505,
          33409.96609223184,
          33034.771049151765,
          32661.439943169415,
          32290.01455841659,
          31920.535875981743,
          31553.044055505972,
          31187.57841751789,
          30824.177426523944,
          30462.878674869782,
          30103.71886738689,
          29746.733806837634,
          29391.958380170527,
          29039.426545596365,
          28689.171320494508,
          28341.22477015742,
          27995.61799738022,
          27652.381132900766,
          27311.543326694427,
          26973.132740126544,
          26637.176538964173,
          26303.700887247494,
          25972.730942020007,
          25644.290848915396,
          25318.40373859765,
          24995.091724049926,
          24674.37589870632,
          24356.276335419672,
          24040.81208625729,
          23728.001183115404,
          23417.8606391421,
          23110.406450957405,
          22805.653601658185,
          22503.616064594557,
          22204.30680790355,
          21907.73779978489,
          21613.920014502863,
          21322.86343909749,
          21034.57708078737,
          20749.068975045884,
          20466.34619433178,
          20186.414857454485,
          19909.280139553903,
          19634.946282673973,
          19363.416606908693,
          19094.69352209893,
          18828.778540057887,
          18565.672287302827,
          18305.374518270244,
          18047.88412899152,
          17793.19917120584,
          17541.316866886966,
          17292.23362316044,
          17045.945047587586,
          16802.44596379277,
          16561.730427410326,
          16323.791742327647,
          16088.622477200995,
          15856.214482220796,
          15626.558906103272,
          15399.64621328556,
          15175.466201301648,
          14954.00801831677,
          14735.260180798232,
          14519.21059130095,
          14305.846556346372,
          14095.154804373875,
          13887.12150374411,
          13681.732280774273,
          13478.972237785709,
          13278.82597114478,
          13081.277589278427,
          12886.310730646373,
          12693.908581652528,
          12504.053894478597,
          12316.729004823595,
          12131.915849533474,
          11949.595984105672,
          11769.750600054038,
          11592.360542120134,
          11417.40632531757,
          11244.868151796634,
          11074.725927517065,
          10906.959278717497,
          10741.547568170648,
          10578.469911213999,
          10417.70519154628,
          10259.232076780718,
          10103.029033746576,
          9949.074343531125,
          9797.346116254777,
          9647.822305572672,
          9500.480722896604,
          9355.299051331709,
          9212.254859322904,
          9071.325614006593,
          8932.488694263686,
          8795.721403470487,
          8661.000981944511,
          8528.304619082779,
          8397.609465190584,
          8268.892642999233,
          8142.131258871657,
          8017.3024136952345,
          7894.383213461592,
          7773.350779533531,
          7654.182258599604,
          7536.854832317262,
          7421.345726645791,
          7307.632220870652,
          7195.691656321112,
          7085.501444783358,
          6977.039076611626,
          6870.282128540062,
          6765.20827119838,
          6661.795276334547,
          6560.021023748015,
          6459.86350793718,
          6361.300844464986,
          6264.3112760467575,
          6168.87317836451,
          6074.965065612157,
          5982.5655957761755,
          5891.653575656413,
          5802.207965631835,
          5714.2078841761495,
          5627.632612128291,
          5542.461596722868,
          5458.674455385744,
          5376.250979299959,
          5295.1711367472835,
          5215.4150762307245,
          5136.963129383322,
          5059.795813668621,
          4983.8938348782085,
          4909.2380894317,
          4835.809666484586,
          4763.589849849309,
          4692.560119734944,
          4622.702154310841,
          4553.997831099521,
          4486.429228204133,
          4419.978625375702,
          4354.628504925355
         ]
        },
        {
         "mode": "lines",
         "name": "Exposed",
         "type": "scatter",
         "x": [
          0,
          1,
          2,
          3,
          4,
          5,
          6,
          7,
          8,
          9,
          10,
          11,
          12,
          13,
          14,
          15,
          16,
          17,
          18,
          19,
          20,
          21,
          22,
          23,
          24,
          25,
          26,
          27,
          28,
          29,
          30,
          31,
          32,
          33,
          34,
          35,
          36,
          37,
          38,
          39,
          40,
          41,
          42,
          43,
          44,
          45,
          46,
          47,
          48,
          49,
          50,
          51,
          52,
          53,
          54,
          55,
          56,
          57,
          58,
          59,
          60,
          61,
          62,
          63,
          64,
          65,
          66,
          67,
          68,
          69,
          70,
          71,
          72,
          73,
          74,
          75,
          76,
          77,
          78,
          79,
          80,
          81,
          82,
          83,
          84,
          85,
          86,
          87,
          88,
          89,
          90,
          91,
          92,
          93,
          94,
          95,
          96,
          97,
          98,
          99,
          100,
          101,
          102,
          103,
          104,
          105,
          106,
          107,
          108,
          109,
          110,
          111,
          112,
          113,
          114,
          115,
          116,
          117,
          118,
          119,
          120,
          121,
          122,
          123,
          124,
          125,
          126,
          127,
          128,
          129,
          130,
          131,
          132,
          133,
          134,
          135,
          136,
          137,
          138,
          139,
          140,
          141,
          142,
          143,
          144,
          145,
          146,
          147,
          148,
          149,
          150,
          151,
          152,
          153,
          154,
          155,
          156,
          157,
          158,
          159,
          160,
          161,
          162,
          163,
          164,
          165,
          166,
          167,
          168,
          169,
          170,
          171,
          172,
          173,
          174,
          175,
          176,
          177,
          178,
          179,
          180,
          181,
          182,
          183,
          184,
          185,
          186,
          187,
          188,
          189,
          190,
          191,
          192,
          193,
          194,
          195,
          196,
          197,
          198,
          199,
          200,
          201,
          202,
          203,
          204,
          205,
          206,
          207,
          208,
          209,
          210,
          211,
          212,
          213,
          214,
          215,
          216,
          217,
          218,
          219,
          220,
          221,
          222,
          223,
          224,
          225,
          226,
          227,
          228,
          229,
          230,
          231,
          232,
          233,
          234,
          235,
          236,
          237,
          238,
          239,
          240,
          241,
          242,
          243,
          244,
          245,
          246,
          247,
          248,
          249,
          250,
          251,
          252,
          253,
          254,
          255,
          256,
          257,
          258,
          259,
          260,
          261,
          262,
          263,
          264,
          265,
          266,
          267,
          268,
          269,
          270,
          271,
          272,
          273,
          274,
          275,
          276,
          277,
          278,
          279,
          280,
          281,
          282,
          283,
          284,
          285,
          286,
          287,
          288,
          289,
          290,
          291,
          292,
          293,
          294,
          295,
          296,
          297,
          298,
          299,
          300,
          301,
          302,
          303,
          304,
          305,
          306,
          307,
          308,
          309,
          310,
          311,
          312,
          313,
          314,
          315,
          316,
          317,
          318,
          319,
          320,
          321,
          322,
          323,
          324,
          325,
          326,
          327,
          328,
          329,
          330,
          331,
          332,
          333,
          334,
          335,
          336,
          337,
          338,
          339,
          340,
          341,
          342,
          343,
          344,
          345,
          346,
          347,
          348,
          349,
          350,
          351,
          352,
          353,
          354,
          355,
          356,
          357,
          358,
          359
         ],
         "y": [
          3544.86924504389,
          3610.1118858607615,
          3675.6008615061432,
          3741.3575293818953,
          3807.402761278205,
          3873.756959842222,
          3940.440074348353,
          4007.471615792761,
          4074.8706713336783,
          4142.655918098249,
          4210.8456363757605,
          4279.457722216324,
          4348.509699453249,
          4418.018731166632,
          4488.001630604973,
          4558.474871580897,
          4629.454598356471,
          4700.956635032906,
          4772.996494458894,
          4845.589386671205,
          4918.7502268806475,
          4992.493643015955,
          5066.83398283766,
          5141.785320633533,
          5217.361463506705,
          5293.575957267147,
          5370.4420919367585,
          5447.972906877931,
          5526.18119555503,
          5605.0795099379275,
          5684.6801645563155,
          5764.995240213238,
          5846.0365873659375,
          5927.815829181833,
          6010.344364277135,
          6093.633369145373,
          6177.693800282797,
          6262.536396017444,
          6348.171678048357,
          6434.609952701303,
          6521.861311907064,
          6609.935633908242,
          6698.842583700308,
          6788.5916132124685,
          6879.191961233783,
          6970.652653089798,
          7062.982500074848,
          7156.19009864506,
          7250.283829376979,
          7345.271855696622,
          7441.162122383712,
          7537.9623538557325,
          7635.680052236402,
          7734.322495213082,
          7833.896733687616,
          7934.409589225025,
          8035.867651304491,
          8138.277274376997,
          8241.644574734031,
          8345.975427191712,
          8451.275461594736,
          8557.550059144542,
          8664.804348556112,
          8773.043202047886,
          8882.271231169258,
          8992.49278247023,
          9103.711933017808,
          9215.932485763813,
          9329.157964768841,
          9443.391610287203,
          9558.636373717725,
          9674.894912425443,
          9792.169584439256,
          9910.462443030763,
          10029.775231179601,
          10150.109375930728,
          10271.46598264921,
          10393.845829178224,
          10517.249359906104,
          10641.676679748416,
          10767.127548051212,
          10893.601372421708,
          11021.097202492872,
          11149.613723628503,
          11279.149250575587,
          11409.70172107087,
          11541.268689408771,
          11673.847319977938,
          11807.434380773904,
          11942.026236895535,
          12077.618844033092,
          12214.207741955935,
          12351.788048008128,
          12490.354450620287,
          12629.901202846337,
          12770.422115933905,
          12911.910552937356,
          13054.359422382619,
          13197.761171993143,
          13342.107782486511,
          13487.390761451423,
          13633.601137314909,
          13780.729453409856,
          13928.76576215305,
          14077.699619344106,
          14227.520078595855,
          14378.215685906853,
          14529.774474386857,
          14682.18395914624,
          14835.431132360414,
          14989.502458520517,
          15144.383869881638,
          15300.060762120029,
          15456.5179902108,
          15613.739864537658,
          15771.710147246358,
          15930.412048853523,
          16089.828225122561,
          16249.940774218438,
          16410.731234153016,
          16572.180580532717,
          16734.26922462017,
          16896.977011721556,
          17060.283219911173,
          17224.16655910476,
          17388.60517049296,
          17553.576626346206,
          17719.057930202165,
          17885.02551744666,
          18051.45525629889,
          18218.322449211504,
          18385.601834695808,
          18553.26758958223,
          18721.293331725814,
          18889.65212316624,
          19058.31647375149,
          19227.258345233986,
          19396.449155847655,
          19565.859785373876,
          19735.460580703948,
          19905.22136190521,
          20075.11142879743,
          20245.099568045698,
          20415.154060775352,
          20585.242690714087,
          20755.332752865685,
          20925.391062719296,
          21095.3839659975,
          21265.277348945787,
          21435.036649165406,
          21604.626866990788,
          21774.012577412126,
          21943.157942542894,
          22112.026724631334,
          22280.582299614212,
          22448.787671210284,
          22616.605485550186,
          22783.998046338565,
          22950.927330543494,
          23117.3550046073,
          23283.242441172166,
          23448.55073631288,
          23613.240727268352,
          23777.273010662528,
          23940.60796120452,
          24103.205750856854,
          24265.026368459803,
          24426.029639798995,
          24586.175248102445,
          24745.42275495242,
          24903.731621596584,
          25061.061230642037,
          25217.370908114986,
          25372.61994586798,
          25526.767624315777,
          25679.773235480112,
          25831.596106322886,
          25982.195622346437,
          26131.53125143894,
          26279.56256794213,
          26426.24927691796,
          26571.551238590117,
          26715.42849293564,
          26857.84128440138,
          26998.75008671944,
          27138.115627795225,
          27275.898914641242,
          27412.061258329395,
          27546.564298934103,
          27679.370030438222,
          27810.440825573485,
          27939.739460566878,
          28067.22913976422,
          28192.873520102043,
          28316.636735398763,
          28438.483420436103,
          28558.378734801754,
          28676.288386464268,
          28792.17865505138,
          28906.016414803034,
          29017.769157170722,
          29127.40501303492,
          29234.89277451283,
          29340.201916329006,
          29443.30261672184,
          29544.16577785952,
          29642.763045739448,
          29739.066829545856,
          29833.05032044102,
          29924.68750976603,
          30013.953206628063,
          30100.823054851702,
          30185.273549272853,
          30267.28205135462,
          30346.8268041055,
          30423.886946281167,
          30498.442525852235,
          30570.474512721376,
          30639.96481067424,
          30706.896268549848,
          30771.252690617173,
          30833.01884614585,
          30892.18047816016,
          30948.724311366645,
          31002.638059246925,
          31053.910430308617,
          31102.53113348842,
          31148.490882702794,
          31191.781400542874,
          31232.395421111607,
          31270.32669200235,
          31305.569975419414,
          31338.121048442415,
          31367.976702437445,
          31395.13474161941,
          31419.5939807711,
          31441.35424212576,
          31460.41635142118,
          31476.782133134453,
          31490.45440490772,
          31501.436971176387,
          31509.73461601235,
          31515.353095195835,
          31518.29912753052,
          31518.580385417597,
          31516.205484705308,
          31511.183973831558,
          31503.52632227794,
          31493.24390835438,
          31480.349006334465,
          31464.854772962128,
          31446.775233351167,
          31426.12526629968,
          31402.920589042056,
          31377.177741461757,
          31348.91406978863,
          31318.147709804845,
          31284.897569584093,
          31249.183311788835,
          31211.025335550876,
          31170.444757960646,
          31127.463395190804,
          31082.10374327994,
          31034.388958602198,
          30984.34283804876,
          30931.989798946997,
          30877.35485874321,
          30820.46361447465,
          30761.34222205643,
          30700.017375408723,
          30636.516285449452,
          30570.8666589774,
          30503.096677470305,
          30433.23497582225,
          30361.31062104423,
          30287.353090951314,
          30211.39225285951,
          30133.45834231483,
          30053.581941876557,
          29971.79395997633,
          29888.12560987385,
          29802.608388729688,
          29715.274056814887,
          29626.1546168765,
          29535.282293677574,
          29442.68951372936,
          29348.408885232995,
          29252.47317824702,
          29154.9153050966,
          29055.76830103948,
          28955.065305203017,
          28852.839541805988,
          28749.12430167805,
          28643.952924089073,
          28537.358778899816,
          28429.375249044722,
          28320.03571335684,
          28209.373529744207,
          28097.422018726334,
          27984.21444733864,
          27869.784013412103,
          27754.163830234633,
          27637.386911600006,
          27519.48615724957,
          27400.494338711214,
          27280.44408553955,
          27159.367871960505,
          27037.298003923006,
          26914.266606559846,
          26790.305612059143,
          26665.446747947357,
          26539.721525784193,
          26413.16123026926,
          26285.796908759767,
          26157.659361198144,
          26028.779130447896,
          25899.186493035613,
          25768.911450296608,
          25637.983719921216,
          25506.432727898427,
          25374.287600853087,
          25241.57715877262,
          25108.32990811882,
          24974.574035319973,
          24840.337400638244,
          24705.647532406998,
          24570.531621632468,
          24435.016516953896,
          24299.12871995609,
          24162.894380828093,
          24026.339294361493,
          23889.48889628171,
          23752.368259905423,
          23615.002093117204,
          23477.414735658225,
          23339.63015671987,
          23201.67195283492,
          23063.563346058923,
          22925.327182434314,
          22786.985930729734,
          22648.561681447016,
          22510.07614608823,
          22371.55065667521,
          22233.006165513878,
          22094.463245195864,
          21955.94208882969,
          21817.46251049407,
          21679.04394590569,
          21540.705453294035,
          21402.465714475795,
          21264.34303612145,
          21126.35535120674,
          20988.52022064179,
          20850.854835070648,
          20713.376016834307,
          20576.100222090066,
          20439.043543080486,
          20302.22171054507,
          20165.65009626805,
          20029.343715755716
         ]
        },
        {
         "mode": "lines",
         "name": "Exposed",
         "type": "scatter",
         "x": [
          0,
          1,
          2,
          3,
          4,
          5,
          6,
          7,
          8,
          9,
          10,
          11,
          12,
          13,
          14,
          15,
          16,
          17,
          18,
          19,
          20,
          21,
          22,
          23,
          24,
          25,
          26,
          27,
          28,
          29,
          30,
          31,
          32,
          33,
          34,
          35,
          36,
          37,
          38,
          39,
          40,
          41,
          42,
          43,
          44,
          45,
          46,
          47,
          48,
          49,
          50,
          51,
          52,
          53,
          54,
          55,
          56,
          57,
          58,
          59,
          60,
          61,
          62,
          63,
          64,
          65,
          66,
          67,
          68,
          69,
          70,
          71,
          72,
          73,
          74,
          75,
          76,
          77,
          78,
          79,
          80,
          81,
          82,
          83,
          84,
          85,
          86,
          87,
          88,
          89,
          90,
          91,
          92,
          93,
          94,
          95,
          96,
          97,
          98,
          99,
          100,
          101,
          102,
          103,
          104,
          105,
          106,
          107,
          108,
          109,
          110,
          111,
          112,
          113,
          114,
          115,
          116,
          117,
          118,
          119,
          120,
          121,
          122,
          123,
          124,
          125,
          126,
          127,
          128,
          129,
          130,
          131,
          132,
          133,
          134,
          135,
          136,
          137,
          138,
          139,
          140,
          141,
          142,
          143,
          144,
          145,
          146,
          147,
          148,
          149,
          150,
          151,
          152,
          153,
          154,
          155,
          156,
          157,
          158,
          159,
          160,
          161,
          162,
          163,
          164,
          165,
          166,
          167,
          168,
          169,
          170,
          171,
          172,
          173,
          174,
          175,
          176,
          177,
          178,
          179,
          180,
          181,
          182,
          183,
          184,
          185,
          186,
          187,
          188,
          189,
          190,
          191,
          192,
          193,
          194,
          195,
          196,
          197,
          198,
          199,
          200,
          201,
          202,
          203,
          204,
          205,
          206,
          207,
          208,
          209,
          210,
          211,
          212,
          213,
          214,
          215,
          216,
          217,
          218,
          219,
          220,
          221,
          222,
          223,
          224,
          225,
          226,
          227,
          228,
          229,
          230,
          231,
          232,
          233,
          234,
          235,
          236,
          237,
          238,
          239,
          240,
          241,
          242,
          243,
          244,
          245,
          246,
          247,
          248,
          249,
          250,
          251,
          252,
          253,
          254,
          255,
          256,
          257,
          258,
          259,
          260,
          261,
          262,
          263,
          264,
          265,
          266,
          267,
          268,
          269,
          270,
          271,
          272,
          273,
          274,
          275,
          276,
          277,
          278,
          279,
          280,
          281,
          282,
          283,
          284,
          285,
          286,
          287,
          288,
          289,
          290,
          291,
          292,
          293,
          294,
          295,
          296,
          297,
          298,
          299,
          300,
          301,
          302,
          303,
          304,
          305,
          306,
          307,
          308,
          309,
          310,
          311,
          312,
          313,
          314,
          315,
          316,
          317,
          318,
          319,
          320,
          321,
          322,
          323,
          324,
          325,
          326,
          327,
          328,
          329,
          330,
          331,
          332,
          333,
          334,
          335,
          336,
          337,
          338,
          339,
          340,
          341,
          342,
          343,
          344,
          345,
          346,
          347,
          348,
          349,
          350,
          351,
          352,
          353,
          354,
          355,
          356,
          357,
          358,
          359
         ],
         "y": [
          1772.434622521945,
          1790.1589687471644,
          1808.3584979183004,
          1827.0309215541788,
          1846.1741876324559,
          1865.7864733689134,
          1885.8661782336465,
          1906.4119171947934,
          1927.422514180773,
          1948.896995752302,
          1970.8345849757616,
          1993.2346954897616,
          2016.0969257570273,
          2039.4210534939896,
          2063.207030270716,
          2087.4549762740585,
          2112.165175227127,
          2137.3380694584203,
          2162.9742551141653,
          2189.0744775076128,
          2215.6396265992485,
          2242.6707326020623,
          2270.168961706201,
          2298.1356119175157,
          2326.572109004676,
          2355.480002549696,
          2384.8609620968705,
          2414.7167733952692,
          2445.049334730096,
          2475.860653338345,
          2507.1528419043407,
          2538.9281151308605,
          2571.188786381684,
          2603.9372643915267,
          2637.17605003943,
          2670.907733181807,
          2705.134989541443,
          2739.860577648856,
          2775.087335832542,
          2810.8181792547,
          2847.0560969891662,
          2883.804149138345,
          2921.065463986044,
          2958.8432351831866,
          2997.1407189634792,
          3035.961231386182,
          3075.3081456032182,
          3115.1848891479344,
          3155.594941242906,
          3196.5418301242466,
          3238.0291303799704,
          3280.060460300008,
          3322.639479235565,
          3365.7698849655735,
          3409.4554110680488,
          3453.6998242942445,
          3498.5069219435522,
          3543.8805292371617,
          3589.82449668856,
          3636.3426974690146,
          3683.439024766242,
          3731.1173891345265,
          3779.381715834627,
          3828.2359421618416,
          3877.684014760702,
          3927.729886924788,
          3978.3775158802423,
          4029.630860051618,
          4081.4938763087403,
          4133.970517193341,
          4187.06472812428,
          4240.780444580215,
          4295.121589258667,
          4350.092069210473,
          4405.695772948676,
          4461.936567530985,
          4518.818295614982,
          4576.344772485324,
          4634.519783052253,
          4693.3470788207915,
          4752.830374830068,
          4812.973346562279,
          4873.779626820874,
          4935.252802577594,
          4997.396411788102,
          5060.213940175977,
          5123.708817984926,
          5187.884416699165,
          5252.744045731953,
          5318.290949082372,
          5384.528301960504,
          5451.45920738123,
          5519.086692726977,
          5587.413706279789,
          5656.443113723194,
          5726.1776946144255,
          5796.62013882762,
          5867.773042968718,
          5939.638906762857,
          6012.22012941516,
          6085.519005945874,
          6159.537723500929,
          6234.278357639069,
          6309.742868596777,
          6385.93309753234,
          6462.850762750458,
          6540.497455908911,
          6618.874638208891,
          6697.983636570671,
          6777.825639796426,
          6858.401694722066,
          6939.712702360051,
          7021.759414035267,
          7104.542427516114,
          7188.062183143061,
          7272.318959957007,
          7357.3128718299,
          7443.043863600136,
          7529.511707215361,
          7616.7159978853915,
          7704.656150248068,
          7793.331394550914,
          7882.740772851607,
          7972.883135240307,
          8063.757136087015,
          8155.361230317193,
          8247.69366971895,
          8340.752499285223,
          8434.535553594393,
          8529.040453232916,
          8624.264601263576,
          8720.205179743056,
          8816.859146292583,
          8914.22323072548,
          9012.293931735483,
          9111.06751364979,
          9210.540003250808,
          9310.70718667064,
          9411.56460636241,
          9513.107558152524,
          9615.331088378038,
          9718.229991113309,
          9821.79880549015,
          9926.031813115706,
          10030.923035592303,
          10136.46623214352,
          10242.654897350742,
          10349.482259004428,
          10456.941276074358,
          10565.024636803073,
          10673.724756926697,
          10783.033778027337,
          10892.943566021184,
          11003.445709786401,
          11114.531519934852,
          11226.192027731646,
          11338.417984166432,
          11451.19985918027,
          11564.527841051853,
          11678.39183594677,
          11792.781467633375,
          11907.686077368762,
          12023.094723958204,
          12138.996183991305,
          12255.378952258017,
          12372.231242347483,
          12489.540987432578,
          12607.29584124285,
          12725.483179228411,
          12844.090099917152,
          12963.103426467504,
          13082.509708418795,
          13202.295223641027,
          13322.445980485767,
          13442.94772013959,
          13563.785919181351,
          13684.945792344339,
          13806.412295484124,
          13928.170128752747,
          14050.203739979608,
          14172.497328259233,
          14295.03484774582,
          14417.800011654263,
          14540.776296467076,
          14663.94694634642,
          14787.294977750149,
          14910.803184250599,
          15034.454141554505,
          15158.230212722254,
          15282.113553584371,
          15406.08611835291,
          15530.129665425116,
          15654.225763376535,
          15778.355797140412,
          15902.500974370028,
          16026.642331980316,
          16150.760742864873,
          16274.836922784243,
          16398.851437421043,
          16522.784709597345,
          16646.6170266494,
          16770.328547954614,
          16893.899312605416,
          17017.30924722449,
          17140.538173915535,
          17263.5658183436,
          17386.371817938758,
          17508.935730216766,
          17631.237041210057,
          17753.255174002366,
          17874.96949736,
          17996.35933445268,
          18117.403971656673,
          18238.082667432835,
          18358.374661272053,
          18478.25918270039,
          18597.715460336196,
          18716.722730991358,
          18835.26024880866,
          18953.307294427315,
          19070.84318416854,
          19187.84727923303,
          19304.298994902158,
          19420.177809734738,
          19535.46327475106,
          19650.135022596016,
          19764.172776673142,
          19877.556360241295,
          19990.26570546591,
          20102.28086241668,
          20213.58200800363,
          20324.149454843617,
          20433.963660049376,
          20543.005233933305,
          20651.254948618345,
          20758.693746548357,
          20865.302748890583,
          20971.063263822936,
          21075.95679469892,
          21179.965048083275,
          21283.06994165152,
          21385.25361194677,
          21486.498421987424,
          21586.78696871951,
          21686.10209030762,
          21784.42687325872,
          21881.744659373184,
          21978.039052517768,
          22073.29392521537,
          22167.49342504676,
          22260.621980859636,
          22352.664308780662,
          22443.605418026367,
          22533.4306165091,
          22622.12551623443,
          22709.676038486705,
          22796.068418799725,
          22881.289211709776,
          22965.32529528852,
          23048.163875453523,
          23129.792490054497,
          23210.19901273356,
          23289.37165655813,
          23367.298977425347,
          23443.969877237116,
          23519.37360684523,
          23593.499768766247,
          23666.338319666018,
          23737.879572614103,
          23808.114199108528,
          23877.03323087153,
          23944.62806141731,
          24010.89044739291,
          24075.812509693686,
          24139.386734354972,
          24201.605973221864,
          24262.46344439916,
          24321.95273248376,
          24380.067788582073,
          24436.802930115016,
          24492.15284041363,
          24546.11256810823,
          24598.677526314445,
          24649.84349161945,
          24699.60660287202,
          24747.963359780075,
          24794.910621319566,
          24840.445603958702,
          24884.565879701586,
          24927.269373955536,
          24968.554363226376,
          25008.419472646143,
          25046.863673337743,
          25083.886279621147,
          25119.486946065826,
          25153.665664394168,
          25186.42276024067,
          25217.758889771834,
          25247.675036171557,
          25276.172505997103,
          25303.252925410517,
          25328.918236290534,
          25353.170692229975,
          25376.012854423676,
          25397.447587451934,
          25417.478054964526,
          25436.107715270275,
          25453.340316837177,
          25469.179893708035,
          25483.630760836553,
          25496.697509348778,
          25508.385001734765,
          25518.69836697526,
          25527.6429956082,
          25535.224534739715,
          25541.448883004297,
          25546.322185478733,
          25549.850828554303,
          25552.041434771727,
          25552.900857623223,
          25552.436176325973,
          25550.654690571246,
          25547.56391525326,
          25543.171575181917,
          25537.485599783296,
          25530.514117791845,
          25522.265451937998,
          25512.74811363494,
          25501.97079766813,
          25489.94237689101,
          25476.67189693038,
          25462.16857090469,
          25446.441774158462,
          25429.501039015933,
          25411.356049556947,
          25392.01663641796,
          25371.49277162098,
          25349.79456343312,
          25326.932251259375,
          25302.916200571126,
          25277.75689787271,
          25251.464945708452,
          25224.05105771225,
          25195.52605370188,
          25165.90085482,
          25135.186478723757,
          25103.394034824818,
          25070.534719581512,
          25036.619811844754,
          25001.660668259246,
          24965.668718721412,
          24928.65546189541,
          24890.632460788525,
          24851.611338387058,
          24811.603773353894,
          24770.6214957887,
          24728.67628305171,
          24685.779955652,
          24641.94437320093,
          24597.181430431603
         ]
        },
        {
         "mode": "lines",
         "name": "Exposed",
         "type": "scatter",
         "x": [
          0,
          1,
          2,
          3,
          4,
          5,
          6,
          7,
          8,
          9,
          10,
          11,
          12,
          13,
          14,
          15,
          16,
          17,
          18,
          19,
          20,
          21,
          22,
          23,
          24,
          25,
          26,
          27,
          28,
          29,
          30,
          31,
          32,
          33,
          34,
          35,
          36,
          37,
          38,
          39,
          40,
          41,
          42,
          43,
          44,
          45,
          46,
          47,
          48,
          49,
          50,
          51,
          52,
          53,
          54,
          55,
          56,
          57,
          58,
          59,
          60,
          61,
          62,
          63,
          64,
          65,
          66,
          67,
          68,
          69,
          70,
          71,
          72,
          73,
          74,
          75,
          76,
          77,
          78,
          79,
          80,
          81,
          82,
          83,
          84,
          85,
          86,
          87,
          88,
          89,
          90,
          91,
          92,
          93,
          94,
          95,
          96,
          97,
          98,
          99,
          100,
          101,
          102,
          103,
          104,
          105,
          106,
          107,
          108,
          109,
          110,
          111,
          112,
          113,
          114,
          115,
          116,
          117,
          118,
          119,
          120,
          121,
          122,
          123,
          124,
          125,
          126,
          127,
          128,
          129,
          130,
          131,
          132,
          133,
          134,
          135,
          136,
          137,
          138,
          139,
          140,
          141,
          142,
          143,
          144,
          145,
          146,
          147,
          148,
          149,
          150,
          151,
          152,
          153,
          154,
          155,
          156,
          157,
          158,
          159,
          160,
          161,
          162,
          163,
          164,
          165,
          166,
          167,
          168,
          169,
          170,
          171,
          172,
          173,
          174,
          175,
          176,
          177,
          178,
          179,
          180,
          181,
          182,
          183,
          184,
          185,
          186,
          187,
          188,
          189,
          190,
          191,
          192,
          193,
          194,
          195,
          196,
          197,
          198,
          199,
          200,
          201,
          202,
          203,
          204,
          205,
          206,
          207,
          208,
          209,
          210,
          211,
          212,
          213,
          214,
          215,
          216,
          217,
          218,
          219,
          220,
          221,
          222,
          223,
          224,
          225,
          226,
          227,
          228,
          229,
          230,
          231,
          232,
          233,
          234,
          235,
          236,
          237,
          238,
          239,
          240,
          241,
          242,
          243,
          244,
          245,
          246,
          247,
          248,
          249,
          250,
          251,
          252,
          253,
          254,
          255,
          256,
          257,
          258,
          259,
          260,
          261,
          262,
          263,
          264,
          265,
          266,
          267,
          268,
          269,
          270,
          271,
          272,
          273,
          274,
          275,
          276,
          277,
          278,
          279,
          280,
          281,
          282,
          283,
          284,
          285,
          286,
          287,
          288,
          289,
          290,
          291,
          292,
          293,
          294,
          295,
          296,
          297,
          298,
          299,
          300,
          301,
          302,
          303,
          304,
          305,
          306,
          307,
          308,
          309,
          310,
          311,
          312,
          313,
          314,
          315,
          316,
          317,
          318,
          319,
          320,
          321,
          322,
          323,
          324,
          325,
          326,
          327,
          328,
          329,
          330,
          331,
          332,
          333,
          334,
          335,
          336,
          337,
          338,
          339,
          340,
          341,
          342,
          343,
          344,
          345,
          346,
          347,
          348,
          349,
          350,
          351,
          352,
          353,
          354,
          355,
          356,
          357,
          358,
          359
         ],
         "y": [
          0,
          17.72434622521945,
          35.62593591269109,
          53.70952089187409,
          71.97983010741588,
          90.44157198374043,
          109.09943671742957,
          127.95809849976604,
          147.02221767171397,
          166.2964428135217,
          185.78541277104472,
          205.49375862080234,
          225.42610557569995,
          245.5870748332702,
          265.9812853682101,
          286.61335567091726,
          307.48790543365783,
          328.6095571859291,
          349.9829378805133,
          371.61268043165495,
          393.5034252067311,
          415.6598214727236,
          438.0865287987442,
          460.7882184158062,
          483.76957453498136,
          507.03529562502814,
          530.5900956505251,
          554.4387052714937,
          578.5858730054464,
          603.0363663527473,
          627.7949728861308,
          652.8665013051742,
          678.2557824564828,
          703.9676703202997,
          730.007042964215,
          756.3788034646093,
          783.0878807964274,
          810.1392306918418,
          837.5378364683304,
          865.2887098266558,
          893.3968916192028,
          921.8674525890945,
          950.7054940804779,
          979.9161487203384,
          1009.5045810721703,
          1039.475988261805,
          1069.8356005756668,
          1100.588682031699,
          1131.7405309231783,
          1163.2964803356074,
          1195.2618986368498,
          1227.6421899406494,
          1260.4427945436494,
          1293.669189336005,
          1327.326888185661,
          1361.4214422963414,
          1395.9584405392839,
          1430.9435097587193,
          1466.382315051091,
          1502.2805600179765,
          1538.6439869926667,
          1575.478377240329,
          1612.7895511316744,
          1650.5833682900206,
          1688.865727711639,
          1727.6425678592461,
          1766.919866728494,
          1806.7036418872965,
          1846.9999504878126,
          1887.8148892509,
          1929.1545944228335,
          1971.0252417040763,
          2013.4330461498785,
          2056.3842620424653,
          2099.8851827345698,
          2143.9421404640566,
          2188.5615061393664,
          2233.7496890955163,
          2279.5131368203697,
          2325.858334650892,
          2372.7918054391002,
          2420.3201091874007,
          2468.4498426530236,
          2517.187638921232,
          2566.540166947008,
          2616.514131064889,
          2667.116270466649,
          2718.3533586464982,
          2770.23220281349,
          2822.7596432708096,
          2875.9425527616336,
          2929.7878357812388,
          2984.302427855051,
          3039.493294782321,
          3095.3674318451185,
          3151.9318629823506,
          3209.193639928495,
          3267.1598413167712,
          3325.8375717464583,
          3385.233960814087,
          3445.3561621082385,
          3506.2113521676974,
          3567.806729402707,
          3630.1495129790974,
          3693.246941665065,
          3757.1062726403884,
          3821.734780267893,
          3887.139754826982,
          3953.328501209071,
          4020.308337574778,
          4088.0865939727423,
          4156.670610919963,
          4226.067737943564,
          4296.285332083917,
          4367.330756359078,
          4439.211378190508,
          4511.934567790078,
          4585.507696508377,
          4659.938135144379,
          4735.2332522165325,
          4811.400412195387,
          4888.446973697867,
          4966.3802876433765,
          5045.207695371892,
          5124.936526724296,
          5205.574098085166,
          5287.127710388338,
          5369.604647085527,
          5453.012172078379,
          5537.357527614323,
          5622.647932146652,
          5708.8905781592875,
          5796.092629956718,
          5884.261221419644,
          5973.403453726899,
          6063.526393044253,
          6154.637068180751,
          6246.74246821326,
          6339.849540079966,
          6433.96518614359,
          6529.096261725115,
          6625.2495726088955,
          6722.431872520028,
          6820.649860574929,
          6919.910178706086,
          7020.21940906201,
          7121.584071383445,
          7224.010620356952,
          7327.5054429469965,
          7432.07485570774,
          7537.725102075771,
          7644.462349645039,
          7752.292687425312,
          7861.222123085524,
          7971.256580183388,
          8082.401895382736,
          8194.663815660053,
          8308.047995501718,
          8422.55999409352,
          8538.20527250404,
          8654.989190863507,
          8772.91700553984,
          8891.993866313529,
          9012.224813553112,
          9133.614775393025,
          9256.168564915606,
          9379.890877339081,
          9504.786287213406,
          9630.859245625836,
          9758.11407741812,
          9886.554978417293,
          10016.186012681968,
          10147.011109766156,
          10279.034062002565,
          10412.258521807424,
          10546.68799900882,
          10682.325858200633,
          10819.175316124076,
          10957.239439078918,
          11096.521140366445,
          11237.023177766241,
          11378.748151048834,
          11521.698499526292,
          11665.876499642834,
          11811.284262607505,
          11957.923732070969,
          12105.796681848471,
          12254.904713690978,
          12405.249255106522,
          12556.831557233745,
          12709.652692769589,
          12863.713553953117,
          13019.01485060737,
          13175.557108241135,
          13333.34066621254,
          13492.36567595624,
          13652.632099276043,
          13814.139706704691,
          13976.888075932533,
          14140.876590306743,
          14306.104437402717,
          14472.570607669211,
          14640.273893148758,
          14809.212886274812,
          14979.385978747057,
          15150.791360486213,
          15323.427018669649,
          15497.290736849036,
          15672.380094151204,
          15848.692464563304,
          16026.225016303328,
          16204.974711276927,
          16384.938304621453,
          16566.11234433802,
          16748.49317101235,
          16932.07691762507,
          17116.85950945207,
          17302.836664055434,
          17490.003891365348,
          17678.356493853433,
          17867.889566797705,
          18058.59799863939,
          18250.47647143172,
          18443.519461380743,
          18637.72123947809,
          18833.075872225603,
          19029.577222451564,
          19227.218950218296,
          19425.994513820708,
          19625.897170875367,
          19826.919979499533,
          20029.055799579568,
          20232.297294128006,
          20436.6369307285,
          20642.06698306783,
          20848.579532554013,
          21056.166470019496,
          21264.8194975084,
          21474.53013014663,
          21685.28969809362,
          21897.089348574453,
          22109.920047990967,
          22323.772584110433,
          22538.63756833031,
          22754.505438017502,
          22971.36645892058,
          23189.210727653168,
          23408.0281742469,
          23627.80856477208,
          23848.541504024233,
          24070.2164382747,
          24292.822658083296,
          24516.349301171103,
          24740.785355351367,
          24966.11966151646,
          25192.340916678804,
          25419.43767706367,
          25647.398361251668,
          25876.211253368765,
          26105.86450632165,
          26336.346145076186,
          26567.64406997673,
          26799.746060104066,
          27032.639776669646,
          27266.3127664439,
          27500.752465216272,
          27735.946201284725,
          27971.881198972387,
          28208.54458216905,
          28445.92337789519,
          28684.004519886275,
          28922.77485219499,
          29162.221132809165,
          29402.330037283093,
          29643.08816238003,
          29884.482029723582,
          30126.4980894558,
          30369.122723899793,
          30612.34225122463,
          30856.14292911045,
          31100.5109584116,
          31345.432486815735,
          31590.893612496817,
          31836.88038775996,
          32083.378822676154,
          32330.374888704875,
          32577.854522302674,
          32825.80362851587,
          33074.20808455545,
          33323.053743352466,
          33572.32643709202,
          33822.01198072429,
          34072.09617545075,
          34322.56481218413,
          34573.40367498034,
          34824.598544441,
          35076.135201084944,
          35327.99942868735,
          35580.17701758507,
          35832.65376794679,
          36085.41549300676,
          36338.44802226086,
          36591.737204623765,
          36845.26891154607,
          37099.0290400903,
          37353.003515964825,
          37607.178296514474,
          37861.539373667176,
          38116.07277683555,
          38370.76457577263,
          38625.60088338099,
          38880.567858474475,
          39135.65170849182,
          39390.838692161575,
          39646.115122117655,
          39901.467367465055,
          40156.8818562951,
          40412.34507814988,
          40667.843586435425,
          40923.36400078314,
          41178.89300935937,
          41434.41737112263,
          41689.92391802835,
          41945.39955718088,
          42200.83127293269,
          42456.20612893053,
          42711.51127010844,
          42966.73392462782,
          43221.86140576417,
          43476.88111374085,
          43731.78053750976,
          43986.54725647906,
          44241.16894218811,
          44495.63335992969,
          44749.92837031985,
          45004.04193081542,
          45257.9620971796,
          45511.67702489581,
          45765.17497053014,
          46018.44429304273,
          46271.47345504844,
          46524.25102402717,
          46776.76567348426,
          47029.006184061385,
          47280.961444598404,
          47532.62045314661,
          47783.97231793385,
          48035.0062582821,
          48285.71160547791,
          48536.07780359636,
          48786.09441027895,
          49035.75109746616,
          49285.03765208512,
          49533.94397669301,
          49782.46009007688,
          50030.57612781042,
          50278.2823427683,
          50525.56910559882,
          50772.42690515534,
          51018.84634888735
         ]
        }
       ],
       "layout": {
        "template": {
         "data": {
          "bar": [
           {
            "error_x": {
             "color": "#2a3f5f"
            },
            "error_y": {
             "color": "#2a3f5f"
            },
            "marker": {
             "line": {
              "color": "#E5ECF6",
              "width": 0.5
             },
             "pattern": {
              "fillmode": "overlay",
              "size": 10,
              "solidity": 0.2
             }
            },
            "type": "bar"
           }
          ],
          "barpolar": [
           {
            "marker": {
             "line": {
              "color": "#E5ECF6",
              "width": 0.5
             },
             "pattern": {
              "fillmode": "overlay",
              "size": 10,
              "solidity": 0.2
             }
            },
            "type": "barpolar"
           }
          ],
          "carpet": [
           {
            "aaxis": {
             "endlinecolor": "#2a3f5f",
             "gridcolor": "white",
             "linecolor": "white",
             "minorgridcolor": "white",
             "startlinecolor": "#2a3f5f"
            },
            "baxis": {
             "endlinecolor": "#2a3f5f",
             "gridcolor": "white",
             "linecolor": "white",
             "minorgridcolor": "white",
             "startlinecolor": "#2a3f5f"
            },
            "type": "carpet"
           }
          ],
          "choropleth": [
           {
            "colorbar": {
             "outlinewidth": 0,
             "ticks": ""
            },
            "type": "choropleth"
           }
          ],
          "contour": [
           {
            "colorbar": {
             "outlinewidth": 0,
             "ticks": ""
            },
            "colorscale": [
             [
              0,
              "#0d0887"
             ],
             [
              0.1111111111111111,
              "#46039f"
             ],
             [
              0.2222222222222222,
              "#7201a8"
             ],
             [
              0.3333333333333333,
              "#9c179e"
             ],
             [
              0.4444444444444444,
              "#bd3786"
             ],
             [
              0.5555555555555556,
              "#d8576b"
             ],
             [
              0.6666666666666666,
              "#ed7953"
             ],
             [
              0.7777777777777778,
              "#fb9f3a"
             ],
             [
              0.8888888888888888,
              "#fdca26"
             ],
             [
              1,
              "#f0f921"
             ]
            ],
            "type": "contour"
           }
          ],
          "contourcarpet": [
           {
            "colorbar": {
             "outlinewidth": 0,
             "ticks": ""
            },
            "type": "contourcarpet"
           }
          ],
          "heatmap": [
           {
            "colorbar": {
             "outlinewidth": 0,
             "ticks": ""
            },
            "colorscale": [
             [
              0,
              "#0d0887"
             ],
             [
              0.1111111111111111,
              "#46039f"
             ],
             [
              0.2222222222222222,
              "#7201a8"
             ],
             [
              0.3333333333333333,
              "#9c179e"
             ],
             [
              0.4444444444444444,
              "#bd3786"
             ],
             [
              0.5555555555555556,
              "#d8576b"
             ],
             [
              0.6666666666666666,
              "#ed7953"
             ],
             [
              0.7777777777777778,
              "#fb9f3a"
             ],
             [
              0.8888888888888888,
              "#fdca26"
             ],
             [
              1,
              "#f0f921"
             ]
            ],
            "type": "heatmap"
           }
          ],
          "heatmapgl": [
           {
            "colorbar": {
             "outlinewidth": 0,
             "ticks": ""
            },
            "colorscale": [
             [
              0,
              "#0d0887"
             ],
             [
              0.1111111111111111,
              "#46039f"
             ],
             [
              0.2222222222222222,
              "#7201a8"
             ],
             [
              0.3333333333333333,
              "#9c179e"
             ],
             [
              0.4444444444444444,
              "#bd3786"
             ],
             [
              0.5555555555555556,
              "#d8576b"
             ],
             [
              0.6666666666666666,
              "#ed7953"
             ],
             [
              0.7777777777777778,
              "#fb9f3a"
             ],
             [
              0.8888888888888888,
              "#fdca26"
             ],
             [
              1,
              "#f0f921"
             ]
            ],
            "type": "heatmapgl"
           }
          ],
          "histogram": [
           {
            "marker": {
             "pattern": {
              "fillmode": "overlay",
              "size": 10,
              "solidity": 0.2
             }
            },
            "type": "histogram"
           }
          ],
          "histogram2d": [
           {
            "colorbar": {
             "outlinewidth": 0,
             "ticks": ""
            },
            "colorscale": [
             [
              0,
              "#0d0887"
             ],
             [
              0.1111111111111111,
              "#46039f"
             ],
             [
              0.2222222222222222,
              "#7201a8"
             ],
             [
              0.3333333333333333,
              "#9c179e"
             ],
             [
              0.4444444444444444,
              "#bd3786"
             ],
             [
              0.5555555555555556,
              "#d8576b"
             ],
             [
              0.6666666666666666,
              "#ed7953"
             ],
             [
              0.7777777777777778,
              "#fb9f3a"
             ],
             [
              0.8888888888888888,
              "#fdca26"
             ],
             [
              1,
              "#f0f921"
             ]
            ],
            "type": "histogram2d"
           }
          ],
          "histogram2dcontour": [
           {
            "colorbar": {
             "outlinewidth": 0,
             "ticks": ""
            },
            "colorscale": [
             [
              0,
              "#0d0887"
             ],
             [
              0.1111111111111111,
              "#46039f"
             ],
             [
              0.2222222222222222,
              "#7201a8"
             ],
             [
              0.3333333333333333,
              "#9c179e"
             ],
             [
              0.4444444444444444,
              "#bd3786"
             ],
             [
              0.5555555555555556,
              "#d8576b"
             ],
             [
              0.6666666666666666,
              "#ed7953"
             ],
             [
              0.7777777777777778,
              "#fb9f3a"
             ],
             [
              0.8888888888888888,
              "#fdca26"
             ],
             [
              1,
              "#f0f921"
             ]
            ],
            "type": "histogram2dcontour"
           }
          ],
          "mesh3d": [
           {
            "colorbar": {
             "outlinewidth": 0,
             "ticks": ""
            },
            "type": "mesh3d"
           }
          ],
          "parcoords": [
           {
            "line": {
             "colorbar": {
              "outlinewidth": 0,
              "ticks": ""
             }
            },
            "type": "parcoords"
           }
          ],
          "pie": [
           {
            "automargin": true,
            "type": "pie"
           }
          ],
          "scatter": [
           {
            "marker": {
             "colorbar": {
              "outlinewidth": 0,
              "ticks": ""
             }
            },
            "type": "scatter"
           }
          ],
          "scatter3d": [
           {
            "line": {
             "colorbar": {
              "outlinewidth": 0,
              "ticks": ""
             }
            },
            "marker": {
             "colorbar": {
              "outlinewidth": 0,
              "ticks": ""
             }
            },
            "type": "scatter3d"
           }
          ],
          "scattercarpet": [
           {
            "marker": {
             "colorbar": {
              "outlinewidth": 0,
              "ticks": ""
             }
            },
            "type": "scattercarpet"
           }
          ],
          "scattergeo": [
           {
            "marker": {
             "colorbar": {
              "outlinewidth": 0,
              "ticks": ""
             }
            },
            "type": "scattergeo"
           }
          ],
          "scattergl": [
           {
            "marker": {
             "colorbar": {
              "outlinewidth": 0,
              "ticks": ""
             }
            },
            "type": "scattergl"
           }
          ],
          "scattermapbox": [
           {
            "marker": {
             "colorbar": {
              "outlinewidth": 0,
              "ticks": ""
             }
            },
            "type": "scattermapbox"
           }
          ],
          "scatterpolar": [
           {
            "marker": {
             "colorbar": {
              "outlinewidth": 0,
              "ticks": ""
             }
            },
            "type": "scatterpolar"
           }
          ],
          "scatterpolargl": [
           {
            "marker": {
             "colorbar": {
              "outlinewidth": 0,
              "ticks": ""
             }
            },
            "type": "scatterpolargl"
           }
          ],
          "scatterternary": [
           {
            "marker": {
             "colorbar": {
              "outlinewidth": 0,
              "ticks": ""
             }
            },
            "type": "scatterternary"
           }
          ],
          "surface": [
           {
            "colorbar": {
             "outlinewidth": 0,
             "ticks": ""
            },
            "colorscale": [
             [
              0,
              "#0d0887"
             ],
             [
              0.1111111111111111,
              "#46039f"
             ],
             [
              0.2222222222222222,
              "#7201a8"
             ],
             [
              0.3333333333333333,
              "#9c179e"
             ],
             [
              0.4444444444444444,
              "#bd3786"
             ],
             [
              0.5555555555555556,
              "#d8576b"
             ],
             [
              0.6666666666666666,
              "#ed7953"
             ],
             [
              0.7777777777777778,
              "#fb9f3a"
             ],
             [
              0.8888888888888888,
              "#fdca26"
             ],
             [
              1,
              "#f0f921"
             ]
            ],
            "type": "surface"
           }
          ],
          "table": [
           {
            "cells": {
             "fill": {
              "color": "#EBF0F8"
             },
             "line": {
              "color": "white"
             }
            },
            "header": {
             "fill": {
              "color": "#C8D4E3"
             },
             "line": {
              "color": "white"
             }
            },
            "type": "table"
           }
          ]
         },
         "layout": {
          "annotationdefaults": {
           "arrowcolor": "#2a3f5f",
           "arrowhead": 0,
           "arrowwidth": 1
          },
          "autotypenumbers": "strict",
          "coloraxis": {
           "colorbar": {
            "outlinewidth": 0,
            "ticks": ""
           }
          },
          "colorscale": {
           "diverging": [
            [
             0,
             "#8e0152"
            ],
            [
             0.1,
             "#c51b7d"
            ],
            [
             0.2,
             "#de77ae"
            ],
            [
             0.3,
             "#f1b6da"
            ],
            [
             0.4,
             "#fde0ef"
            ],
            [
             0.5,
             "#f7f7f7"
            ],
            [
             0.6,
             "#e6f5d0"
            ],
            [
             0.7,
             "#b8e186"
            ],
            [
             0.8,
             "#7fbc41"
            ],
            [
             0.9,
             "#4d9221"
            ],
            [
             1,
             "#276419"
            ]
           ],
           "sequential": [
            [
             0,
             "#0d0887"
            ],
            [
             0.1111111111111111,
             "#46039f"
            ],
            [
             0.2222222222222222,
             "#7201a8"
            ],
            [
             0.3333333333333333,
             "#9c179e"
            ],
            [
             0.4444444444444444,
             "#bd3786"
            ],
            [
             0.5555555555555556,
             "#d8576b"
            ],
            [
             0.6666666666666666,
             "#ed7953"
            ],
            [
             0.7777777777777778,
             "#fb9f3a"
            ],
            [
             0.8888888888888888,
             "#fdca26"
            ],
            [
             1,
             "#f0f921"
            ]
           ],
           "sequentialminus": [
            [
             0,
             "#0d0887"
            ],
            [
             0.1111111111111111,
             "#46039f"
            ],
            [
             0.2222222222222222,
             "#7201a8"
            ],
            [
             0.3333333333333333,
             "#9c179e"
            ],
            [
             0.4444444444444444,
             "#bd3786"
            ],
            [
             0.5555555555555556,
             "#d8576b"
            ],
            [
             0.6666666666666666,
             "#ed7953"
            ],
            [
             0.7777777777777778,
             "#fb9f3a"
            ],
            [
             0.8888888888888888,
             "#fdca26"
            ],
            [
             1,
             "#f0f921"
            ]
           ]
          },
          "colorway": [
           "#636efa",
           "#EF553B",
           "#00cc96",
           "#ab63fa",
           "#FFA15A",
           "#19d3f3",
           "#FF6692",
           "#B6E880",
           "#FF97FF",
           "#FECB52"
          ],
          "font": {
           "color": "#2a3f5f"
          },
          "geo": {
           "bgcolor": "white",
           "lakecolor": "white",
           "landcolor": "#E5ECF6",
           "showlakes": true,
           "showland": true,
           "subunitcolor": "white"
          },
          "hoverlabel": {
           "align": "left"
          },
          "hovermode": "closest",
          "mapbox": {
           "style": "light"
          },
          "paper_bgcolor": "white",
          "plot_bgcolor": "#E5ECF6",
          "polar": {
           "angularaxis": {
            "gridcolor": "white",
            "linecolor": "white",
            "ticks": ""
           },
           "bgcolor": "#E5ECF6",
           "radialaxis": {
            "gridcolor": "white",
            "linecolor": "white",
            "ticks": ""
           }
          },
          "scene": {
           "xaxis": {
            "backgroundcolor": "#E5ECF6",
            "gridcolor": "white",
            "gridwidth": 2,
            "linecolor": "white",
            "showbackground": true,
            "ticks": "",
            "zerolinecolor": "white"
           },
           "yaxis": {
            "backgroundcolor": "#E5ECF6",
            "gridcolor": "white",
            "gridwidth": 2,
            "linecolor": "white",
            "showbackground": true,
            "ticks": "",
            "zerolinecolor": "white"
           },
           "zaxis": {
            "backgroundcolor": "#E5ECF6",
            "gridcolor": "white",
            "gridwidth": 2,
            "linecolor": "white",
            "showbackground": true,
            "ticks": "",
            "zerolinecolor": "white"
           }
          },
          "shapedefaults": {
           "line": {
            "color": "#2a3f5f"
           }
          },
          "ternary": {
           "aaxis": {
            "gridcolor": "white",
            "linecolor": "white",
            "ticks": ""
           },
           "baxis": {
            "gridcolor": "white",
            "linecolor": "white",
            "ticks": ""
           },
           "bgcolor": "#E5ECF6",
           "caxis": {
            "gridcolor": "white",
            "linecolor": "white",
            "ticks": ""
           }
          },
          "title": {
           "x": 0.05
          },
          "xaxis": {
           "automargin": true,
           "gridcolor": "white",
           "linecolor": "white",
           "ticks": "",
           "title": {
            "standoff": 15
           },
           "zerolinecolor": "white",
           "zerolinewidth": 2
          },
          "yaxis": {
           "automargin": true,
           "gridcolor": "white",
           "linecolor": "white",
           "ticks": "",
           "title": {
            "standoff": 15
           },
           "zerolinecolor": "white",
           "zerolinewidth": 2
          }
         }
        },
        "title": {
         "text": "Epidemic Trend in Washington (Wave 1)",
         "x": 0.5
        },
        "xaxis": {
         "title": {
          "text": "Day"
         }
        },
        "yaxis": {
         "title": {
          "text": "Population per 100k"
         }
        }
       }
      },
      "text/html": [
       "<div>                            <div id=\"07f6b934-1d67-4f0e-95f1-442a6af3c2f4\" class=\"plotly-graph-div\" style=\"height:525px; width:100%;\"></div>            <script type=\"text/javascript\">                require([\"plotly\"], function(Plotly) {                    window.PLOTLYENV=window.PLOTLYENV || {};                                    if (document.getElementById(\"07f6b934-1d67-4f0e-95f1-442a6af3c2f4\")) {                    Plotly.newPlot(                        \"07f6b934-1d67-4f0e-95f1-442a6af3c2f4\",                        [{\"mode\":\"lines\",\"name\":\"Susceptible\",\"x\":[0,1,2,3,4,5,6,7,8,9,10,11,12,13,14,15,16,17,18,19,20,21,22,23,24,25,26,27,28,29,30,31,32,33,34,35,36,37,38,39,40,41,42,43,44,45,46,47,48,49,50,51,52,53,54,55,56,57,58,59,60,61,62,63,64,65,66,67,68,69,70,71,72,73,74,75,76,77,78,79,80,81,82,83,84,85,86,87,88,89,90,91,92,93,94,95,96,97,98,99,100,101,102,103,104,105,106,107,108,109,110,111,112,113,114,115,116,117,118,119,120,121,122,123,124,125,126,127,128,129,130,131,132,133,134,135,136,137,138,139,140,141,142,143,144,145,146,147,148,149,150,151,152,153,154,155,156,157,158,159,160,161,162,163,164,165,166,167,168,169,170,171,172,173,174,175,176,177,178,179,180,181,182,183,184,185,186,187,188,189,190,191,192,193,194,195,196,197,198,199,200,201,202,203,204,205,206,207,208,209,210,211,212,213,214,215,216,217,218,219,220,221,222,223,224,225,226,227,228,229,230,231,232,233,234,235,236,237,238,239,240,241,242,243,244,245,246,247,248,249,250,251,252,253,254,255,256,257,258,259,260,261,262,263,264,265,266,267,268,269,270,271,272,273,274,275,276,277,278,279,280,281,282,283,284,285,286,287,288,289,290,291,292,293,294,295,296,297,298,299,300,301,302,303,304,305,306,307,308,309,310,311,312,313,314,315,316,317,318,319,320,321,322,323,324,325,326,327,328,329,330,331,332,333,334,335,336,337,338,339,340,341,342,343,344,345,346,347,348,349,350,351,352,353,354,355,356,357,358,359],\"y\":[94682.69613243417,94582.00479916685,94480.41470466286,94377.90202817204,94274.44322098192,94170.01499480513,94064.59431070057,93958.15836851268,93850.68459681384,93742.15064333593,93632.53436587744,93521.81382367312,93409.96726921403,93296.97314050612,93182.81005375611,93067.45679647414,92950.89232098276,92833.09573832277,92714.04631254644,92593.72345538954,92472.10672131338,92349.17580290926,92224.91052665739,92099.29084903315,91972.29685295364,91843.90874455814,91714.10685031586,91582.87161445532,91450.18359670944,91316.02347037099,91180.37202065322,91043.21014335073,90904.5188437959,90764.27923610635,90622.47254271923,90479.08009420823,90334.08332937935,90187.46379564187,90039.20314965078,89889.28315821735,89737.68569948457,89584.39276436433,89429.38645823317,89272.649002884,89114.16273873056,88953.9101272622,88791.87375374626,88628.0363301753,88462.38069845692,88294.88983384351,88125.54684859945,87954.3349959036,87781.23767398437,87606.23843048533,87429.32096705867,87250.46914418438,87069.66698621266,86886.8986866271,86702.1486135263,86515.40131532127,86326.64152664633,86135.85417448057,85943.02438447755,85748.13748750022,85551.17902635837,85352.1347627457,85150.99068437342,84947.73301229723,84742.34820843457,84534.82298326853,84325.14430373514,84113.29940129025,83899.27578015218,83683.06122571629,83464.64381313714,83244.01191607422,83021.15421559643,82796.05970924092,82568.71772022125,82339.11790677988,82107.2502716796,81873.10517182859,81636.67332803321,81397.94583487265,81156.91417068928,80913.57020768824,80667.90622213963,80419.91490467638,80169.58937068064,79916.92317075127,79661.91030124476,79404.54521488158,79144.82283140984,78882.7385483176,78618.28825158536,78351.46832646933,78082.27566830654,77810.7076933319,77536.76234949756,77260.43812728426,76981.73407049448,76700.64978701647,76417.18545954837,76131.34185627109,75843.1203414585,75552.52288601332,75259.55207791636,74964.21113257729,74666.50390307403,74366.43489026839,74064.00925278467,73759.23281683834,73452.11208590113,73142.65425018915,72830.86719596019,72516.75951460612,72200.34051152649,71881.62021476892,71560.60938342182,71237.31951574505,70911.76285702383,70583.95240713104,70253.90192778346,69921.62594947663,69587.13977808393,69250.45950110469,68911.60199354652,68570.5849234271,68227.42675688058,67882.14676285388,67534.76501737827,67185.30240740186,66833.78063416848,66480.22221612907,66124.65049137139,65767.08961955448,65407.56458333447,65046.10118926846,64682.726068183765,64317.46667499995,63950.35128799165,63581.40900748038,63210.66975394414,62838.164265534026,62463.92409498754,62087.9816059288,61710.36996854653,61331.123154641136,60950.27593203287,60567.86385832379,60183.92327400676,59798.49129491551,59411.60580401062,59023.30544249675,58633.62960026756,58242.61840567534,57850.31271462334,57456.75409897946,57061.984834311144,56666.0478869419,56268.986900330965,55870.84618077853,55471.670682459924,55071.50599179306,54670.39831114445,54268.39444188007,53865.54176676855,53461.88823174476,53057.48232704332,52652.37306771232,52246.60997351863,51840.24304825721,51433.32275847784,51025.9000116437,50618.02613373723,50209.752846329735,49801.13224313216,49392.21676604538,48983.05918072941,48573.71255171183,48164.23021705658,47754.665762615245,47345.07299588382,46935.50591948872,46526.01870432665,46116.66566238367,45707.5012192597,45298.579886425134,44889.956233237135,44481.684858743676,44073.82036330403,43666.417320054905,43259.530246251896,42853.21357451643,42447.521624018686,42042.50857162735,41638.22842305734,41234.73498404681,40832.08183159505,40430.32228529289,40029.50937877717,39629.69583134126,39230.934019733,38833.2759501717,38436.773230615574,38041.477043310675,37647.43811765216,37254.70670338835,36863.33254419773,36473.36485166831,36084.85227970862,35697.8428994187,35312.38417444903,34928.52293687453,34546.3053636101,34165.77695339338,33786.982504359505,33409.96609223184,33034.771049151765,32661.439943169415,32290.01455841659,31920.535875981743,31553.044055505972,31187.57841751789,30824.177426523944,30462.878674869782,30103.71886738689,29746.733806837634,29391.958380170527,29039.426545596365,28689.171320494508,28341.22477015742,27995.61799738022,27652.381132900766,27311.543326694427,26973.132740126544,26637.176538964173,26303.700887247494,25972.730942020007,25644.290848915396,25318.40373859765,24995.091724049926,24674.37589870632,24356.276335419672,24040.81208625729,23728.001183115404,23417.8606391421,23110.406450957405,22805.653601658185,22503.616064594557,22204.30680790355,21907.73779978489,21613.920014502863,21322.86343909749,21034.57708078737,20749.068975045884,20466.34619433178,20186.414857454485,19909.280139553903,19634.946282673973,19363.416606908693,19094.69352209893,18828.778540057887,18565.672287302827,18305.374518270244,18047.88412899152,17793.19917120584,17541.316866886966,17292.23362316044,17045.945047587586,16802.44596379277,16561.730427410326,16323.791742327647,16088.622477200995,15856.214482220796,15626.558906103272,15399.64621328556,15175.466201301648,14954.00801831677,14735.260180798232,14519.21059130095,14305.846556346372,14095.154804373875,13887.12150374411,13681.732280774273,13478.972237785709,13278.82597114478,13081.277589278427,12886.310730646373,12693.908581652528,12504.053894478597,12316.729004823595,12131.915849533474,11949.595984105672,11769.750600054038,11592.360542120134,11417.40632531757,11244.868151796634,11074.725927517065,10906.959278717497,10741.547568170648,10578.469911213999,10417.70519154628,10259.232076780718,10103.029033746576,9949.074343531125,9797.346116254777,9647.822305572672,9500.480722896604,9355.299051331709,9212.254859322904,9071.325614006593,8932.488694263686,8795.721403470487,8661.000981944511,8528.304619082779,8397.609465190584,8268.892642999233,8142.131258871657,8017.3024136952345,7894.383213461592,7773.350779533531,7654.182258599604,7536.854832317262,7421.345726645791,7307.632220870652,7195.691656321112,7085.501444783358,6977.039076611626,6870.282128540062,6765.20827119838,6661.795276334547,6560.021023748015,6459.86350793718,6361.300844464986,6264.3112760467575,6168.87317836451,6074.965065612157,5982.5655957761755,5891.653575656413,5802.207965631835,5714.2078841761495,5627.632612128291,5542.461596722868,5458.674455385744,5376.250979299959,5295.1711367472835,5215.4150762307245,5136.963129383322,5059.795813668621,4983.8938348782085,4909.2380894317,4835.809666484586,4763.589849849309,4692.560119734944,4622.702154310841,4553.997831099521,4486.429228204133,4419.978625375702,4354.628504925355],\"type\":\"scatter\"},{\"mode\":\"lines\",\"name\":\"Exposed\",\"x\":[0,1,2,3,4,5,6,7,8,9,10,11,12,13,14,15,16,17,18,19,20,21,22,23,24,25,26,27,28,29,30,31,32,33,34,35,36,37,38,39,40,41,42,43,44,45,46,47,48,49,50,51,52,53,54,55,56,57,58,59,60,61,62,63,64,65,66,67,68,69,70,71,72,73,74,75,76,77,78,79,80,81,82,83,84,85,86,87,88,89,90,91,92,93,94,95,96,97,98,99,100,101,102,103,104,105,106,107,108,109,110,111,112,113,114,115,116,117,118,119,120,121,122,123,124,125,126,127,128,129,130,131,132,133,134,135,136,137,138,139,140,141,142,143,144,145,146,147,148,149,150,151,152,153,154,155,156,157,158,159,160,161,162,163,164,165,166,167,168,169,170,171,172,173,174,175,176,177,178,179,180,181,182,183,184,185,186,187,188,189,190,191,192,193,194,195,196,197,198,199,200,201,202,203,204,205,206,207,208,209,210,211,212,213,214,215,216,217,218,219,220,221,222,223,224,225,226,227,228,229,230,231,232,233,234,235,236,237,238,239,240,241,242,243,244,245,246,247,248,249,250,251,252,253,254,255,256,257,258,259,260,261,262,263,264,265,266,267,268,269,270,271,272,273,274,275,276,277,278,279,280,281,282,283,284,285,286,287,288,289,290,291,292,293,294,295,296,297,298,299,300,301,302,303,304,305,306,307,308,309,310,311,312,313,314,315,316,317,318,319,320,321,322,323,324,325,326,327,328,329,330,331,332,333,334,335,336,337,338,339,340,341,342,343,344,345,346,347,348,349,350,351,352,353,354,355,356,357,358,359],\"y\":[3544.86924504389,3610.1118858607615,3675.6008615061432,3741.3575293818953,3807.402761278205,3873.756959842222,3940.440074348353,4007.471615792761,4074.8706713336783,4142.655918098249,4210.8456363757605,4279.457722216324,4348.509699453249,4418.018731166632,4488.001630604973,4558.474871580897,4629.454598356471,4700.956635032906,4772.996494458894,4845.589386671205,4918.7502268806475,4992.493643015955,5066.83398283766,5141.785320633533,5217.361463506705,5293.575957267147,5370.4420919367585,5447.972906877931,5526.18119555503,5605.0795099379275,5684.6801645563155,5764.995240213238,5846.0365873659375,5927.815829181833,6010.344364277135,6093.633369145373,6177.693800282797,6262.536396017444,6348.171678048357,6434.609952701303,6521.861311907064,6609.935633908242,6698.842583700308,6788.5916132124685,6879.191961233783,6970.652653089798,7062.982500074848,7156.19009864506,7250.283829376979,7345.271855696622,7441.162122383712,7537.9623538557325,7635.680052236402,7734.322495213082,7833.896733687616,7934.409589225025,8035.867651304491,8138.277274376997,8241.644574734031,8345.975427191712,8451.275461594736,8557.550059144542,8664.804348556112,8773.043202047886,8882.271231169258,8992.49278247023,9103.711933017808,9215.932485763813,9329.157964768841,9443.391610287203,9558.636373717725,9674.894912425443,9792.169584439256,9910.462443030763,10029.775231179601,10150.109375930728,10271.46598264921,10393.845829178224,10517.249359906104,10641.676679748416,10767.127548051212,10893.601372421708,11021.097202492872,11149.613723628503,11279.149250575587,11409.70172107087,11541.268689408771,11673.847319977938,11807.434380773904,11942.026236895535,12077.618844033092,12214.207741955935,12351.788048008128,12490.354450620287,12629.901202846337,12770.422115933905,12911.910552937356,13054.359422382619,13197.761171993143,13342.107782486511,13487.390761451423,13633.601137314909,13780.729453409856,13928.76576215305,14077.699619344106,14227.520078595855,14378.215685906853,14529.774474386857,14682.18395914624,14835.431132360414,14989.502458520517,15144.383869881638,15300.060762120029,15456.5179902108,15613.739864537658,15771.710147246358,15930.412048853523,16089.828225122561,16249.940774218438,16410.731234153016,16572.180580532717,16734.26922462017,16896.977011721556,17060.283219911173,17224.16655910476,17388.60517049296,17553.576626346206,17719.057930202165,17885.02551744666,18051.45525629889,18218.322449211504,18385.601834695808,18553.26758958223,18721.293331725814,18889.65212316624,19058.31647375149,19227.258345233986,19396.449155847655,19565.859785373876,19735.460580703948,19905.22136190521,20075.11142879743,20245.099568045698,20415.154060775352,20585.242690714087,20755.332752865685,20925.391062719296,21095.3839659975,21265.277348945787,21435.036649165406,21604.626866990788,21774.012577412126,21943.157942542894,22112.026724631334,22280.582299614212,22448.787671210284,22616.605485550186,22783.998046338565,22950.927330543494,23117.3550046073,23283.242441172166,23448.55073631288,23613.240727268352,23777.273010662528,23940.60796120452,24103.205750856854,24265.026368459803,24426.029639798995,24586.175248102445,24745.42275495242,24903.731621596584,25061.061230642037,25217.370908114986,25372.61994586798,25526.767624315777,25679.773235480112,25831.596106322886,25982.195622346437,26131.53125143894,26279.56256794213,26426.24927691796,26571.551238590117,26715.42849293564,26857.84128440138,26998.75008671944,27138.115627795225,27275.898914641242,27412.061258329395,27546.564298934103,27679.370030438222,27810.440825573485,27939.739460566878,28067.22913976422,28192.873520102043,28316.636735398763,28438.483420436103,28558.378734801754,28676.288386464268,28792.17865505138,28906.016414803034,29017.769157170722,29127.40501303492,29234.89277451283,29340.201916329006,29443.30261672184,29544.16577785952,29642.763045739448,29739.066829545856,29833.05032044102,29924.68750976603,30013.953206628063,30100.823054851702,30185.273549272853,30267.28205135462,30346.8268041055,30423.886946281167,30498.442525852235,30570.474512721376,30639.96481067424,30706.896268549848,30771.252690617173,30833.01884614585,30892.18047816016,30948.724311366645,31002.638059246925,31053.910430308617,31102.53113348842,31148.490882702794,31191.781400542874,31232.395421111607,31270.32669200235,31305.569975419414,31338.121048442415,31367.976702437445,31395.13474161941,31419.5939807711,31441.35424212576,31460.41635142118,31476.782133134453,31490.45440490772,31501.436971176387,31509.73461601235,31515.353095195835,31518.29912753052,31518.580385417597,31516.205484705308,31511.183973831558,31503.52632227794,31493.24390835438,31480.349006334465,31464.854772962128,31446.775233351167,31426.12526629968,31402.920589042056,31377.177741461757,31348.91406978863,31318.147709804845,31284.897569584093,31249.183311788835,31211.025335550876,31170.444757960646,31127.463395190804,31082.10374327994,31034.388958602198,30984.34283804876,30931.989798946997,30877.35485874321,30820.46361447465,30761.34222205643,30700.017375408723,30636.516285449452,30570.8666589774,30503.096677470305,30433.23497582225,30361.31062104423,30287.353090951314,30211.39225285951,30133.45834231483,30053.581941876557,29971.79395997633,29888.12560987385,29802.608388729688,29715.274056814887,29626.1546168765,29535.282293677574,29442.68951372936,29348.408885232995,29252.47317824702,29154.9153050966,29055.76830103948,28955.065305203017,28852.839541805988,28749.12430167805,28643.952924089073,28537.358778899816,28429.375249044722,28320.03571335684,28209.373529744207,28097.422018726334,27984.21444733864,27869.784013412103,27754.163830234633,27637.386911600006,27519.48615724957,27400.494338711214,27280.44408553955,27159.367871960505,27037.298003923006,26914.266606559846,26790.305612059143,26665.446747947357,26539.721525784193,26413.16123026926,26285.796908759767,26157.659361198144,26028.779130447896,25899.186493035613,25768.911450296608,25637.983719921216,25506.432727898427,25374.287600853087,25241.57715877262,25108.32990811882,24974.574035319973,24840.337400638244,24705.647532406998,24570.531621632468,24435.016516953896,24299.12871995609,24162.894380828093,24026.339294361493,23889.48889628171,23752.368259905423,23615.002093117204,23477.414735658225,23339.63015671987,23201.67195283492,23063.563346058923,22925.327182434314,22786.985930729734,22648.561681447016,22510.07614608823,22371.55065667521,22233.006165513878,22094.463245195864,21955.94208882969,21817.46251049407,21679.04394590569,21540.705453294035,21402.465714475795,21264.34303612145,21126.35535120674,20988.52022064179,20850.854835070648,20713.376016834307,20576.100222090066,20439.043543080486,20302.22171054507,20165.65009626805,20029.343715755716],\"type\":\"scatter\"},{\"mode\":\"lines\",\"name\":\"Exposed\",\"x\":[0,1,2,3,4,5,6,7,8,9,10,11,12,13,14,15,16,17,18,19,20,21,22,23,24,25,26,27,28,29,30,31,32,33,34,35,36,37,38,39,40,41,42,43,44,45,46,47,48,49,50,51,52,53,54,55,56,57,58,59,60,61,62,63,64,65,66,67,68,69,70,71,72,73,74,75,76,77,78,79,80,81,82,83,84,85,86,87,88,89,90,91,92,93,94,95,96,97,98,99,100,101,102,103,104,105,106,107,108,109,110,111,112,113,114,115,116,117,118,119,120,121,122,123,124,125,126,127,128,129,130,131,132,133,134,135,136,137,138,139,140,141,142,143,144,145,146,147,148,149,150,151,152,153,154,155,156,157,158,159,160,161,162,163,164,165,166,167,168,169,170,171,172,173,174,175,176,177,178,179,180,181,182,183,184,185,186,187,188,189,190,191,192,193,194,195,196,197,198,199,200,201,202,203,204,205,206,207,208,209,210,211,212,213,214,215,216,217,218,219,220,221,222,223,224,225,226,227,228,229,230,231,232,233,234,235,236,237,238,239,240,241,242,243,244,245,246,247,248,249,250,251,252,253,254,255,256,257,258,259,260,261,262,263,264,265,266,267,268,269,270,271,272,273,274,275,276,277,278,279,280,281,282,283,284,285,286,287,288,289,290,291,292,293,294,295,296,297,298,299,300,301,302,303,304,305,306,307,308,309,310,311,312,313,314,315,316,317,318,319,320,321,322,323,324,325,326,327,328,329,330,331,332,333,334,335,336,337,338,339,340,341,342,343,344,345,346,347,348,349,350,351,352,353,354,355,356,357,358,359],\"y\":[1772.434622521945,1790.1589687471644,1808.3584979183004,1827.0309215541788,1846.1741876324559,1865.7864733689134,1885.8661782336465,1906.4119171947934,1927.422514180773,1948.896995752302,1970.8345849757616,1993.2346954897616,2016.0969257570273,2039.4210534939896,2063.207030270716,2087.4549762740585,2112.165175227127,2137.3380694584203,2162.9742551141653,2189.0744775076128,2215.6396265992485,2242.6707326020623,2270.168961706201,2298.1356119175157,2326.572109004676,2355.480002549696,2384.8609620968705,2414.7167733952692,2445.049334730096,2475.860653338345,2507.1528419043407,2538.9281151308605,2571.188786381684,2603.9372643915267,2637.17605003943,2670.907733181807,2705.134989541443,2739.860577648856,2775.087335832542,2810.8181792547,2847.0560969891662,2883.804149138345,2921.065463986044,2958.8432351831866,2997.1407189634792,3035.961231386182,3075.3081456032182,3115.1848891479344,3155.594941242906,3196.5418301242466,3238.0291303799704,3280.060460300008,3322.639479235565,3365.7698849655735,3409.4554110680488,3453.6998242942445,3498.5069219435522,3543.8805292371617,3589.82449668856,3636.3426974690146,3683.439024766242,3731.1173891345265,3779.381715834627,3828.2359421618416,3877.684014760702,3927.729886924788,3978.3775158802423,4029.630860051618,4081.4938763087403,4133.970517193341,4187.06472812428,4240.780444580215,4295.121589258667,4350.092069210473,4405.695772948676,4461.936567530985,4518.818295614982,4576.344772485324,4634.519783052253,4693.3470788207915,4752.830374830068,4812.973346562279,4873.779626820874,4935.252802577594,4997.396411788102,5060.213940175977,5123.708817984926,5187.884416699165,5252.744045731953,5318.290949082372,5384.528301960504,5451.45920738123,5519.086692726977,5587.413706279789,5656.443113723194,5726.1776946144255,5796.62013882762,5867.773042968718,5939.638906762857,6012.22012941516,6085.519005945874,6159.537723500929,6234.278357639069,6309.742868596777,6385.93309753234,6462.850762750458,6540.497455908911,6618.874638208891,6697.983636570671,6777.825639796426,6858.401694722066,6939.712702360051,7021.759414035267,7104.542427516114,7188.062183143061,7272.318959957007,7357.3128718299,7443.043863600136,7529.511707215361,7616.7159978853915,7704.656150248068,7793.331394550914,7882.740772851607,7972.883135240307,8063.757136087015,8155.361230317193,8247.69366971895,8340.752499285223,8434.535553594393,8529.040453232916,8624.264601263576,8720.205179743056,8816.859146292583,8914.22323072548,9012.293931735483,9111.06751364979,9210.540003250808,9310.70718667064,9411.56460636241,9513.107558152524,9615.331088378038,9718.229991113309,9821.79880549015,9926.031813115706,10030.923035592303,10136.46623214352,10242.654897350742,10349.482259004428,10456.941276074358,10565.024636803073,10673.724756926697,10783.033778027337,10892.943566021184,11003.445709786401,11114.531519934852,11226.192027731646,11338.417984166432,11451.19985918027,11564.527841051853,11678.39183594677,11792.781467633375,11907.686077368762,12023.094723958204,12138.996183991305,12255.378952258017,12372.231242347483,12489.540987432578,12607.29584124285,12725.483179228411,12844.090099917152,12963.103426467504,13082.509708418795,13202.295223641027,13322.445980485767,13442.94772013959,13563.785919181351,13684.945792344339,13806.412295484124,13928.170128752747,14050.203739979608,14172.497328259233,14295.03484774582,14417.800011654263,14540.776296467076,14663.94694634642,14787.294977750149,14910.803184250599,15034.454141554505,15158.230212722254,15282.113553584371,15406.08611835291,15530.129665425116,15654.225763376535,15778.355797140412,15902.500974370028,16026.642331980316,16150.760742864873,16274.836922784243,16398.851437421043,16522.784709597345,16646.6170266494,16770.328547954614,16893.899312605416,17017.30924722449,17140.538173915535,17263.5658183436,17386.371817938758,17508.935730216766,17631.237041210057,17753.255174002366,17874.96949736,17996.35933445268,18117.403971656673,18238.082667432835,18358.374661272053,18478.25918270039,18597.715460336196,18716.722730991358,18835.26024880866,18953.307294427315,19070.84318416854,19187.84727923303,19304.298994902158,19420.177809734738,19535.46327475106,19650.135022596016,19764.172776673142,19877.556360241295,19990.26570546591,20102.28086241668,20213.58200800363,20324.149454843617,20433.963660049376,20543.005233933305,20651.254948618345,20758.693746548357,20865.302748890583,20971.063263822936,21075.95679469892,21179.965048083275,21283.06994165152,21385.25361194677,21486.498421987424,21586.78696871951,21686.10209030762,21784.42687325872,21881.744659373184,21978.039052517768,22073.29392521537,22167.49342504676,22260.621980859636,22352.664308780662,22443.605418026367,22533.4306165091,22622.12551623443,22709.676038486705,22796.068418799725,22881.289211709776,22965.32529528852,23048.163875453523,23129.792490054497,23210.19901273356,23289.37165655813,23367.298977425347,23443.969877237116,23519.37360684523,23593.499768766247,23666.338319666018,23737.879572614103,23808.114199108528,23877.03323087153,23944.62806141731,24010.89044739291,24075.812509693686,24139.386734354972,24201.605973221864,24262.46344439916,24321.95273248376,24380.067788582073,24436.802930115016,24492.15284041363,24546.11256810823,24598.677526314445,24649.84349161945,24699.60660287202,24747.963359780075,24794.910621319566,24840.445603958702,24884.565879701586,24927.269373955536,24968.554363226376,25008.419472646143,25046.863673337743,25083.886279621147,25119.486946065826,25153.665664394168,25186.42276024067,25217.758889771834,25247.675036171557,25276.172505997103,25303.252925410517,25328.918236290534,25353.170692229975,25376.012854423676,25397.447587451934,25417.478054964526,25436.107715270275,25453.340316837177,25469.179893708035,25483.630760836553,25496.697509348778,25508.385001734765,25518.69836697526,25527.6429956082,25535.224534739715,25541.448883004297,25546.322185478733,25549.850828554303,25552.041434771727,25552.900857623223,25552.436176325973,25550.654690571246,25547.56391525326,25543.171575181917,25537.485599783296,25530.514117791845,25522.265451937998,25512.74811363494,25501.97079766813,25489.94237689101,25476.67189693038,25462.16857090469,25446.441774158462,25429.501039015933,25411.356049556947,25392.01663641796,25371.49277162098,25349.79456343312,25326.932251259375,25302.916200571126,25277.75689787271,25251.464945708452,25224.05105771225,25195.52605370188,25165.90085482,25135.186478723757,25103.394034824818,25070.534719581512,25036.619811844754,25001.660668259246,24965.668718721412,24928.65546189541,24890.632460788525,24851.611338387058,24811.603773353894,24770.6214957887,24728.67628305171,24685.779955652,24641.94437320093,24597.181430431603],\"type\":\"scatter\"},{\"mode\":\"lines\",\"name\":\"Exposed\",\"x\":[0,1,2,3,4,5,6,7,8,9,10,11,12,13,14,15,16,17,18,19,20,21,22,23,24,25,26,27,28,29,30,31,32,33,34,35,36,37,38,39,40,41,42,43,44,45,46,47,48,49,50,51,52,53,54,55,56,57,58,59,60,61,62,63,64,65,66,67,68,69,70,71,72,73,74,75,76,77,78,79,80,81,82,83,84,85,86,87,88,89,90,91,92,93,94,95,96,97,98,99,100,101,102,103,104,105,106,107,108,109,110,111,112,113,114,115,116,117,118,119,120,121,122,123,124,125,126,127,128,129,130,131,132,133,134,135,136,137,138,139,140,141,142,143,144,145,146,147,148,149,150,151,152,153,154,155,156,157,158,159,160,161,162,163,164,165,166,167,168,169,170,171,172,173,174,175,176,177,178,179,180,181,182,183,184,185,186,187,188,189,190,191,192,193,194,195,196,197,198,199,200,201,202,203,204,205,206,207,208,209,210,211,212,213,214,215,216,217,218,219,220,221,222,223,224,225,226,227,228,229,230,231,232,233,234,235,236,237,238,239,240,241,242,243,244,245,246,247,248,249,250,251,252,253,254,255,256,257,258,259,260,261,262,263,264,265,266,267,268,269,270,271,272,273,274,275,276,277,278,279,280,281,282,283,284,285,286,287,288,289,290,291,292,293,294,295,296,297,298,299,300,301,302,303,304,305,306,307,308,309,310,311,312,313,314,315,316,317,318,319,320,321,322,323,324,325,326,327,328,329,330,331,332,333,334,335,336,337,338,339,340,341,342,343,344,345,346,347,348,349,350,351,352,353,354,355,356,357,358,359],\"y\":[0.0,17.72434622521945,35.62593591269109,53.70952089187409,71.97983010741588,90.44157198374043,109.09943671742957,127.95809849976604,147.02221767171397,166.2964428135217,185.78541277104472,205.49375862080234,225.42610557569995,245.5870748332702,265.9812853682101,286.61335567091726,307.48790543365783,328.6095571859291,349.9829378805133,371.61268043165495,393.5034252067311,415.6598214727236,438.0865287987442,460.7882184158062,483.76957453498136,507.03529562502814,530.5900956505251,554.4387052714937,578.5858730054464,603.0363663527473,627.7949728861308,652.8665013051742,678.2557824564828,703.9676703202997,730.007042964215,756.3788034646093,783.0878807964274,810.1392306918418,837.5378364683304,865.2887098266558,893.3968916192028,921.8674525890945,950.7054940804779,979.9161487203384,1009.5045810721703,1039.475988261805,1069.8356005756668,1100.588682031699,1131.7405309231783,1163.2964803356074,1195.2618986368498,1227.6421899406494,1260.4427945436494,1293.669189336005,1327.326888185661,1361.4214422963414,1395.9584405392839,1430.9435097587193,1466.382315051091,1502.2805600179765,1538.6439869926667,1575.478377240329,1612.7895511316744,1650.5833682900206,1688.865727711639,1727.6425678592461,1766.919866728494,1806.7036418872965,1846.9999504878126,1887.8148892509,1929.1545944228335,1971.0252417040763,2013.4330461498785,2056.3842620424653,2099.8851827345698,2143.9421404640566,2188.5615061393664,2233.7496890955163,2279.5131368203697,2325.858334650892,2372.7918054391002,2420.3201091874007,2468.4498426530236,2517.187638921232,2566.540166947008,2616.514131064889,2667.116270466649,2718.3533586464982,2770.23220281349,2822.7596432708096,2875.9425527616336,2929.7878357812388,2984.302427855051,3039.493294782321,3095.3674318451185,3151.9318629823506,3209.193639928495,3267.1598413167712,3325.8375717464583,3385.233960814087,3445.3561621082385,3506.2113521676974,3567.806729402707,3630.1495129790974,3693.246941665065,3757.1062726403884,3821.734780267893,3887.139754826982,3953.328501209071,4020.308337574778,4088.0865939727423,4156.670610919963,4226.067737943564,4296.285332083917,4367.330756359078,4439.211378190508,4511.934567790078,4585.507696508377,4659.938135144379,4735.2332522165325,4811.400412195387,4888.446973697867,4966.3802876433765,5045.207695371892,5124.936526724296,5205.574098085166,5287.127710388338,5369.604647085527,5453.012172078379,5537.357527614323,5622.647932146652,5708.8905781592875,5796.092629956718,5884.261221419644,5973.403453726899,6063.526393044253,6154.637068180751,6246.74246821326,6339.849540079966,6433.96518614359,6529.096261725115,6625.2495726088955,6722.431872520028,6820.649860574929,6919.910178706086,7020.21940906201,7121.584071383445,7224.010620356952,7327.5054429469965,7432.07485570774,7537.725102075771,7644.462349645039,7752.292687425312,7861.222123085524,7971.256580183388,8082.401895382736,8194.663815660053,8308.047995501718,8422.55999409352,8538.20527250404,8654.989190863507,8772.91700553984,8891.993866313529,9012.224813553112,9133.614775393025,9256.168564915606,9379.890877339081,9504.786287213406,9630.859245625836,9758.11407741812,9886.554978417293,10016.186012681968,10147.011109766156,10279.034062002565,10412.258521807424,10546.68799900882,10682.325858200633,10819.175316124076,10957.239439078918,11096.521140366445,11237.023177766241,11378.748151048834,11521.698499526292,11665.876499642834,11811.284262607505,11957.923732070969,12105.796681848471,12254.904713690978,12405.249255106522,12556.831557233745,12709.652692769589,12863.713553953117,13019.01485060737,13175.557108241135,13333.34066621254,13492.36567595624,13652.632099276043,13814.139706704691,13976.888075932533,14140.876590306743,14306.104437402717,14472.570607669211,14640.273893148758,14809.212886274812,14979.385978747057,15150.791360486213,15323.427018669649,15497.290736849036,15672.380094151204,15848.692464563304,16026.225016303328,16204.974711276927,16384.938304621453,16566.11234433802,16748.49317101235,16932.07691762507,17116.85950945207,17302.836664055434,17490.003891365348,17678.356493853433,17867.889566797705,18058.59799863939,18250.47647143172,18443.519461380743,18637.72123947809,18833.075872225603,19029.577222451564,19227.218950218296,19425.994513820708,19625.897170875367,19826.919979499533,20029.055799579568,20232.297294128006,20436.6369307285,20642.06698306783,20848.579532554013,21056.166470019496,21264.8194975084,21474.53013014663,21685.28969809362,21897.089348574453,22109.920047990967,22323.772584110433,22538.63756833031,22754.505438017502,22971.36645892058,23189.210727653168,23408.0281742469,23627.80856477208,23848.541504024233,24070.2164382747,24292.822658083296,24516.349301171103,24740.785355351367,24966.11966151646,25192.340916678804,25419.43767706367,25647.398361251668,25876.211253368765,26105.86450632165,26336.346145076186,26567.64406997673,26799.746060104066,27032.639776669646,27266.3127664439,27500.752465216272,27735.946201284725,27971.881198972387,28208.54458216905,28445.92337789519,28684.004519886275,28922.77485219499,29162.221132809165,29402.330037283093,29643.08816238003,29884.482029723582,30126.4980894558,30369.122723899793,30612.34225122463,30856.14292911045,31100.5109584116,31345.432486815735,31590.893612496817,31836.88038775996,32083.378822676154,32330.374888704875,32577.854522302674,32825.80362851587,33074.20808455545,33323.053743352466,33572.32643709202,33822.01198072429,34072.09617545075,34322.56481218413,34573.40367498034,34824.598544441,35076.135201084944,35327.99942868735,35580.17701758507,35832.65376794679,36085.41549300676,36338.44802226086,36591.737204623765,36845.26891154607,37099.0290400903,37353.003515964825,37607.178296514474,37861.539373667176,38116.07277683555,38370.76457577263,38625.60088338099,38880.567858474475,39135.65170849182,39390.838692161575,39646.115122117655,39901.467367465055,40156.8818562951,40412.34507814988,40667.843586435425,40923.36400078314,41178.89300935937,41434.41737112263,41689.92391802835,41945.39955718088,42200.83127293269,42456.20612893053,42711.51127010844,42966.73392462782,43221.86140576417,43476.88111374085,43731.78053750976,43986.54725647906,44241.16894218811,44495.63335992969,44749.92837031985,45004.04193081542,45257.9620971796,45511.67702489581,45765.17497053014,46018.44429304273,46271.47345504844,46524.25102402717,46776.76567348426,47029.006184061385,47280.961444598404,47532.62045314661,47783.97231793385,48035.0062582821,48285.71160547791,48536.07780359636,48786.09441027895,49035.75109746616,49285.03765208512,49533.94397669301,49782.46009007688,50030.57612781042,50278.2823427683,50525.56910559882,50772.42690515534,51018.84634888735],\"type\":\"scatter\"}],                        {\"template\":{\"data\":{\"barpolar\":[{\"marker\":{\"line\":{\"color\":\"#E5ECF6\",\"width\":0.5},\"pattern\":{\"fillmode\":\"overlay\",\"size\":10,\"solidity\":0.2}},\"type\":\"barpolar\"}],\"bar\":[{\"error_x\":{\"color\":\"#2a3f5f\"},\"error_y\":{\"color\":\"#2a3f5f\"},\"marker\":{\"line\":{\"color\":\"#E5ECF6\",\"width\":0.5},\"pattern\":{\"fillmode\":\"overlay\",\"size\":10,\"solidity\":0.2}},\"type\":\"bar\"}],\"carpet\":[{\"aaxis\":{\"endlinecolor\":\"#2a3f5f\",\"gridcolor\":\"white\",\"linecolor\":\"white\",\"minorgridcolor\":\"white\",\"startlinecolor\":\"#2a3f5f\"},\"baxis\":{\"endlinecolor\":\"#2a3f5f\",\"gridcolor\":\"white\",\"linecolor\":\"white\",\"minorgridcolor\":\"white\",\"startlinecolor\":\"#2a3f5f\"},\"type\":\"carpet\"}],\"choropleth\":[{\"colorbar\":{\"outlinewidth\":0,\"ticks\":\"\"},\"type\":\"choropleth\"}],\"contourcarpet\":[{\"colorbar\":{\"outlinewidth\":0,\"ticks\":\"\"},\"type\":\"contourcarpet\"}],\"contour\":[{\"colorbar\":{\"outlinewidth\":0,\"ticks\":\"\"},\"colorscale\":[[0.0,\"#0d0887\"],[0.1111111111111111,\"#46039f\"],[0.2222222222222222,\"#7201a8\"],[0.3333333333333333,\"#9c179e\"],[0.4444444444444444,\"#bd3786\"],[0.5555555555555556,\"#d8576b\"],[0.6666666666666666,\"#ed7953\"],[0.7777777777777778,\"#fb9f3a\"],[0.8888888888888888,\"#fdca26\"],[1.0,\"#f0f921\"]],\"type\":\"contour\"}],\"heatmapgl\":[{\"colorbar\":{\"outlinewidth\":0,\"ticks\":\"\"},\"colorscale\":[[0.0,\"#0d0887\"],[0.1111111111111111,\"#46039f\"],[0.2222222222222222,\"#7201a8\"],[0.3333333333333333,\"#9c179e\"],[0.4444444444444444,\"#bd3786\"],[0.5555555555555556,\"#d8576b\"],[0.6666666666666666,\"#ed7953\"],[0.7777777777777778,\"#fb9f3a\"],[0.8888888888888888,\"#fdca26\"],[1.0,\"#f0f921\"]],\"type\":\"heatmapgl\"}],\"heatmap\":[{\"colorbar\":{\"outlinewidth\":0,\"ticks\":\"\"},\"colorscale\":[[0.0,\"#0d0887\"],[0.1111111111111111,\"#46039f\"],[0.2222222222222222,\"#7201a8\"],[0.3333333333333333,\"#9c179e\"],[0.4444444444444444,\"#bd3786\"],[0.5555555555555556,\"#d8576b\"],[0.6666666666666666,\"#ed7953\"],[0.7777777777777778,\"#fb9f3a\"],[0.8888888888888888,\"#fdca26\"],[1.0,\"#f0f921\"]],\"type\":\"heatmap\"}],\"histogram2dcontour\":[{\"colorbar\":{\"outlinewidth\":0,\"ticks\":\"\"},\"colorscale\":[[0.0,\"#0d0887\"],[0.1111111111111111,\"#46039f\"],[0.2222222222222222,\"#7201a8\"],[0.3333333333333333,\"#9c179e\"],[0.4444444444444444,\"#bd3786\"],[0.5555555555555556,\"#d8576b\"],[0.6666666666666666,\"#ed7953\"],[0.7777777777777778,\"#fb9f3a\"],[0.8888888888888888,\"#fdca26\"],[1.0,\"#f0f921\"]],\"type\":\"histogram2dcontour\"}],\"histogram2d\":[{\"colorbar\":{\"outlinewidth\":0,\"ticks\":\"\"},\"colorscale\":[[0.0,\"#0d0887\"],[0.1111111111111111,\"#46039f\"],[0.2222222222222222,\"#7201a8\"],[0.3333333333333333,\"#9c179e\"],[0.4444444444444444,\"#bd3786\"],[0.5555555555555556,\"#d8576b\"],[0.6666666666666666,\"#ed7953\"],[0.7777777777777778,\"#fb9f3a\"],[0.8888888888888888,\"#fdca26\"],[1.0,\"#f0f921\"]],\"type\":\"histogram2d\"}],\"histogram\":[{\"marker\":{\"pattern\":{\"fillmode\":\"overlay\",\"size\":10,\"solidity\":0.2}},\"type\":\"histogram\"}],\"mesh3d\":[{\"colorbar\":{\"outlinewidth\":0,\"ticks\":\"\"},\"type\":\"mesh3d\"}],\"parcoords\":[{\"line\":{\"colorbar\":{\"outlinewidth\":0,\"ticks\":\"\"}},\"type\":\"parcoords\"}],\"pie\":[{\"automargin\":true,\"type\":\"pie\"}],\"scatter3d\":[{\"line\":{\"colorbar\":{\"outlinewidth\":0,\"ticks\":\"\"}},\"marker\":{\"colorbar\":{\"outlinewidth\":0,\"ticks\":\"\"}},\"type\":\"scatter3d\"}],\"scattercarpet\":[{\"marker\":{\"colorbar\":{\"outlinewidth\":0,\"ticks\":\"\"}},\"type\":\"scattercarpet\"}],\"scattergeo\":[{\"marker\":{\"colorbar\":{\"outlinewidth\":0,\"ticks\":\"\"}},\"type\":\"scattergeo\"}],\"scattergl\":[{\"marker\":{\"colorbar\":{\"outlinewidth\":0,\"ticks\":\"\"}},\"type\":\"scattergl\"}],\"scattermapbox\":[{\"marker\":{\"colorbar\":{\"outlinewidth\":0,\"ticks\":\"\"}},\"type\":\"scattermapbox\"}],\"scatterpolargl\":[{\"marker\":{\"colorbar\":{\"outlinewidth\":0,\"ticks\":\"\"}},\"type\":\"scatterpolargl\"}],\"scatterpolar\":[{\"marker\":{\"colorbar\":{\"outlinewidth\":0,\"ticks\":\"\"}},\"type\":\"scatterpolar\"}],\"scatter\":[{\"marker\":{\"colorbar\":{\"outlinewidth\":0,\"ticks\":\"\"}},\"type\":\"scatter\"}],\"scatterternary\":[{\"marker\":{\"colorbar\":{\"outlinewidth\":0,\"ticks\":\"\"}},\"type\":\"scatterternary\"}],\"surface\":[{\"colorbar\":{\"outlinewidth\":0,\"ticks\":\"\"},\"colorscale\":[[0.0,\"#0d0887\"],[0.1111111111111111,\"#46039f\"],[0.2222222222222222,\"#7201a8\"],[0.3333333333333333,\"#9c179e\"],[0.4444444444444444,\"#bd3786\"],[0.5555555555555556,\"#d8576b\"],[0.6666666666666666,\"#ed7953\"],[0.7777777777777778,\"#fb9f3a\"],[0.8888888888888888,\"#fdca26\"],[1.0,\"#f0f921\"]],\"type\":\"surface\"}],\"table\":[{\"cells\":{\"fill\":{\"color\":\"#EBF0F8\"},\"line\":{\"color\":\"white\"}},\"header\":{\"fill\":{\"color\":\"#C8D4E3\"},\"line\":{\"color\":\"white\"}},\"type\":\"table\"}]},\"layout\":{\"annotationdefaults\":{\"arrowcolor\":\"#2a3f5f\",\"arrowhead\":0,\"arrowwidth\":1},\"autotypenumbers\":\"strict\",\"coloraxis\":{\"colorbar\":{\"outlinewidth\":0,\"ticks\":\"\"}},\"colorscale\":{\"diverging\":[[0,\"#8e0152\"],[0.1,\"#c51b7d\"],[0.2,\"#de77ae\"],[0.3,\"#f1b6da\"],[0.4,\"#fde0ef\"],[0.5,\"#f7f7f7\"],[0.6,\"#e6f5d0\"],[0.7,\"#b8e186\"],[0.8,\"#7fbc41\"],[0.9,\"#4d9221\"],[1,\"#276419\"]],\"sequential\":[[0.0,\"#0d0887\"],[0.1111111111111111,\"#46039f\"],[0.2222222222222222,\"#7201a8\"],[0.3333333333333333,\"#9c179e\"],[0.4444444444444444,\"#bd3786\"],[0.5555555555555556,\"#d8576b\"],[0.6666666666666666,\"#ed7953\"],[0.7777777777777778,\"#fb9f3a\"],[0.8888888888888888,\"#fdca26\"],[1.0,\"#f0f921\"]],\"sequentialminus\":[[0.0,\"#0d0887\"],[0.1111111111111111,\"#46039f\"],[0.2222222222222222,\"#7201a8\"],[0.3333333333333333,\"#9c179e\"],[0.4444444444444444,\"#bd3786\"],[0.5555555555555556,\"#d8576b\"],[0.6666666666666666,\"#ed7953\"],[0.7777777777777778,\"#fb9f3a\"],[0.8888888888888888,\"#fdca26\"],[1.0,\"#f0f921\"]]},\"colorway\":[\"#636efa\",\"#EF553B\",\"#00cc96\",\"#ab63fa\",\"#FFA15A\",\"#19d3f3\",\"#FF6692\",\"#B6E880\",\"#FF97FF\",\"#FECB52\"],\"font\":{\"color\":\"#2a3f5f\"},\"geo\":{\"bgcolor\":\"white\",\"lakecolor\":\"white\",\"landcolor\":\"#E5ECF6\",\"showlakes\":true,\"showland\":true,\"subunitcolor\":\"white\"},\"hoverlabel\":{\"align\":\"left\"},\"hovermode\":\"closest\",\"mapbox\":{\"style\":\"light\"},\"paper_bgcolor\":\"white\",\"plot_bgcolor\":\"#E5ECF6\",\"polar\":{\"angularaxis\":{\"gridcolor\":\"white\",\"linecolor\":\"white\",\"ticks\":\"\"},\"bgcolor\":\"#E5ECF6\",\"radialaxis\":{\"gridcolor\":\"white\",\"linecolor\":\"white\",\"ticks\":\"\"}},\"scene\":{\"xaxis\":{\"backgroundcolor\":\"#E5ECF6\",\"gridcolor\":\"white\",\"gridwidth\":2,\"linecolor\":\"white\",\"showbackground\":true,\"ticks\":\"\",\"zerolinecolor\":\"white\"},\"yaxis\":{\"backgroundcolor\":\"#E5ECF6\",\"gridcolor\":\"white\",\"gridwidth\":2,\"linecolor\":\"white\",\"showbackground\":true,\"ticks\":\"\",\"zerolinecolor\":\"white\"},\"zaxis\":{\"backgroundcolor\":\"#E5ECF6\",\"gridcolor\":\"white\",\"gridwidth\":2,\"linecolor\":\"white\",\"showbackground\":true,\"ticks\":\"\",\"zerolinecolor\":\"white\"}},\"shapedefaults\":{\"line\":{\"color\":\"#2a3f5f\"}},\"ternary\":{\"aaxis\":{\"gridcolor\":\"white\",\"linecolor\":\"white\",\"ticks\":\"\"},\"baxis\":{\"gridcolor\":\"white\",\"linecolor\":\"white\",\"ticks\":\"\"},\"bgcolor\":\"#E5ECF6\",\"caxis\":{\"gridcolor\":\"white\",\"linecolor\":\"white\",\"ticks\":\"\"}},\"title\":{\"x\":0.05},\"xaxis\":{\"automargin\":true,\"gridcolor\":\"white\",\"linecolor\":\"white\",\"ticks\":\"\",\"title\":{\"standoff\":15},\"zerolinecolor\":\"white\",\"zerolinewidth\":2},\"yaxis\":{\"automargin\":true,\"gridcolor\":\"white\",\"linecolor\":\"white\",\"ticks\":\"\",\"title\":{\"standoff\":15},\"zerolinecolor\":\"white\",\"zerolinewidth\":2}}},\"title\":{\"text\":\"Epidemic Trend in Washington (Wave 1)\",\"x\":0.5},\"xaxis\":{\"title\":{\"text\":\"Day\"}},\"yaxis\":{\"title\":{\"text\":\"Population per 100k\"}}},                        {\"responsive\": true}                    ).then(function(){\n",
       "                            \n",
       "var gd = document.getElementById('07f6b934-1d67-4f0e-95f1-442a6af3c2f4');\n",
       "var x = new MutationObserver(function (mutations, observer) {{\n",
       "        var display = window.getComputedStyle(gd).display;\n",
       "        if (!display || display === 'none') {{\n",
       "            console.log([gd, 'removed!']);\n",
       "            Plotly.purge(gd);\n",
       "            observer.disconnect();\n",
       "        }}\n",
       "}});\n",
       "\n",
       "// Listen for the removal of the full notebook cells\n",
       "var notebookContainer = gd.closest('#notebook-container');\n",
       "if (notebookContainer) {{\n",
       "    x.observe(notebookContainer, {childList: true});\n",
       "}}\n",
       "\n",
       "// Listen for the clearing of the current output cell\n",
       "var outputEl = gd.closest('.output');\n",
       "if (outputEl) {{\n",
       "    x.observe(outputEl, {childList: true});\n",
       "}}\n",
       "\n",
       "                        })                };                });            </script>        </div>"
      ]
     },
     "metadata": {},
     "output_type": "display_data"
    }
   ],
   "source": [
    "import plotly.graph_objs as go    \n",
    "import plotly.offline as py \n",
    "#the prediction of the epidemic in a year\n",
    "result = base_seir_model(S,E,I,R,beta=0.06,sigma=0.01,gamma=0.01, t = 360)\n",
    "result['Day'] = list(range(360))\n",
    "\n",
    "trace0 = go.Scatter(\n",
    "      x = list(range(360)),\n",
    "      y = result['Susceptible'],\n",
    "      mode = 'lines',\n",
    "      name = 'Susceptible'   \n",
    ")\n",
    "trace1 = go.Scatter(\n",
    "      x = list(range(360)),\n",
    "      y = result['Exposed'],\n",
    "      mode = 'lines',\n",
    "      name = 'Exposed'   \n",
    ")\n",
    "trace2 = go.Scatter(\n",
    "      x = list(range(360)),\n",
    "      y = result['Infectant'],\n",
    "      mode = 'lines',\n",
    "      name = 'Exposed'   \n",
    ")\n",
    "\n",
    "trace3 = go.Scatter(\n",
    "      x = list(range(360)),\n",
    "      y = result['Recovered'],\n",
    "      mode = 'lines',\n",
    "      name = 'Exposed'   \n",
    ")\n",
    "data = [trace0, trace1,trace2,trace3]\n",
    "layout = dict(title = 'Epidemic Trend in Washington (Wave 1)', xaxis = dict(title = 'Day'), yaxis = dict(title = 'Population per 100k'),title_x=0.5)\n",
    "fig = dict(data=data, layout=layout)\n",
    "py.iplot(fig, filename='SEIR wave 1')\n"
   ]
  },
  {
   "cell_type": "markdown",
   "id": "e648090d",
   "metadata": {},
   "source": [
    "We can see that the sigma(rate of symptom reveals) gamma(rate of recovery) is much lower than common sense (usually around 0.07). This is because at that time our hospital cannot handle so many patients, which leads to a low recovery rate, and this further influences the rate of symptom reveals"
   ]
  },
  {
   "cell_type": "code",
   "execution_count": 13,
   "id": "0ee3b330",
   "metadata": {},
   "outputs": [
    {
     "data": {
      "application/vnd.plotly.v1+json": {
       "config": {
        "linkText": "Export to plot.ly",
        "plotlyServerURL": "https://plot.ly",
        "showLink": false
       },
       "data": [
        {
         "mode": "lines",
         "name": "Prediction",
         "type": "scatter",
         "x": [
          0,
          1,
          2,
          3,
          4,
          5,
          6,
          7,
          8,
          9,
          10,
          11,
          12,
          13,
          14,
          15,
          16,
          17,
          18,
          19,
          20,
          21,
          22,
          23,
          24,
          25,
          26,
          27,
          28,
          29,
          30,
          31,
          32,
          33,
          34,
          35,
          36,
          37,
          38,
          39,
          40,
          41,
          42,
          43,
          44,
          45,
          46,
          47,
          48,
          49,
          50,
          51,
          52,
          53,
          54,
          55,
          56,
          57,
          58,
          59
         ],
         "y": [
          35.4486924504389,
          36.10111885860761,
          36.75600861506143,
          37.41357529381895,
          38.074027612782054,
          38.73756959842222,
          39.40440074348353,
          40.07471615792761,
          40.74870671333678,
          41.42655918098249,
          42.108456363757604,
          42.79457722216324,
          43.48509699453249,
          44.18018731166632,
          44.88001630604973,
          45.58474871580898,
          46.29454598356471,
          47.00956635032906,
          47.729964944588936,
          48.45589386671205,
          49.187502268806476,
          49.924936430159555,
          50.6683398283766,
          51.41785320633533,
          52.173614635067054,
          52.93575957267147,
          53.704420919367585,
          54.47972906877931,
          55.2618119555503,
          56.05079509937928,
          56.846801645563154,
          57.64995240213238,
          58.46036587365938,
          59.27815829181833,
          60.10344364277135,
          60.93633369145373,
          61.776938002827976,
          62.62536396017444,
          63.481716780483566,
          64.34609952701302,
          65.21861311907064,
          66.09935633908242,
          66.98842583700308,
          67.88591613212469,
          68.79191961233784,
          69.70652653089799,
          70.62982500074848,
          71.5619009864506,
          72.5028382937698,
          73.45271855696622,
          74.41162122383712,
          75.37962353855733,
          76.35680052236403,
          77.34322495213083,
          78.33896733687617,
          79.34409589225025,
          80.35867651304491,
          81.38277274376998,
          82.41644574734032,
          83.45975427191712
         ]
        },
        {
         "mode": "lines",
         "name": "Real",
         "type": "scatter",
         "x": [
          0,
          1,
          2,
          3,
          4,
          5,
          6,
          7,
          8,
          9,
          10,
          11,
          12,
          13,
          14,
          15,
          16,
          17,
          18,
          19,
          20,
          21,
          22,
          23,
          24,
          25,
          26,
          27,
          28,
          29,
          30,
          31,
          32,
          33,
          34,
          35,
          36,
          37,
          38,
          39,
          40,
          41,
          42,
          43,
          44,
          45,
          46,
          47,
          48,
          49,
          50,
          51,
          52,
          53,
          54,
          55,
          56,
          57,
          58,
          59
         ],
         "y": [
          34.03856101458018,
          20.473038820111697,
          27.72199162877314,
          28.54931776454373,
          24.635933820738273,
          34.773962024154116,
          46.73736059062185,
          43.09975202540568,
          39.65912587346929,
          37.72869822333723,
          27.144176549821168,
          31.43839315929972,
          27.669462985231803,
          29.796873048642738,
          32.33138009949744,
          40.32886607861701,
          30.53227405821781,
          27.380555445756272,
          24.767255429589568,
          23.00754587096617,
          79.7253487343819,
          49.8365505595425,
          40.51271633100987,
          39.343954012223094,
          41.35317462766716,
          53.98631339928215,
          31.898018790283913,
          27.472480571953838,
          23.309585571325897,
          22.075162448113133,
          0,
          38.60855300264893,
          40.22380879153525,
          30.624199184413555,
          0,
          52.98826917200404,
          16.441465428338233,
          30.400952449364922,
          37.96507711927097,
          0,
          47.617215369934,
          0,
          25.64711020890263,
          28.549317764544412,
          19.488126753717097,
          58.07041543459627,
          0,
          0,
          113.51439869214255,
          13.644315159779126,
          30.624199184413555,
          26.06733935723105,
          42.810844485930375,
          60.3422792677452,
          39.23889672514133,
          0,
          66.85583106683225,
          24.399554924802942,
          34.905283633007
         ]
        }
       ],
       "layout": {
        "template": {
         "data": {
          "bar": [
           {
            "error_x": {
             "color": "#2a3f5f"
            },
            "error_y": {
             "color": "#2a3f5f"
            },
            "marker": {
             "line": {
              "color": "#E5ECF6",
              "width": 0.5
             },
             "pattern": {
              "fillmode": "overlay",
              "size": 10,
              "solidity": 0.2
             }
            },
            "type": "bar"
           }
          ],
          "barpolar": [
           {
            "marker": {
             "line": {
              "color": "#E5ECF6",
              "width": 0.5
             },
             "pattern": {
              "fillmode": "overlay",
              "size": 10,
              "solidity": 0.2
             }
            },
            "type": "barpolar"
           }
          ],
          "carpet": [
           {
            "aaxis": {
             "endlinecolor": "#2a3f5f",
             "gridcolor": "white",
             "linecolor": "white",
             "minorgridcolor": "white",
             "startlinecolor": "#2a3f5f"
            },
            "baxis": {
             "endlinecolor": "#2a3f5f",
             "gridcolor": "white",
             "linecolor": "white",
             "minorgridcolor": "white",
             "startlinecolor": "#2a3f5f"
            },
            "type": "carpet"
           }
          ],
          "choropleth": [
           {
            "colorbar": {
             "outlinewidth": 0,
             "ticks": ""
            },
            "type": "choropleth"
           }
          ],
          "contour": [
           {
            "colorbar": {
             "outlinewidth": 0,
             "ticks": ""
            },
            "colorscale": [
             [
              0,
              "#0d0887"
             ],
             [
              0.1111111111111111,
              "#46039f"
             ],
             [
              0.2222222222222222,
              "#7201a8"
             ],
             [
              0.3333333333333333,
              "#9c179e"
             ],
             [
              0.4444444444444444,
              "#bd3786"
             ],
             [
              0.5555555555555556,
              "#d8576b"
             ],
             [
              0.6666666666666666,
              "#ed7953"
             ],
             [
              0.7777777777777778,
              "#fb9f3a"
             ],
             [
              0.8888888888888888,
              "#fdca26"
             ],
             [
              1,
              "#f0f921"
             ]
            ],
            "type": "contour"
           }
          ],
          "contourcarpet": [
           {
            "colorbar": {
             "outlinewidth": 0,
             "ticks": ""
            },
            "type": "contourcarpet"
           }
          ],
          "heatmap": [
           {
            "colorbar": {
             "outlinewidth": 0,
             "ticks": ""
            },
            "colorscale": [
             [
              0,
              "#0d0887"
             ],
             [
              0.1111111111111111,
              "#46039f"
             ],
             [
              0.2222222222222222,
              "#7201a8"
             ],
             [
              0.3333333333333333,
              "#9c179e"
             ],
             [
              0.4444444444444444,
              "#bd3786"
             ],
             [
              0.5555555555555556,
              "#d8576b"
             ],
             [
              0.6666666666666666,
              "#ed7953"
             ],
             [
              0.7777777777777778,
              "#fb9f3a"
             ],
             [
              0.8888888888888888,
              "#fdca26"
             ],
             [
              1,
              "#f0f921"
             ]
            ],
            "type": "heatmap"
           }
          ],
          "heatmapgl": [
           {
            "colorbar": {
             "outlinewidth": 0,
             "ticks": ""
            },
            "colorscale": [
             [
              0,
              "#0d0887"
             ],
             [
              0.1111111111111111,
              "#46039f"
             ],
             [
              0.2222222222222222,
              "#7201a8"
             ],
             [
              0.3333333333333333,
              "#9c179e"
             ],
             [
              0.4444444444444444,
              "#bd3786"
             ],
             [
              0.5555555555555556,
              "#d8576b"
             ],
             [
              0.6666666666666666,
              "#ed7953"
             ],
             [
              0.7777777777777778,
              "#fb9f3a"
             ],
             [
              0.8888888888888888,
              "#fdca26"
             ],
             [
              1,
              "#f0f921"
             ]
            ],
            "type": "heatmapgl"
           }
          ],
          "histogram": [
           {
            "marker": {
             "pattern": {
              "fillmode": "overlay",
              "size": 10,
              "solidity": 0.2
             }
            },
            "type": "histogram"
           }
          ],
          "histogram2d": [
           {
            "colorbar": {
             "outlinewidth": 0,
             "ticks": ""
            },
            "colorscale": [
             [
              0,
              "#0d0887"
             ],
             [
              0.1111111111111111,
              "#46039f"
             ],
             [
              0.2222222222222222,
              "#7201a8"
             ],
             [
              0.3333333333333333,
              "#9c179e"
             ],
             [
              0.4444444444444444,
              "#bd3786"
             ],
             [
              0.5555555555555556,
              "#d8576b"
             ],
             [
              0.6666666666666666,
              "#ed7953"
             ],
             [
              0.7777777777777778,
              "#fb9f3a"
             ],
             [
              0.8888888888888888,
              "#fdca26"
             ],
             [
              1,
              "#f0f921"
             ]
            ],
            "type": "histogram2d"
           }
          ],
          "histogram2dcontour": [
           {
            "colorbar": {
             "outlinewidth": 0,
             "ticks": ""
            },
            "colorscale": [
             [
              0,
              "#0d0887"
             ],
             [
              0.1111111111111111,
              "#46039f"
             ],
             [
              0.2222222222222222,
              "#7201a8"
             ],
             [
              0.3333333333333333,
              "#9c179e"
             ],
             [
              0.4444444444444444,
              "#bd3786"
             ],
             [
              0.5555555555555556,
              "#d8576b"
             ],
             [
              0.6666666666666666,
              "#ed7953"
             ],
             [
              0.7777777777777778,
              "#fb9f3a"
             ],
             [
              0.8888888888888888,
              "#fdca26"
             ],
             [
              1,
              "#f0f921"
             ]
            ],
            "type": "histogram2dcontour"
           }
          ],
          "mesh3d": [
           {
            "colorbar": {
             "outlinewidth": 0,
             "ticks": ""
            },
            "type": "mesh3d"
           }
          ],
          "parcoords": [
           {
            "line": {
             "colorbar": {
              "outlinewidth": 0,
              "ticks": ""
             }
            },
            "type": "parcoords"
           }
          ],
          "pie": [
           {
            "automargin": true,
            "type": "pie"
           }
          ],
          "scatter": [
           {
            "marker": {
             "colorbar": {
              "outlinewidth": 0,
              "ticks": ""
             }
            },
            "type": "scatter"
           }
          ],
          "scatter3d": [
           {
            "line": {
             "colorbar": {
              "outlinewidth": 0,
              "ticks": ""
             }
            },
            "marker": {
             "colorbar": {
              "outlinewidth": 0,
              "ticks": ""
             }
            },
            "type": "scatter3d"
           }
          ],
          "scattercarpet": [
           {
            "marker": {
             "colorbar": {
              "outlinewidth": 0,
              "ticks": ""
             }
            },
            "type": "scattercarpet"
           }
          ],
          "scattergeo": [
           {
            "marker": {
             "colorbar": {
              "outlinewidth": 0,
              "ticks": ""
             }
            },
            "type": "scattergeo"
           }
          ],
          "scattergl": [
           {
            "marker": {
             "colorbar": {
              "outlinewidth": 0,
              "ticks": ""
             }
            },
            "type": "scattergl"
           }
          ],
          "scattermapbox": [
           {
            "marker": {
             "colorbar": {
              "outlinewidth": 0,
              "ticks": ""
             }
            },
            "type": "scattermapbox"
           }
          ],
          "scatterpolar": [
           {
            "marker": {
             "colorbar": {
              "outlinewidth": 0,
              "ticks": ""
             }
            },
            "type": "scatterpolar"
           }
          ],
          "scatterpolargl": [
           {
            "marker": {
             "colorbar": {
              "outlinewidth": 0,
              "ticks": ""
             }
            },
            "type": "scatterpolargl"
           }
          ],
          "scatterternary": [
           {
            "marker": {
             "colorbar": {
              "outlinewidth": 0,
              "ticks": ""
             }
            },
            "type": "scatterternary"
           }
          ],
          "surface": [
           {
            "colorbar": {
             "outlinewidth": 0,
             "ticks": ""
            },
            "colorscale": [
             [
              0,
              "#0d0887"
             ],
             [
              0.1111111111111111,
              "#46039f"
             ],
             [
              0.2222222222222222,
              "#7201a8"
             ],
             [
              0.3333333333333333,
              "#9c179e"
             ],
             [
              0.4444444444444444,
              "#bd3786"
             ],
             [
              0.5555555555555556,
              "#d8576b"
             ],
             [
              0.6666666666666666,
              "#ed7953"
             ],
             [
              0.7777777777777778,
              "#fb9f3a"
             ],
             [
              0.8888888888888888,
              "#fdca26"
             ],
             [
              1,
              "#f0f921"
             ]
            ],
            "type": "surface"
           }
          ],
          "table": [
           {
            "cells": {
             "fill": {
              "color": "#EBF0F8"
             },
             "line": {
              "color": "white"
             }
            },
            "header": {
             "fill": {
              "color": "#C8D4E3"
             },
             "line": {
              "color": "white"
             }
            },
            "type": "table"
           }
          ]
         },
         "layout": {
          "annotationdefaults": {
           "arrowcolor": "#2a3f5f",
           "arrowhead": 0,
           "arrowwidth": 1
          },
          "autotypenumbers": "strict",
          "coloraxis": {
           "colorbar": {
            "outlinewidth": 0,
            "ticks": ""
           }
          },
          "colorscale": {
           "diverging": [
            [
             0,
             "#8e0152"
            ],
            [
             0.1,
             "#c51b7d"
            ],
            [
             0.2,
             "#de77ae"
            ],
            [
             0.3,
             "#f1b6da"
            ],
            [
             0.4,
             "#fde0ef"
            ],
            [
             0.5,
             "#f7f7f7"
            ],
            [
             0.6,
             "#e6f5d0"
            ],
            [
             0.7,
             "#b8e186"
            ],
            [
             0.8,
             "#7fbc41"
            ],
            [
             0.9,
             "#4d9221"
            ],
            [
             1,
             "#276419"
            ]
           ],
           "sequential": [
            [
             0,
             "#0d0887"
            ],
            [
             0.1111111111111111,
             "#46039f"
            ],
            [
             0.2222222222222222,
             "#7201a8"
            ],
            [
             0.3333333333333333,
             "#9c179e"
            ],
            [
             0.4444444444444444,
             "#bd3786"
            ],
            [
             0.5555555555555556,
             "#d8576b"
            ],
            [
             0.6666666666666666,
             "#ed7953"
            ],
            [
             0.7777777777777778,
             "#fb9f3a"
            ],
            [
             0.8888888888888888,
             "#fdca26"
            ],
            [
             1,
             "#f0f921"
            ]
           ],
           "sequentialminus": [
            [
             0,
             "#0d0887"
            ],
            [
             0.1111111111111111,
             "#46039f"
            ],
            [
             0.2222222222222222,
             "#7201a8"
            ],
            [
             0.3333333333333333,
             "#9c179e"
            ],
            [
             0.4444444444444444,
             "#bd3786"
            ],
            [
             0.5555555555555556,
             "#d8576b"
            ],
            [
             0.6666666666666666,
             "#ed7953"
            ],
            [
             0.7777777777777778,
             "#fb9f3a"
            ],
            [
             0.8888888888888888,
             "#fdca26"
            ],
            [
             1,
             "#f0f921"
            ]
           ]
          },
          "colorway": [
           "#636efa",
           "#EF553B",
           "#00cc96",
           "#ab63fa",
           "#FFA15A",
           "#19d3f3",
           "#FF6692",
           "#B6E880",
           "#FF97FF",
           "#FECB52"
          ],
          "font": {
           "color": "#2a3f5f"
          },
          "geo": {
           "bgcolor": "white",
           "lakecolor": "white",
           "landcolor": "#E5ECF6",
           "showlakes": true,
           "showland": true,
           "subunitcolor": "white"
          },
          "hoverlabel": {
           "align": "left"
          },
          "hovermode": "closest",
          "mapbox": {
           "style": "light"
          },
          "paper_bgcolor": "white",
          "plot_bgcolor": "#E5ECF6",
          "polar": {
           "angularaxis": {
            "gridcolor": "white",
            "linecolor": "white",
            "ticks": ""
           },
           "bgcolor": "#E5ECF6",
           "radialaxis": {
            "gridcolor": "white",
            "linecolor": "white",
            "ticks": ""
           }
          },
          "scene": {
           "xaxis": {
            "backgroundcolor": "#E5ECF6",
            "gridcolor": "white",
            "gridwidth": 2,
            "linecolor": "white",
            "showbackground": true,
            "ticks": "",
            "zerolinecolor": "white"
           },
           "yaxis": {
            "backgroundcolor": "#E5ECF6",
            "gridcolor": "white",
            "gridwidth": 2,
            "linecolor": "white",
            "showbackground": true,
            "ticks": "",
            "zerolinecolor": "white"
           },
           "zaxis": {
            "backgroundcolor": "#E5ECF6",
            "gridcolor": "white",
            "gridwidth": 2,
            "linecolor": "white",
            "showbackground": true,
            "ticks": "",
            "zerolinecolor": "white"
           }
          },
          "shapedefaults": {
           "line": {
            "color": "#2a3f5f"
           }
          },
          "ternary": {
           "aaxis": {
            "gridcolor": "white",
            "linecolor": "white",
            "ticks": ""
           },
           "baxis": {
            "gridcolor": "white",
            "linecolor": "white",
            "ticks": ""
           },
           "bgcolor": "#E5ECF6",
           "caxis": {
            "gridcolor": "white",
            "linecolor": "white",
            "ticks": ""
           }
          },
          "title": {
           "x": 0.05
          },
          "xaxis": {
           "automargin": true,
           "gridcolor": "white",
           "linecolor": "white",
           "ticks": "",
           "title": {
            "standoff": 15
           },
           "zerolinecolor": "white",
           "zerolinewidth": 2
          },
          "yaxis": {
           "automargin": true,
           "gridcolor": "white",
           "linecolor": "white",
           "ticks": "",
           "title": {
            "standoff": 15
           },
           "zerolinecolor": "white",
           "zerolinewidth": 2
          }
         }
        },
        "title": {
         "text": "New Infectant (Predict vs. Real)"
        },
        "xaxis": {
         "title": {
          "text": "Day"
         }
        },
        "yaxis": {
         "title": {
          "text": "Population per 100k"
         }
        }
       }
      },
      "text/html": [
       "<div>                            <div id=\"36ba0304-e082-4620-89fa-f33ca3fd5909\" class=\"plotly-graph-div\" style=\"height:525px; width:100%;\"></div>            <script type=\"text/javascript\">                require([\"plotly\"], function(Plotly) {                    window.PLOTLYENV=window.PLOTLYENV || {};                                    if (document.getElementById(\"36ba0304-e082-4620-89fa-f33ca3fd5909\")) {                    Plotly.newPlot(                        \"36ba0304-e082-4620-89fa-f33ca3fd5909\",                        [{\"mode\":\"lines\",\"name\":\"Prediction\",\"x\":[0,1,2,3,4,5,6,7,8,9,10,11,12,13,14,15,16,17,18,19,20,21,22,23,24,25,26,27,28,29,30,31,32,33,34,35,36,37,38,39,40,41,42,43,44,45,46,47,48,49,50,51,52,53,54,55,56,57,58,59],\"y\":[35.4486924504389,36.10111885860761,36.75600861506143,37.41357529381895,38.074027612782054,38.73756959842222,39.40440074348353,40.07471615792761,40.74870671333678,41.42655918098249,42.108456363757604,42.79457722216324,43.48509699453249,44.18018731166632,44.88001630604973,45.58474871580898,46.29454598356471,47.00956635032906,47.729964944588936,48.45589386671205,49.187502268806476,49.924936430159555,50.6683398283766,51.41785320633533,52.173614635067054,52.93575957267147,53.704420919367585,54.47972906877931,55.2618119555503,56.05079509937928,56.846801645563154,57.64995240213238,58.46036587365938,59.27815829181833,60.10344364277135,60.93633369145373,61.776938002827976,62.62536396017444,63.481716780483566,64.34609952701302,65.21861311907064,66.09935633908242,66.98842583700308,67.88591613212469,68.79191961233784,69.70652653089799,70.62982500074848,71.5619009864506,72.5028382937698,73.45271855696622,74.41162122383712,75.37962353855733,76.35680052236403,77.34322495213083,78.33896733687617,79.34409589225025,80.35867651304491,81.38277274376998,82.41644574734032,83.45975427191712],\"type\":\"scatter\"},{\"mode\":\"lines\",\"name\":\"Real\",\"x\":[0,1,2,3,4,5,6,7,8,9,10,11,12,13,14,15,16,17,18,19,20,21,22,23,24,25,26,27,28,29,30,31,32,33,34,35,36,37,38,39,40,41,42,43,44,45,46,47,48,49,50,51,52,53,54,55,56,57,58,59],\"y\":[34.03856101458018,20.473038820111697,27.72199162877314,28.54931776454373,24.635933820738273,34.773962024154116,46.73736059062185,43.09975202540568,39.65912587346929,37.72869822333723,27.144176549821168,31.43839315929972,27.669462985231803,29.796873048642738,32.33138009949744,40.32886607861701,30.53227405821781,27.380555445756272,24.767255429589568,23.00754587096617,79.7253487343819,49.8365505595425,40.51271633100987,39.343954012223094,41.35317462766716,53.98631339928215,31.898018790283913,27.472480571953838,23.309585571325897,22.075162448113133,0.0,38.60855300264893,40.22380879153525,30.624199184413555,0.0,52.98826917200404,16.441465428338233,30.400952449364922,37.96507711927097,0.0,47.617215369934,0.0,25.64711020890263,28.549317764544412,19.488126753717097,58.07041543459627,0.0,0.0,113.51439869214255,13.644315159779126,30.624199184413555,26.06733935723105,42.810844485930375,60.3422792677452,39.23889672514133,0.0,66.85583106683225,24.399554924802942,34.905283633007],\"type\":\"scatter\"}],                        {\"template\":{\"data\":{\"barpolar\":[{\"marker\":{\"line\":{\"color\":\"#E5ECF6\",\"width\":0.5},\"pattern\":{\"fillmode\":\"overlay\",\"size\":10,\"solidity\":0.2}},\"type\":\"barpolar\"}],\"bar\":[{\"error_x\":{\"color\":\"#2a3f5f\"},\"error_y\":{\"color\":\"#2a3f5f\"},\"marker\":{\"line\":{\"color\":\"#E5ECF6\",\"width\":0.5},\"pattern\":{\"fillmode\":\"overlay\",\"size\":10,\"solidity\":0.2}},\"type\":\"bar\"}],\"carpet\":[{\"aaxis\":{\"endlinecolor\":\"#2a3f5f\",\"gridcolor\":\"white\",\"linecolor\":\"white\",\"minorgridcolor\":\"white\",\"startlinecolor\":\"#2a3f5f\"},\"baxis\":{\"endlinecolor\":\"#2a3f5f\",\"gridcolor\":\"white\",\"linecolor\":\"white\",\"minorgridcolor\":\"white\",\"startlinecolor\":\"#2a3f5f\"},\"type\":\"carpet\"}],\"choropleth\":[{\"colorbar\":{\"outlinewidth\":0,\"ticks\":\"\"},\"type\":\"choropleth\"}],\"contourcarpet\":[{\"colorbar\":{\"outlinewidth\":0,\"ticks\":\"\"},\"type\":\"contourcarpet\"}],\"contour\":[{\"colorbar\":{\"outlinewidth\":0,\"ticks\":\"\"},\"colorscale\":[[0.0,\"#0d0887\"],[0.1111111111111111,\"#46039f\"],[0.2222222222222222,\"#7201a8\"],[0.3333333333333333,\"#9c179e\"],[0.4444444444444444,\"#bd3786\"],[0.5555555555555556,\"#d8576b\"],[0.6666666666666666,\"#ed7953\"],[0.7777777777777778,\"#fb9f3a\"],[0.8888888888888888,\"#fdca26\"],[1.0,\"#f0f921\"]],\"type\":\"contour\"}],\"heatmapgl\":[{\"colorbar\":{\"outlinewidth\":0,\"ticks\":\"\"},\"colorscale\":[[0.0,\"#0d0887\"],[0.1111111111111111,\"#46039f\"],[0.2222222222222222,\"#7201a8\"],[0.3333333333333333,\"#9c179e\"],[0.4444444444444444,\"#bd3786\"],[0.5555555555555556,\"#d8576b\"],[0.6666666666666666,\"#ed7953\"],[0.7777777777777778,\"#fb9f3a\"],[0.8888888888888888,\"#fdca26\"],[1.0,\"#f0f921\"]],\"type\":\"heatmapgl\"}],\"heatmap\":[{\"colorbar\":{\"outlinewidth\":0,\"ticks\":\"\"},\"colorscale\":[[0.0,\"#0d0887\"],[0.1111111111111111,\"#46039f\"],[0.2222222222222222,\"#7201a8\"],[0.3333333333333333,\"#9c179e\"],[0.4444444444444444,\"#bd3786\"],[0.5555555555555556,\"#d8576b\"],[0.6666666666666666,\"#ed7953\"],[0.7777777777777778,\"#fb9f3a\"],[0.8888888888888888,\"#fdca26\"],[1.0,\"#f0f921\"]],\"type\":\"heatmap\"}],\"histogram2dcontour\":[{\"colorbar\":{\"outlinewidth\":0,\"ticks\":\"\"},\"colorscale\":[[0.0,\"#0d0887\"],[0.1111111111111111,\"#46039f\"],[0.2222222222222222,\"#7201a8\"],[0.3333333333333333,\"#9c179e\"],[0.4444444444444444,\"#bd3786\"],[0.5555555555555556,\"#d8576b\"],[0.6666666666666666,\"#ed7953\"],[0.7777777777777778,\"#fb9f3a\"],[0.8888888888888888,\"#fdca26\"],[1.0,\"#f0f921\"]],\"type\":\"histogram2dcontour\"}],\"histogram2d\":[{\"colorbar\":{\"outlinewidth\":0,\"ticks\":\"\"},\"colorscale\":[[0.0,\"#0d0887\"],[0.1111111111111111,\"#46039f\"],[0.2222222222222222,\"#7201a8\"],[0.3333333333333333,\"#9c179e\"],[0.4444444444444444,\"#bd3786\"],[0.5555555555555556,\"#d8576b\"],[0.6666666666666666,\"#ed7953\"],[0.7777777777777778,\"#fb9f3a\"],[0.8888888888888888,\"#fdca26\"],[1.0,\"#f0f921\"]],\"type\":\"histogram2d\"}],\"histogram\":[{\"marker\":{\"pattern\":{\"fillmode\":\"overlay\",\"size\":10,\"solidity\":0.2}},\"type\":\"histogram\"}],\"mesh3d\":[{\"colorbar\":{\"outlinewidth\":0,\"ticks\":\"\"},\"type\":\"mesh3d\"}],\"parcoords\":[{\"line\":{\"colorbar\":{\"outlinewidth\":0,\"ticks\":\"\"}},\"type\":\"parcoords\"}],\"pie\":[{\"automargin\":true,\"type\":\"pie\"}],\"scatter3d\":[{\"line\":{\"colorbar\":{\"outlinewidth\":0,\"ticks\":\"\"}},\"marker\":{\"colorbar\":{\"outlinewidth\":0,\"ticks\":\"\"}},\"type\":\"scatter3d\"}],\"scattercarpet\":[{\"marker\":{\"colorbar\":{\"outlinewidth\":0,\"ticks\":\"\"}},\"type\":\"scattercarpet\"}],\"scattergeo\":[{\"marker\":{\"colorbar\":{\"outlinewidth\":0,\"ticks\":\"\"}},\"type\":\"scattergeo\"}],\"scattergl\":[{\"marker\":{\"colorbar\":{\"outlinewidth\":0,\"ticks\":\"\"}},\"type\":\"scattergl\"}],\"scattermapbox\":[{\"marker\":{\"colorbar\":{\"outlinewidth\":0,\"ticks\":\"\"}},\"type\":\"scattermapbox\"}],\"scatterpolargl\":[{\"marker\":{\"colorbar\":{\"outlinewidth\":0,\"ticks\":\"\"}},\"type\":\"scatterpolargl\"}],\"scatterpolar\":[{\"marker\":{\"colorbar\":{\"outlinewidth\":0,\"ticks\":\"\"}},\"type\":\"scatterpolar\"}],\"scatter\":[{\"marker\":{\"colorbar\":{\"outlinewidth\":0,\"ticks\":\"\"}},\"type\":\"scatter\"}],\"scatterternary\":[{\"marker\":{\"colorbar\":{\"outlinewidth\":0,\"ticks\":\"\"}},\"type\":\"scatterternary\"}],\"surface\":[{\"colorbar\":{\"outlinewidth\":0,\"ticks\":\"\"},\"colorscale\":[[0.0,\"#0d0887\"],[0.1111111111111111,\"#46039f\"],[0.2222222222222222,\"#7201a8\"],[0.3333333333333333,\"#9c179e\"],[0.4444444444444444,\"#bd3786\"],[0.5555555555555556,\"#d8576b\"],[0.6666666666666666,\"#ed7953\"],[0.7777777777777778,\"#fb9f3a\"],[0.8888888888888888,\"#fdca26\"],[1.0,\"#f0f921\"]],\"type\":\"surface\"}],\"table\":[{\"cells\":{\"fill\":{\"color\":\"#EBF0F8\"},\"line\":{\"color\":\"white\"}},\"header\":{\"fill\":{\"color\":\"#C8D4E3\"},\"line\":{\"color\":\"white\"}},\"type\":\"table\"}]},\"layout\":{\"annotationdefaults\":{\"arrowcolor\":\"#2a3f5f\",\"arrowhead\":0,\"arrowwidth\":1},\"autotypenumbers\":\"strict\",\"coloraxis\":{\"colorbar\":{\"outlinewidth\":0,\"ticks\":\"\"}},\"colorscale\":{\"diverging\":[[0,\"#8e0152\"],[0.1,\"#c51b7d\"],[0.2,\"#de77ae\"],[0.3,\"#f1b6da\"],[0.4,\"#fde0ef\"],[0.5,\"#f7f7f7\"],[0.6,\"#e6f5d0\"],[0.7,\"#b8e186\"],[0.8,\"#7fbc41\"],[0.9,\"#4d9221\"],[1,\"#276419\"]],\"sequential\":[[0.0,\"#0d0887\"],[0.1111111111111111,\"#46039f\"],[0.2222222222222222,\"#7201a8\"],[0.3333333333333333,\"#9c179e\"],[0.4444444444444444,\"#bd3786\"],[0.5555555555555556,\"#d8576b\"],[0.6666666666666666,\"#ed7953\"],[0.7777777777777778,\"#fb9f3a\"],[0.8888888888888888,\"#fdca26\"],[1.0,\"#f0f921\"]],\"sequentialminus\":[[0.0,\"#0d0887\"],[0.1111111111111111,\"#46039f\"],[0.2222222222222222,\"#7201a8\"],[0.3333333333333333,\"#9c179e\"],[0.4444444444444444,\"#bd3786\"],[0.5555555555555556,\"#d8576b\"],[0.6666666666666666,\"#ed7953\"],[0.7777777777777778,\"#fb9f3a\"],[0.8888888888888888,\"#fdca26\"],[1.0,\"#f0f921\"]]},\"colorway\":[\"#636efa\",\"#EF553B\",\"#00cc96\",\"#ab63fa\",\"#FFA15A\",\"#19d3f3\",\"#FF6692\",\"#B6E880\",\"#FF97FF\",\"#FECB52\"],\"font\":{\"color\":\"#2a3f5f\"},\"geo\":{\"bgcolor\":\"white\",\"lakecolor\":\"white\",\"landcolor\":\"#E5ECF6\",\"showlakes\":true,\"showland\":true,\"subunitcolor\":\"white\"},\"hoverlabel\":{\"align\":\"left\"},\"hovermode\":\"closest\",\"mapbox\":{\"style\":\"light\"},\"paper_bgcolor\":\"white\",\"plot_bgcolor\":\"#E5ECF6\",\"polar\":{\"angularaxis\":{\"gridcolor\":\"white\",\"linecolor\":\"white\",\"ticks\":\"\"},\"bgcolor\":\"#E5ECF6\",\"radialaxis\":{\"gridcolor\":\"white\",\"linecolor\":\"white\",\"ticks\":\"\"}},\"scene\":{\"xaxis\":{\"backgroundcolor\":\"#E5ECF6\",\"gridcolor\":\"white\",\"gridwidth\":2,\"linecolor\":\"white\",\"showbackground\":true,\"ticks\":\"\",\"zerolinecolor\":\"white\"},\"yaxis\":{\"backgroundcolor\":\"#E5ECF6\",\"gridcolor\":\"white\",\"gridwidth\":2,\"linecolor\":\"white\",\"showbackground\":true,\"ticks\":\"\",\"zerolinecolor\":\"white\"},\"zaxis\":{\"backgroundcolor\":\"#E5ECF6\",\"gridcolor\":\"white\",\"gridwidth\":2,\"linecolor\":\"white\",\"showbackground\":true,\"ticks\":\"\",\"zerolinecolor\":\"white\"}},\"shapedefaults\":{\"line\":{\"color\":\"#2a3f5f\"}},\"ternary\":{\"aaxis\":{\"gridcolor\":\"white\",\"linecolor\":\"white\",\"ticks\":\"\"},\"baxis\":{\"gridcolor\":\"white\",\"linecolor\":\"white\",\"ticks\":\"\"},\"bgcolor\":\"#E5ECF6\",\"caxis\":{\"gridcolor\":\"white\",\"linecolor\":\"white\",\"ticks\":\"\"}},\"title\":{\"x\":0.05},\"xaxis\":{\"automargin\":true,\"gridcolor\":\"white\",\"linecolor\":\"white\",\"ticks\":\"\",\"title\":{\"standoff\":15},\"zerolinecolor\":\"white\",\"zerolinewidth\":2},\"yaxis\":{\"automargin\":true,\"gridcolor\":\"white\",\"linecolor\":\"white\",\"ticks\":\"\",\"title\":{\"standoff\":15},\"zerolinecolor\":\"white\",\"zerolinewidth\":2}}},\"title\":{\"text\":\"New Infectant (Predict vs. Real)\"},\"xaxis\":{\"title\":{\"text\":\"Day\"}},\"yaxis\":{\"title\":{\"text\":\"Population per 100k\"}}},                        {\"responsive\": true}                    ).then(function(){\n",
       "                            \n",
       "var gd = document.getElementById('36ba0304-e082-4620-89fa-f33ca3fd5909');\n",
       "var x = new MutationObserver(function (mutations, observer) {{\n",
       "        var display = window.getComputedStyle(gd).display;\n",
       "        if (!display || display === 'none') {{\n",
       "            console.log([gd, 'removed!']);\n",
       "            Plotly.purge(gd);\n",
       "            observer.disconnect();\n",
       "        }}\n",
       "}});\n",
       "\n",
       "// Listen for the removal of the full notebook cells\n",
       "var notebookContainer = gd.closest('#notebook-container');\n",
       "if (notebookContainer) {{\n",
       "    x.observe(notebookContainer, {childList: true});\n",
       "}}\n",
       "\n",
       "// Listen for the clearing of the current output cell\n",
       "var outputEl = gd.closest('.output');\n",
       "if (outputEl) {{\n",
       "    x.observe(outputEl, {childList: true});\n",
       "}}\n",
       "\n",
       "                        })                };                });            </script>        </div>"
      ]
     },
     "metadata": {},
     "output_type": "display_data"
    }
   ],
   "source": [
    "#test if the prediction \n",
    "new_in = result['New Infect'][1:len(inci)+1]\n",
    "trace0 = go.Scatter(\n",
    "      x = list(range(len(new_in))),\n",
    "      y = new_in,\n",
    "      mode = 'lines',\n",
    "      name = 'Prediction'   \n",
    ")\n",
    "trace1 = go.Scatter(\n",
    "      x = list(range(len(new_in))),\n",
    "      y = new_per_day,\n",
    "      mode = 'lines',\n",
    "      name = 'Real'   \n",
    ")\n",
    "data = [trace0, trace1]\n",
    "layout = dict(title = r'New Infectant (Predict vs. Real)', xaxis = dict(title = 'Day'), yaxis = dict(title = 'Population per 100k'))\n",
    "fig = dict(data=data, layout=layout)\n",
    "py.iplot(fig, filename='New Infectant (Predict vs. Real)')\n"
   ]
  },
  {
   "cell_type": "code",
   "execution_count": 25,
   "id": "0c5bedc8",
   "metadata": {},
   "outputs": [
    {
     "ename": "ValueError",
     "evalue": "Length of values (318) does not match length of index (303)",
     "output_type": "error",
     "traceback": [
      "\u001b[1;31m---------------------------------------------------------------------------\u001b[0m",
      "\u001b[1;31mValueError\u001b[0m                                Traceback (most recent call last)",
      "Input \u001b[1;32mIn [25]\u001b[0m, in \u001b[0;36m<module>\u001b[1;34m\u001b[0m\n\u001b[1;32m----> 1\u001b[0m covid_data \u001b[38;5;241m=\u001b[39m \u001b[43mrd\u001b[49m\u001b[38;5;241;43m.\u001b[39;49m\u001b[43mread_trend\u001b[49m\u001b[43m(\u001b[49m\u001b[38;5;124;43m'\u001b[39;49m\u001b[38;5;124;43mWashington\u001b[39;49m\u001b[38;5;124;43m'\u001b[39;49m\u001b[43m)\u001b[49m\n\u001b[0;32m      2\u001b[0m r2start \u001b[38;5;241m=\u001b[39m pd\u001b[38;5;241m.\u001b[39mto_datetime(\u001b[38;5;124m'\u001b[39m\u001b[38;5;124m2021-12-30\u001b[39m\u001b[38;5;124m'\u001b[39m)\n\u001b[0;32m      3\u001b[0m round2_data \u001b[38;5;241m=\u001b[39m covid_data\u001b[38;5;241m.\u001b[39mloc[covid_data\u001b[38;5;241m.\u001b[39mindex\u001b[38;5;241m>\u001b[39m\u001b[38;5;241m=\u001b[39mr2start,:]\n",
      "Input \u001b[1;32mIn [3]\u001b[0m, in \u001b[0;36mdata_reader.read_trend\u001b[1;34m(self, state)\u001b[0m\n\u001b[0;32m     35\u001b[0m     recovered\u001b[38;5;241m.\u001b[39mappend(data\u001b[38;5;241m.\u001b[39mloc[state,\u001b[38;5;124m'\u001b[39m\u001b[38;5;124mRecovered\u001b[39m\u001b[38;5;124m'\u001b[39m])\n\u001b[0;32m     36\u001b[0m     incident\u001b[38;5;241m.\u001b[39mappend(data\u001b[38;5;241m.\u001b[39mloc[state,\u001b[38;5;124m'\u001b[39m\u001b[38;5;124mIncident_Rate\u001b[39m\u001b[38;5;124m'\u001b[39m])\n\u001b[1;32m---> 38\u001b[0m stat \u001b[38;5;241m=\u001b[39m \u001b[43mpd\u001b[49m\u001b[38;5;241;43m.\u001b[39;49m\u001b[43mDataFrame\u001b[49m\u001b[43m(\u001b[49m\u001b[43m{\u001b[49m\u001b[38;5;124;43m'\u001b[39;49m\u001b[38;5;124;43minfect\u001b[39;49m\u001b[38;5;124;43m'\u001b[39;49m\u001b[43m:\u001b[49m\u001b[43minfect\u001b[49m\u001b[43m,\u001b[49m\u001b[43m \u001b[49m\u001b[38;5;124;43m'\u001b[39;49m\u001b[38;5;124;43mdeath\u001b[39;49m\u001b[38;5;124;43m'\u001b[39;49m\u001b[43m:\u001b[49m\u001b[43mdeath\u001b[49m\u001b[43m,\u001b[49m\u001b[43m \u001b[49m\u001b[38;5;124;43m'\u001b[39;49m\u001b[38;5;124;43mrecovered\u001b[39;49m\u001b[38;5;124;43m'\u001b[39;49m\u001b[43m:\u001b[49m\u001b[43mrecovered\u001b[49m\u001b[43m,\u001b[49m\u001b[43m \u001b[49m\u001b[38;5;124;43m'\u001b[39;49m\u001b[38;5;124;43mincident_rate\u001b[39;49m\u001b[38;5;124;43m'\u001b[39;49m\u001b[43m:\u001b[49m\u001b[43mincident\u001b[49m\u001b[43m}\u001b[49m\u001b[43m,\u001b[49m\u001b[43m \u001b[49m\u001b[43mindex\u001b[49m\u001b[38;5;241;43m=\u001b[39;49m\u001b[38;5;28;43mself\u001b[39;49m\u001b[38;5;241;43m.\u001b[39;49m\u001b[43mtimeline\u001b[49m\u001b[43m)\u001b[49m\n\u001b[0;32m     39\u001b[0m stat \u001b[38;5;241m=\u001b[39m stat\u001b[38;5;241m.\u001b[39msort_index()\n\u001b[0;32m     40\u001b[0m \u001b[38;5;66;03m#print(stat.head())\u001b[39;00m\n\u001b[0;32m     41\u001b[0m \u001b[38;5;66;03m#print(stat.tail())\u001b[39;00m\n",
      "File \u001b[1;32mc:\\users\\lizhu\\appdata\\local\\programs\\python\\python38\\lib\\site-packages\\pandas\\core\\frame.py:636\u001b[0m, in \u001b[0;36mDataFrame.__init__\u001b[1;34m(self, data, index, columns, dtype, copy)\u001b[0m\n\u001b[0;32m    630\u001b[0m     mgr \u001b[38;5;241m=\u001b[39m \u001b[38;5;28mself\u001b[39m\u001b[38;5;241m.\u001b[39m_init_mgr(\n\u001b[0;32m    631\u001b[0m         data, axes\u001b[38;5;241m=\u001b[39m{\u001b[38;5;124m\"\u001b[39m\u001b[38;5;124mindex\u001b[39m\u001b[38;5;124m\"\u001b[39m: index, \u001b[38;5;124m\"\u001b[39m\u001b[38;5;124mcolumns\u001b[39m\u001b[38;5;124m\"\u001b[39m: columns}, dtype\u001b[38;5;241m=\u001b[39mdtype, copy\u001b[38;5;241m=\u001b[39mcopy\n\u001b[0;32m    632\u001b[0m     )\n\u001b[0;32m    634\u001b[0m \u001b[38;5;28;01melif\u001b[39;00m \u001b[38;5;28misinstance\u001b[39m(data, \u001b[38;5;28mdict\u001b[39m):\n\u001b[0;32m    635\u001b[0m     \u001b[38;5;66;03m# GH#38939 de facto copy defaults to False only in non-dict cases\u001b[39;00m\n\u001b[1;32m--> 636\u001b[0m     mgr \u001b[38;5;241m=\u001b[39m \u001b[43mdict_to_mgr\u001b[49m\u001b[43m(\u001b[49m\u001b[43mdata\u001b[49m\u001b[43m,\u001b[49m\u001b[43m \u001b[49m\u001b[43mindex\u001b[49m\u001b[43m,\u001b[49m\u001b[43m \u001b[49m\u001b[43mcolumns\u001b[49m\u001b[43m,\u001b[49m\u001b[43m \u001b[49m\u001b[43mdtype\u001b[49m\u001b[38;5;241;43m=\u001b[39;49m\u001b[43mdtype\u001b[49m\u001b[43m,\u001b[49m\u001b[43m \u001b[49m\u001b[43mcopy\u001b[49m\u001b[38;5;241;43m=\u001b[39;49m\u001b[43mcopy\u001b[49m\u001b[43m,\u001b[49m\u001b[43m \u001b[49m\u001b[43mtyp\u001b[49m\u001b[38;5;241;43m=\u001b[39;49m\u001b[43mmanager\u001b[49m\u001b[43m)\u001b[49m\n\u001b[0;32m    637\u001b[0m \u001b[38;5;28;01melif\u001b[39;00m \u001b[38;5;28misinstance\u001b[39m(data, ma\u001b[38;5;241m.\u001b[39mMaskedArray):\n\u001b[0;32m    638\u001b[0m     \u001b[38;5;28;01mimport\u001b[39;00m \u001b[38;5;21;01mnumpy\u001b[39;00m\u001b[38;5;21;01m.\u001b[39;00m\u001b[38;5;21;01mma\u001b[39;00m\u001b[38;5;21;01m.\u001b[39;00m\u001b[38;5;21;01mmrecords\u001b[39;00m \u001b[38;5;28;01mas\u001b[39;00m \u001b[38;5;21;01mmrecords\u001b[39;00m\n",
      "File \u001b[1;32mc:\\users\\lizhu\\appdata\\local\\programs\\python\\python38\\lib\\site-packages\\pandas\\core\\internals\\construction.py:502\u001b[0m, in \u001b[0;36mdict_to_mgr\u001b[1;34m(data, index, columns, dtype, typ, copy)\u001b[0m\n\u001b[0;32m    494\u001b[0m     arrays \u001b[38;5;241m=\u001b[39m [\n\u001b[0;32m    495\u001b[0m         x\n\u001b[0;32m    496\u001b[0m         \u001b[38;5;28;01mif\u001b[39;00m \u001b[38;5;129;01mnot\u001b[39;00m \u001b[38;5;28mhasattr\u001b[39m(x, \u001b[38;5;124m\"\u001b[39m\u001b[38;5;124mdtype\u001b[39m\u001b[38;5;124m\"\u001b[39m) \u001b[38;5;129;01mor\u001b[39;00m \u001b[38;5;129;01mnot\u001b[39;00m \u001b[38;5;28misinstance\u001b[39m(x\u001b[38;5;241m.\u001b[39mdtype, ExtensionDtype)\n\u001b[0;32m    497\u001b[0m         \u001b[38;5;28;01melse\u001b[39;00m x\u001b[38;5;241m.\u001b[39mcopy()\n\u001b[0;32m    498\u001b[0m         \u001b[38;5;28;01mfor\u001b[39;00m x \u001b[38;5;129;01min\u001b[39;00m arrays\n\u001b[0;32m    499\u001b[0m     ]\n\u001b[0;32m    500\u001b[0m     \u001b[38;5;66;03m# TODO: can we get rid of the dt64tz special case above?\u001b[39;00m\n\u001b[1;32m--> 502\u001b[0m \u001b[38;5;28;01mreturn\u001b[39;00m \u001b[43marrays_to_mgr\u001b[49m\u001b[43m(\u001b[49m\u001b[43marrays\u001b[49m\u001b[43m,\u001b[49m\u001b[43m \u001b[49m\u001b[43mcolumns\u001b[49m\u001b[43m,\u001b[49m\u001b[43m \u001b[49m\u001b[43mindex\u001b[49m\u001b[43m,\u001b[49m\u001b[43m \u001b[49m\u001b[43mdtype\u001b[49m\u001b[38;5;241;43m=\u001b[39;49m\u001b[43mdtype\u001b[49m\u001b[43m,\u001b[49m\u001b[43m \u001b[49m\u001b[43mtyp\u001b[49m\u001b[38;5;241;43m=\u001b[39;49m\u001b[43mtyp\u001b[49m\u001b[43m,\u001b[49m\u001b[43m \u001b[49m\u001b[43mconsolidate\u001b[49m\u001b[38;5;241;43m=\u001b[39;49m\u001b[43mcopy\u001b[49m\u001b[43m)\u001b[49m\n",
      "File \u001b[1;32mc:\\users\\lizhu\\appdata\\local\\programs\\python\\python38\\lib\\site-packages\\pandas\\core\\internals\\construction.py:125\u001b[0m, in \u001b[0;36marrays_to_mgr\u001b[1;34m(arrays, columns, index, dtype, verify_integrity, typ, consolidate)\u001b[0m\n\u001b[0;32m    122\u001b[0m         index \u001b[38;5;241m=\u001b[39m ensure_index(index)\n\u001b[0;32m    124\u001b[0m     \u001b[38;5;66;03m# don't force copy because getting jammed in an ndarray anyway\u001b[39;00m\n\u001b[1;32m--> 125\u001b[0m     arrays \u001b[38;5;241m=\u001b[39m \u001b[43m_homogenize\u001b[49m\u001b[43m(\u001b[49m\u001b[43marrays\u001b[49m\u001b[43m,\u001b[49m\u001b[43m \u001b[49m\u001b[43mindex\u001b[49m\u001b[43m,\u001b[49m\u001b[43m \u001b[49m\u001b[43mdtype\u001b[49m\u001b[43m)\u001b[49m\n\u001b[0;32m    126\u001b[0m     \u001b[38;5;66;03m# _homogenize ensures\u001b[39;00m\n\u001b[0;32m    127\u001b[0m     \u001b[38;5;66;03m#  - all(len(x) == len(index) for x in arrays)\u001b[39;00m\n\u001b[0;32m    128\u001b[0m     \u001b[38;5;66;03m#  - all(x.ndim == 1 for x in arrays)\u001b[39;00m\n\u001b[1;32m   (...)\u001b[0m\n\u001b[0;32m    131\u001b[0m \n\u001b[0;32m    132\u001b[0m \u001b[38;5;28;01melse\u001b[39;00m:\n\u001b[0;32m    133\u001b[0m     index \u001b[38;5;241m=\u001b[39m ensure_index(index)\n",
      "File \u001b[1;32mc:\\users\\lizhu\\appdata\\local\\programs\\python\\python38\\lib\\site-packages\\pandas\\core\\internals\\construction.py:628\u001b[0m, in \u001b[0;36m_homogenize\u001b[1;34m(data, index, dtype)\u001b[0m\n\u001b[0;32m    623\u001b[0m             val \u001b[38;5;241m=\u001b[39m lib\u001b[38;5;241m.\u001b[39mfast_multiget(val, oindex\u001b[38;5;241m.\u001b[39m_values, default\u001b[38;5;241m=\u001b[39mnp\u001b[38;5;241m.\u001b[39mnan)\n\u001b[0;32m    625\u001b[0m         val \u001b[38;5;241m=\u001b[39m sanitize_array(\n\u001b[0;32m    626\u001b[0m             val, index, dtype\u001b[38;5;241m=\u001b[39mdtype, copy\u001b[38;5;241m=\u001b[39m\u001b[38;5;28;01mFalse\u001b[39;00m, raise_cast_failure\u001b[38;5;241m=\u001b[39m\u001b[38;5;28;01mFalse\u001b[39;00m\n\u001b[0;32m    627\u001b[0m         )\n\u001b[1;32m--> 628\u001b[0m         \u001b[43mcom\u001b[49m\u001b[38;5;241;43m.\u001b[39;49m\u001b[43mrequire_length_match\u001b[49m\u001b[43m(\u001b[49m\u001b[43mval\u001b[49m\u001b[43m,\u001b[49m\u001b[43m \u001b[49m\u001b[43mindex\u001b[49m\u001b[43m)\u001b[49m\n\u001b[0;32m    630\u001b[0m     homogenized\u001b[38;5;241m.\u001b[39mappend(val)\n\u001b[0;32m    632\u001b[0m \u001b[38;5;28;01mreturn\u001b[39;00m homogenized\n",
      "File \u001b[1;32mc:\\users\\lizhu\\appdata\\local\\programs\\python\\python38\\lib\\site-packages\\pandas\\core\\common.py:557\u001b[0m, in \u001b[0;36mrequire_length_match\u001b[1;34m(data, index)\u001b[0m\n\u001b[0;32m    553\u001b[0m \u001b[38;5;124;03m\"\"\"\u001b[39;00m\n\u001b[0;32m    554\u001b[0m \u001b[38;5;124;03mCheck the length of data matches the length of the index.\u001b[39;00m\n\u001b[0;32m    555\u001b[0m \u001b[38;5;124;03m\"\"\"\u001b[39;00m\n\u001b[0;32m    556\u001b[0m \u001b[38;5;28;01mif\u001b[39;00m \u001b[38;5;28mlen\u001b[39m(data) \u001b[38;5;241m!=\u001b[39m \u001b[38;5;28mlen\u001b[39m(index):\n\u001b[1;32m--> 557\u001b[0m     \u001b[38;5;28;01mraise\u001b[39;00m \u001b[38;5;167;01mValueError\u001b[39;00m(\n\u001b[0;32m    558\u001b[0m         \u001b[38;5;124m\"\u001b[39m\u001b[38;5;124mLength of values \u001b[39m\u001b[38;5;124m\"\u001b[39m\n\u001b[0;32m    559\u001b[0m         \u001b[38;5;124mf\u001b[39m\u001b[38;5;124m\"\u001b[39m\u001b[38;5;124m(\u001b[39m\u001b[38;5;132;01m{\u001b[39;00m\u001b[38;5;28mlen\u001b[39m(data)\u001b[38;5;132;01m}\u001b[39;00m\u001b[38;5;124m) \u001b[39m\u001b[38;5;124m\"\u001b[39m\n\u001b[0;32m    560\u001b[0m         \u001b[38;5;124m\"\u001b[39m\u001b[38;5;124mdoes not match length of index \u001b[39m\u001b[38;5;124m\"\u001b[39m\n\u001b[0;32m    561\u001b[0m         \u001b[38;5;124mf\u001b[39m\u001b[38;5;124m\"\u001b[39m\u001b[38;5;124m(\u001b[39m\u001b[38;5;132;01m{\u001b[39;00m\u001b[38;5;28mlen\u001b[39m(index)\u001b[38;5;132;01m}\u001b[39;00m\u001b[38;5;124m)\u001b[39m\u001b[38;5;124m\"\u001b[39m\n\u001b[0;32m    562\u001b[0m     )\n",
      "\u001b[1;31mValueError\u001b[0m: Length of values (318) does not match length of index (303)"
     ]
    }
   ],
   "source": [
    "covid_data = rd.read_trend('Washington')\n",
    "r2start = pd.to_datetime('2021-12-30')\n",
    "round2_data = covid_data.loc[covid_data.index>=r2start,:]\n",
    "round2_data = covid_data.loc[covid_data.index>=r2start,:]\n",
    "inci = np.array(round2_data['incident_rate'])\n",
    "new_per_day = inci[1:]-inci[:-1]\n",
    "plt.plot(new_per_day)\n",
    "plt.show()\n",
    "#print(inci)"
   ]
  },
  {
   "cell_type": "markdown",
   "id": "7536e407",
   "metadata": {},
   "source": [
    "don't know why the result do not works, but the parameters are computed already."
   ]
  },
  {
   "cell_type": "code",
   "execution_count": 36,
   "id": "6bcce7a6",
   "metadata": {},
   "outputs": [],
   "source": [
    "R0 = 2\n",
    "#initial values of the model\n",
    "S =  100000-inci[0]\n",
    "E = R0*inci[0]\n",
    "I = inci[0]\n",
    "R = 0"
   ]
  },
  {
   "cell_type": "code",
   "execution_count": 24,
   "id": "f36b2be1",
   "metadata": {},
   "outputs": [
    {
     "ename": "KeyboardInterrupt",
     "evalue": "",
     "output_type": "error",
     "traceback": [
      "\u001b[1;31m---------------------------------------------------------------------------\u001b[0m",
      "\u001b[1;31mKeyboardInterrupt\u001b[0m                         Traceback (most recent call last)",
      "Input \u001b[1;32mIn [24]\u001b[0m, in \u001b[0;36m<module>\u001b[1;34m\u001b[0m\n\u001b[0;32m      6\u001b[0m \u001b[38;5;28;01mfor\u001b[39;00m sigma \u001b[38;5;129;01min\u001b[39;00m np\u001b[38;5;241m.\u001b[39marange(\u001b[38;5;241m0.01\u001b[39m,\u001b[38;5;241m1.\u001b[39m,\u001b[38;5;241m0.01\u001b[39m):\n\u001b[0;32m      7\u001b[0m     \u001b[38;5;28;01mfor\u001b[39;00m gamma \u001b[38;5;129;01min\u001b[39;00m np\u001b[38;5;241m.\u001b[39marange(\u001b[38;5;241m0.01\u001b[39m,\u001b[38;5;241m1.\u001b[39m,\u001b[38;5;241m0.01\u001b[39m):\n\u001b[1;32m----> 8\u001b[0m         result \u001b[38;5;241m=\u001b[39m \u001b[43mbase_seir_model\u001b[49m\u001b[43m(\u001b[49m\u001b[43mS\u001b[49m\u001b[43m,\u001b[49m\u001b[43mE\u001b[49m\u001b[43m,\u001b[49m\u001b[43mI\u001b[49m\u001b[43m,\u001b[49m\u001b[43mR\u001b[49m\u001b[43m,\u001b[49m\u001b[43mbeta\u001b[49m\u001b[43m,\u001b[49m\u001b[43msigma\u001b[49m\u001b[43m,\u001b[49m\u001b[43mgamma\u001b[49m\u001b[43m,\u001b[49m\u001b[43m \u001b[49m\u001b[43mt\u001b[49m\u001b[43m \u001b[49m\u001b[38;5;241;43m=\u001b[39;49m\u001b[43m \u001b[49m\u001b[38;5;28;43mlen\u001b[39;49m\u001b[43m(\u001b[49m\u001b[43minci\u001b[49m\u001b[43m)\u001b[49m\u001b[43m)\u001b[49m\n\u001b[0;32m      9\u001b[0m         new_pre \u001b[38;5;241m=\u001b[39m result[\u001b[38;5;124m'\u001b[39m\u001b[38;5;124mNew Infect\u001b[39m\u001b[38;5;124m'\u001b[39m][\u001b[38;5;241m1\u001b[39m:]\n\u001b[0;32m     10\u001b[0m         c_loss \u001b[38;5;241m=\u001b[39m loss(new_per_day,new_pre)\n",
      "Input \u001b[1;32mIn [10]\u001b[0m, in \u001b[0;36mbase_seir_model\u001b[1;34m(s, e, i, r, beta, sigma, gamma, t)\u001b[0m\n\u001b[0;32m     38\u001b[0m     I\u001b[38;5;241m.\u001b[39mappend(next_I)\n\u001b[0;32m     39\u001b[0m     R\u001b[38;5;241m.\u001b[39mappend(next_R)\n\u001b[1;32m---> 41\u001b[0m data \u001b[38;5;241m=\u001b[39m \u001b[43mnp\u001b[49m\u001b[38;5;241;43m.\u001b[39;49m\u001b[43mstack\u001b[49m\u001b[43m(\u001b[49m\u001b[43m[\u001b[49m\u001b[43mS\u001b[49m\u001b[43m,\u001b[49m\u001b[43m \u001b[49m\u001b[43mE\u001b[49m\u001b[43m,\u001b[49m\u001b[43m \u001b[49m\u001b[43mI\u001b[49m\u001b[43m,\u001b[49m\u001b[43m \u001b[49m\u001b[43mR\u001b[49m\u001b[43m,\u001b[49m\u001b[43mnew_infect\u001b[49m\u001b[43m]\u001b[49m\u001b[43m)\u001b[49m\u001b[38;5;241m.\u001b[39mT\n\u001b[0;32m     42\u001b[0m s \u001b[38;5;241m=\u001b[39m pd\u001b[38;5;241m.\u001b[39mDataFrame(data, columns\u001b[38;5;241m=\u001b[39m[\u001b[38;5;124m'\u001b[39m\u001b[38;5;124mSusceptible\u001b[39m\u001b[38;5;124m'\u001b[39m,\u001b[38;5;124m'\u001b[39m\u001b[38;5;124mExposed\u001b[39m\u001b[38;5;124m'\u001b[39m,\u001b[38;5;124m'\u001b[39m\u001b[38;5;124mInfectant\u001b[39m\u001b[38;5;124m'\u001b[39m,\u001b[38;5;124m'\u001b[39m\u001b[38;5;124mRecovered\u001b[39m\u001b[38;5;124m'\u001b[39m,\u001b[38;5;124m'\u001b[39m\u001b[38;5;124mNew Infect\u001b[39m\u001b[38;5;124m'\u001b[39m])\n\u001b[0;32m     43\u001b[0m \u001b[38;5;28;01mreturn\u001b[39;00m s\n",
      "File \u001b[1;32m<__array_function__ internals>:180\u001b[0m, in \u001b[0;36mstack\u001b[1;34m(*args, **kwargs)\u001b[0m\n",
      "File \u001b[1;32mc:\\users\\lizhu\\appdata\\local\\programs\\python\\python38\\lib\\site-packages\\numpy\\core\\shape_base.py:433\u001b[0m, in \u001b[0;36mstack\u001b[1;34m(arrays, axis, out)\u001b[0m\n\u001b[0;32m    431\u001b[0m sl \u001b[38;5;241m=\u001b[39m (\u001b[38;5;28mslice\u001b[39m(\u001b[38;5;28;01mNone\u001b[39;00m),) \u001b[38;5;241m*\u001b[39m axis \u001b[38;5;241m+\u001b[39m (_nx\u001b[38;5;241m.\u001b[39mnewaxis,)\n\u001b[0;32m    432\u001b[0m expanded_arrays \u001b[38;5;241m=\u001b[39m [arr[sl] \u001b[38;5;28;01mfor\u001b[39;00m arr \u001b[38;5;129;01min\u001b[39;00m arrays]\n\u001b[1;32m--> 433\u001b[0m \u001b[38;5;28;01mreturn\u001b[39;00m \u001b[43m_nx\u001b[49m\u001b[38;5;241;43m.\u001b[39;49m\u001b[43mconcatenate\u001b[49m\u001b[43m(\u001b[49m\u001b[43mexpanded_arrays\u001b[49m\u001b[43m,\u001b[49m\u001b[43m \u001b[49m\u001b[43maxis\u001b[49m\u001b[38;5;241;43m=\u001b[39;49m\u001b[43maxis\u001b[49m\u001b[43m,\u001b[49m\u001b[43m \u001b[49m\u001b[43mout\u001b[49m\u001b[38;5;241;43m=\u001b[39;49m\u001b[43mout\u001b[49m\u001b[43m)\u001b[49m\n",
      "File \u001b[1;32m<__array_function__ internals>:180\u001b[0m, in \u001b[0;36mconcatenate\u001b[1;34m(*args, **kwargs)\u001b[0m\n",
      "\u001b[1;31mKeyboardInterrupt\u001b[0m: "
     ]
    }
   ],
   "source": [
    "min_loss = 10000000\n",
    "b=0\n",
    "s=0\n",
    "g=0\n",
    "for beta in np.arange(0.01,1,0.01):\n",
    "    for sigma in np.arange(0.01,1.,0.01):\n",
    "        for gamma in np.arange(0.01,1.,0.01):\n",
    "            result = base_seir_model(S,E,I,R,beta,sigma,gamma, t = len(inci))\n",
    "            new_pre = result['New Infect'][1:]\n",
    "            c_loss = loss(new_per_day,new_pre)\n",
    "            if c_loss <min_loss:\n",
    "                min_loss=c_loss\n",
    "                b=beta\n",
    "                s=sigma\n",
    "                g=gamma\n",
    "\n",
    "print(b,s,g)"
   ]
  },
  {
   "cell_type": "code",
   "execution_count": 18,
   "id": "02588064",
   "metadata": {},
   "outputs": [
    {
     "data": {
      "application/vnd.plotly.v1+json": {
       "config": {
        "linkText": "Export to plot.ly",
        "plotlyServerURL": "https://plot.ly",
        "showLink": false
       },
       "data": [
        {
         "mode": "lines",
         "name": "Susceptible",
         "type": "scatter",
         "x": [
          0,
          1,
          2,
          3,
          4,
          5,
          6,
          7,
          8,
          9,
          10,
          11,
          12,
          13,
          14,
          15,
          16,
          17,
          18,
          19,
          20,
          21,
          22,
          23,
          24,
          25,
          26,
          27,
          28,
          29,
          30,
          31,
          32,
          33,
          34,
          35,
          36,
          37,
          38,
          39,
          40,
          41,
          42,
          43,
          44,
          45,
          46,
          47,
          48,
          49,
          50,
          51,
          52,
          53,
          54,
          55,
          56,
          57,
          58,
          59,
          60,
          61,
          62,
          63,
          64,
          65,
          66,
          67,
          68,
          69,
          70,
          71,
          72,
          73,
          74,
          75,
          76,
          77,
          78,
          79,
          80,
          81,
          82,
          83,
          84,
          85,
          86,
          87,
          88,
          89,
          90,
          91,
          92,
          93,
          94,
          95,
          96,
          97,
          98,
          99,
          100,
          101,
          102,
          103,
          104,
          105,
          106,
          107,
          108,
          109,
          110,
          111,
          112,
          113,
          114,
          115,
          116,
          117,
          118,
          119,
          120,
          121,
          122,
          123,
          124,
          125,
          126,
          127,
          128,
          129,
          130,
          131,
          132,
          133,
          134,
          135,
          136,
          137,
          138,
          139,
          140,
          141,
          142,
          143,
          144,
          145,
          146,
          147,
          148,
          149,
          150,
          151,
          152,
          153,
          154,
          155,
          156,
          157,
          158,
          159,
          160,
          161,
          162,
          163,
          164,
          165,
          166,
          167,
          168,
          169,
          170,
          171,
          172,
          173,
          174,
          175,
          176,
          177,
          178,
          179,
          180,
          181,
          182,
          183,
          184,
          185,
          186,
          187,
          188,
          189,
          190,
          191,
          192,
          193,
          194,
          195,
          196,
          197,
          198,
          199,
          200,
          201,
          202,
          203,
          204,
          205,
          206,
          207,
          208,
          209,
          210,
          211,
          212,
          213,
          214,
          215,
          216,
          217,
          218,
          219,
          220,
          221,
          222,
          223,
          224,
          225,
          226,
          227,
          228,
          229,
          230,
          231,
          232,
          233,
          234,
          235,
          236,
          237,
          238,
          239,
          240,
          241,
          242,
          243,
          244,
          245,
          246,
          247,
          248,
          249,
          250,
          251,
          252,
          253,
          254,
          255,
          256,
          257,
          258,
          259,
          260,
          261,
          262,
          263,
          264,
          265,
          266,
          267,
          268,
          269,
          270,
          271,
          272,
          273,
          274,
          275,
          276,
          277,
          278,
          279,
          280,
          281,
          282,
          283,
          284,
          285,
          286,
          287,
          288,
          289,
          290,
          291,
          292,
          293,
          294,
          295,
          296,
          297,
          298,
          299,
          300,
          301,
          302,
          303,
          304,
          305,
          306,
          307,
          308,
          309,
          310,
          311,
          312,
          313,
          314,
          315,
          316,
          317,
          318,
          319,
          320,
          321,
          322,
          323,
          324,
          325,
          326,
          327,
          328,
          329,
          330,
          331,
          332,
          333,
          334,
          335,
          336,
          337,
          338,
          339,
          340,
          341,
          342,
          343,
          344,
          345,
          346,
          347,
          348,
          349,
          350,
          351,
          352,
          353,
          354,
          355,
          356,
          357,
          358,
          359
         ],
         "y": [
          94682.69613243417,
          94447.74968814378,
          94264.9462001131,
          94117.10868366016,
          93992.98475448089,
          93885.18438103491,
          93788.84202911315,
          93700.74520315281,
          93618.76523853683,
          93541.48483025283,
          93467.9539953023,
          93397.53004506024,
          93329.77258251376,
          93264.37457218667,
          93201.11707286921,
          93139.83949928943,
          93080.42007798348,
          93022.76299687498,
          92966.7899509121,
          92912.43457527636,
          92859.63877561851,
          92808.3503047921,
          92758.52115880857,
          92710.10651134572,
          92663.06400242756,
          92617.35326013695,
          92572.93557576498,
          92529.77368009169,
          92487.83158642164,
          92447.07447777691,
          92407.46862339017,
          92368.98131472601,
          92331.5808146007,
          92295.23631516691,
          92259.91790197357,
          92225.59652225992,
          92192.24395626655,
          92159.83279075677,
          92128.33639421096,
          92097.72889333466,
          92067.98515063775,
          92039.08074291903,
          92010.99194054164,
          91983.69568741803,
          91957.16958164562,
          91931.39185674897,
          91906.3413634944,
          91881.99755224917,
          91858.34045586243,
          91835.35067304793,
          91813.00935225065,
          91791.29817598137,
          91770.19934560399,
          91749.69556656173,
          91729.77003402867,
          91710.40641897394,
          91691.58885462633,
          91673.30192332737,
          91655.53064376165,
          91638.26045855325,
          91621.47722221754,
          91605.16718945817,
          91589.31700379905,
          91573.91368654172,
          91558.94462603859,
          91544.39756727287,
          91530.26060173652,
          91516.52215759722,
          91503.17099014646,
          91490.19617252018,
          91477.58708668445,
          91465.33341467827,
          91453.42513010629,
          91441.85248987407,
          91430.60602615903,
          91419.67653861015,
          91409.05508676998,
          91398.7329827125,
          91388.70178389065,
          91378.95328618733,
          91369.47951716442,
          91360.27272950366,
          91351.32539463424,
          91342.63019654156,
          91334.18002575201,
          91325.96797348876,
          91317.98732599361,
          91310.23155901016,
          91302.69433242368,
          91295.36948505319,
          91288.2510295915,
          91281.33314768868,
          91274.6101851753,
          91268.07664742102,
          91261.72719482495,
          91255.55663843392,
          91249.55993568494,
          91243.73218626846,
          91238.06862810884,
          91232.56463345877,
          91227.21570510433,
          91222.0174726777,
          91216.96568907413,
          91212.05622697054,
          91207.28507544272,
          91202.64833667822,
          91198.14222278238,
          91193.76305267475,
          91189.50724907339,
          91185.37133556443,
          91181.35193375466,
          91177.44576050459,
          91173.64962523984,
          91169.96042733853,
          91166.37515359266,
          91162.89087574113,
          91159.50474807268,
          91156.21400509648,
          91153.01595927861,
          91149.90799884254,
          91146.88758563178,
          91143.9522530329,
          91141.0996039573,
          91138.32730887989,
          91135.63310393337,
          91133.01478905621,
          91130.4702261929,
          91127.99733754527,
          91125.59410387289,
          91123.25856284177,
          91120.98880741945,
          91118.78298431553,
          91116.63929246627,
          91114.55598156182,
          91112.5313506152,
          91110.56374657157,
          91108.6515629568,
          91106.79323856416,
          91104.98725617811,
          91103.23214133405,
          91101.52646111317,
          91099.8688229712,
          91098.25787360026,
          91096.69229782287,
          91095.17081751704,
          91093.69219057182,
          91092.25520987227,
          91090.85870231298,
          91089.50152783959,
          91088.18257851715,
          91086.90077762495,
          91085.6550787767,
          91084.44446506568,
          91083.26794823389,
          91082.12456786468,
          91081.01339059816,
          91079.9335093687,
          91078.88404266392,
          91077.86413380469,
          91076.87295024522,
          91075.9096828931,
          91074.97354544842,
          91074.06377376145,
          91073.17962520855,
          91072.32037808564,
          91071.48533101873,
          91070.67380239109,
          91069.88512978656,
          91069.11866944862,
          91068.37379575458,
          91067.64990070468,
          91066.94639342559,
          91066.2626996879,
          91065.59826143715,
          91064.95253633815,
          91064.32499733214,
          91063.71513220634,
          91063.12244317579,
          91062.5464464768,
          91061.986671972,
          91061.44266276642,
          91060.91397483448,
          91060.40017665738,
          91059.90084887082,
          91059.41558392259,
          91058.94398573978,
          91058.48566940546,
          91058.04026084437,
          91057.60739651753,
          91057.18672312543,
          91056.7778973196,
          91056.38058542226,
          91055.99446315397,
          91055.61921536883,
          91055.25453579723,
          91054.90012679578,
          91054.55569910437,
          91054.22097161002,
          91053.89567111735,
          91053.57953212562,
          91053.2722966119,
          91052.97371382057,
          91052.68354005845,
          91052.40153849605,
          91052.12747897409,
          91051.86113781568,
          91051.60229764377,
          91051.35074720361,
          91051.1062811904,
          91050.86870008163,
          91050.63780997426,
          91050.4134224264,
          91050.19535430352,
          91049.98342762896,
          91049.77746943865,
          91049.57731163989,
          91049.3827908742,
          91049.19374838394,
          91049.01002988275,
          91048.83148542957,
          91048.65796930632,
          91048.4893398989,
          91048.3254595816,
          91048.16619460481,
          91048.01141498583,
          91047.86099440274,
          91047.71481009136,
          91047.57274274497,
          91047.434676417,
          91047.30049842635,
          91047.17009926544,
          91047.04337251079,
          91046.92021473622,
          91046.80052542839,
          91046.68420690477,
          91046.5711642339,
          91046.46130515794,
          91046.35454001732,
          91046.25078167762,
          91046.1499454584,
          91046.05194906412,
          91045.95671251696,
          91045.86415809153,
          91045.77421025145,
          91045.6867955877,
          91045.60184275867,
          91045.519282432,
          91045.43904722792,
          91045.36107166432,
          91045.28529210323,
          91045.21164669898,
          91045.14007534763,
          91045.07051963799,
          91045.00292280386,
          91044.9372296778,
          91044.87338664604,
          91044.81134160474,
          91044.75104391745,
          91044.69244437381,
          91044.63549514937,
          91044.58014976655,
          91044.52636305674,
          91044.47409112338,
          91044.42329130622,
          91044.37392214639,
          91044.32594335267,
          91044.27931576852,
          91044.2340013402,
          91044.18996308565,
          91044.14716506434,
          91044.10557234794,
          91044.06515099178,
          91044.02586800719,
          91043.98769133454,
          91043.95058981709,
          91043.91453317559,
          91043.8794919835,
          91043.84543764306,
          91043.81234236187,
          91043.78017913023,
          91043.74892169917,
          91043.7185445589,
          91043.68902291807,
          91043.66033268356,
          91043.63245044074,
          91043.60535343442,
          91043.57901955026,
          91043.55342729672,
          91043.5285557875,
          91043.50438472454,
          91043.48089438141,
          91043.45806558727,
          91043.43587971113,
          91043.41431864674,
          91043.39336479774,
          91043.37300106336,
          91043.35321082441,
          91043.33397792977,
          91043.31528668314,
          91043.2971218303,
          91043.27946854662,
          91043.262312425,
          91043.24563946402,
          91043.22943605663,
          91043.21368897897,
          91043.19838537961,
          91043.18351276904,
          91043.1690590095,
          91043.15501230503,
          91043.14136119191,
          91043.12809452928,
          91043.11520149,
          91043.10267155187,
          91043.090494489,
          91043.07866036354,
          91043.06715951745,
          91043.05598256474,
          91043.04512038371,
          91043.0345641096,
          91043.02430512727,
          91043.01433506422,
          91043.00464578372,
          91042.99522937821,
          91042.98607816284,
          91042.97718466916,
          91042.96854163907,
          91042.96014201886,
          91042.95197895348,
          91042.94404578094,
          91042.93633602686,
          91042.9288433992,
          91042.92156178314,
          91042.91448523602,
          91042.90760798259,
          91042.90092441022,
          91042.89442906436,
          91042.88811664406,
          91042.88198199766,
          91042.87602011861,
          91042.87022614131,
          91042.86459533725,
          91042.85912311102,
          91042.85380499667,
          91042.84863665403,
          91042.84361386513,
          91042.8387325308,
          91042.83398866732,
          91042.82937840316,
          91042.82489797582,
          91042.82054372877,
          91042.81631210844,
          91042.81219966133,
          91042.80820303125,
          91042.80431895648,
          91042.80054426717,
          91042.79687588275,
          91042.7933108094,
          91042.78984613763,
          91042.78647903986,
          91042.78320676816
         ]
        },
        {
         "mode": "lines",
         "name": "Exposed",
         "type": "scatter",
         "x": [
          0,
          1,
          2,
          3,
          4,
          5,
          6,
          7,
          8,
          9,
          10,
          11,
          12,
          13,
          14,
          15,
          16,
          17,
          18,
          19,
          20,
          21,
          22,
          23,
          24,
          25,
          26,
          27,
          28,
          29,
          30,
          31,
          32,
          33,
          34,
          35,
          36,
          37,
          38,
          39,
          40,
          41,
          42,
          43,
          44,
          45,
          46,
          47,
          48,
          49,
          50,
          51,
          52,
          53,
          54,
          55,
          56,
          57,
          58,
          59,
          60,
          61,
          62,
          63,
          64,
          65,
          66,
          67,
          68,
          69,
          70,
          71,
          72,
          73,
          74,
          75,
          76,
          77,
          78,
          79,
          80,
          81,
          82,
          83,
          84,
          85,
          86,
          87,
          88,
          89,
          90,
          91,
          92,
          93,
          94,
          95,
          96,
          97,
          98,
          99,
          100,
          101,
          102,
          103,
          104,
          105,
          106,
          107,
          108,
          109,
          110,
          111,
          112,
          113,
          114,
          115,
          116,
          117,
          118,
          119,
          120,
          121,
          122,
          123,
          124,
          125,
          126,
          127,
          128,
          129,
          130,
          131,
          132,
          133,
          134,
          135,
          136,
          137,
          138,
          139,
          140,
          141,
          142,
          143,
          144,
          145,
          146,
          147,
          148,
          149,
          150,
          151,
          152,
          153,
          154,
          155,
          156,
          157,
          158,
          159,
          160,
          161,
          162,
          163,
          164,
          165,
          166,
          167,
          168,
          169,
          170,
          171,
          172,
          173,
          174,
          175,
          176,
          177,
          178,
          179,
          180,
          181,
          182,
          183,
          184,
          185,
          186,
          187,
          188,
          189,
          190,
          191,
          192,
          193,
          194,
          195,
          196,
          197,
          198,
          199,
          200,
          201,
          202,
          203,
          204,
          205,
          206,
          207,
          208,
          209,
          210,
          211,
          212,
          213,
          214,
          215,
          216,
          217,
          218,
          219,
          220,
          221,
          222,
          223,
          224,
          225,
          226,
          227,
          228,
          229,
          230,
          231,
          232,
          233,
          234,
          235,
          236,
          237,
          238,
          239,
          240,
          241,
          242,
          243,
          244,
          245,
          246,
          247,
          248,
          249,
          250,
          251,
          252,
          253,
          254,
          255,
          256,
          257,
          258,
          259,
          260,
          261,
          262,
          263,
          264,
          265,
          266,
          267,
          268,
          269,
          270,
          271,
          272,
          273,
          274,
          275,
          276,
          277,
          278,
          279,
          280,
          281,
          282,
          283,
          284,
          285,
          286,
          287,
          288,
          289,
          290,
          291,
          292,
          293,
          294,
          295,
          296,
          297,
          298,
          299,
          300,
          301,
          302,
          303,
          304,
          305,
          306,
          307,
          308,
          309,
          310,
          311,
          312,
          313,
          314,
          315,
          316,
          317,
          318,
          319,
          320,
          321,
          322,
          323,
          324,
          325,
          326,
          327,
          328,
          329,
          330,
          331,
          332,
          333,
          334,
          335,
          336,
          337,
          338,
          339,
          340,
          341,
          342,
          343,
          344,
          345,
          346,
          347,
          348,
          349,
          350,
          351,
          352,
          353,
          354,
          355,
          356,
          357,
          358,
          359
         ],
         "y": [
          3544.86924504389,
          3602.5722270820866,
          3605.2471037586574,
          3572.822265023661,
          3518.305080951754,
          3450.1902003501395,
          3374.023042254399,
          3293.418716102026,
          3210.7277449129006,
          3127.471765951258,
          3044.6290126042218,
          2962.821512216078,
          2882.437899151745,
          2803.7140145212447,
          2726.7858131126513,
          2651.724096036792,
          2578.557312540911,
          2507.286528022358,
          2437.8952475841234,
          2370.355860840664,
          2304.6338674564804,
          2240.690644910072,
          2178.4852586481006,
          2117.975643178549,
          2059.1193699377736,
          2001.874143731491,
          1946.1981209168962,
          1892.0501105443357,
          1839.3896986871605,
          1788.177322397533,
          1738.3743106644001,
          1689.9429037953396,
          1642.8462587308825,
          1597.0484452281298,
          1552.514436160063,
          1509.2100940657208,
          1467.1021553558014,
          1426.1582130977963,
          1386.3466989887256,
          1347.6368649155859,
          1309.9987643667152,
          1273.4032338670938,
          1237.821874551123,
          1203.227033947175,
          1169.5917880222362,
          1136.889923517766,
          1105.0959205964452,
          1074.184935811855,
          1044.132785407997,
          1014.9159289520969,
          986.5114533017661,
          958.8970569059627,
          932.0510344380468,
          905.9522617584079,
          880.5801812035528,
          855.9147871981022,
          831.9366121858121,
          808.6267128754838,
          785.9666567974232,
          763.9385091659551,
          742.5248200433693,
          721.7086118005761,
          701.4733668696664,
          681.8030157835095,
          662.6819254974732,
          644.0948879883131,
          626.0271091252556,
          608.4641978082832,
          591.3921553686264,
          574.7973652264683,
          558.6665828008793,
          542.9869256670167,
          527.7458639556469,
          512.9312109900758,
          498.531114155611,
          484.53404599671444,
          470.92879553704836,
          457.70445981766625,
          444.850435648648,
          432.3564115695346,
          420.2123600139718,
          408.4085296740327,
          396.93543805974883,
          385.78386424944273,
          374.94484182651934,
          364.4096519984394,
          354.16981689366514,
          344.21709303243614,
          334.54346496730375,
          325.14113908941994,
          316.0025375966478,
          307.1202926196315,
          298.4872405020334,
          290.09641623121684,
          281.94104801572513,
          274.0145520059756,
          266.3105271546599,
          258.82275021341115,
          251.5451708623676,
          244.47190696933237,
          237.5972399752974,
          230.91561040316748,
          224.42161348658738,
          218.1099949158429,
          211.97564669787104,
          206.01360312748076,
          200.21903686694972,
          194.58725513122567,
          189.11369597602413,
          183.793924686175,
          178.62363026163226,
          173.59862199862013,
          168.71482616344775,
          163.96828275658274,
          159.35514236463072,
          154.87166309792326,
          150.51420761147213,
          146.27924020710122,
          142.16332401462063,
          138.16311824995879,
          134.2753755482199,
          130.4969393696833,
          126.82474147681057,
          123.2557994803737,
          119.78721445286486,
          116.41616860739407,
          113.1399230403257,
          109.95581553594928,
          106.86125843152267,
          103.85373654106778,
          100.93080513634045,
          98.09008798343608,
          95.329275433532,
          92.64612256630625,
          90.03844738460953,
          87.50412905900453,
          85.04110622082192,
          82.64737530241793,
          80.32098892335239,
          78.06005432123955,
          75.86273182605657,
          73.72723337672659,
          71.65182107882401,
          69.63480580228048,
          67.67454581799899,
          65.76944547231292,
          63.91795389825474,
          62.11856376262656,
          60.369810047891654,
          58.67026886793192,
          57.018556316742,
          55.41332734915544,
          53.853274692722465,
          52.33712778988266,
          50.86365176959863,
          49.43164644763943,
          48.039945354723976,
          46.6874147917564,
          45.372952911405626,
          44.09548882530186,
          42.853981736142394,
          41.647420094018116,
          40.47482077629095,
          39.33522829037052,
          38.22771399875621,
          37.15137536572771,
          36.10533522508439,
          35.088741068349755,
          34.10076435287346,
          33.14059982927869,
          32.20746488771793,
          31.30059892241474,
          30.419262713983493,
          29.562737829033008,
          28.730326036573448,
          27.92134874075915,
          27.13514642951284,
          26.37107813858918,
          25.628520930647788,
          24.90686938891765,
          24.205535125046413,
          23.52394630073924,
          22.86154716280274,
          22.21779759122025,
          21.59217265989489,
          20.984162209706962,
          20.39327043354207,
          19.819015472955666,
          19.260929026149213,
          18.718555966941967,
          18.191453974431198,
          17.67919317304222,
          17.18135578267779,
          16.69753577868462,
          16.2273385613624,
          15.770380634748568,
          15.326289294419269,
          14.894702324054329,
          14.47526770052094,
          14.06764330723766,
          13.671496655586933,
          13.286504614150797,
          12.912353145550684,
          12.548737050678382,
          12.195359720111085,
          11.851932892509296,
          11.518176419801895,
          11.19381803896819,
          10.87859315023205,
          10.57224460148836,
          10.274522478787112,
          9.985183902705225,
          9.703992830441047,
          9.430719863471003,
          9.16514206061239,
          8.907042756340662,
          8.656211384213789,
          8.41244330526039,
          8.17553964119236,
          7.945307112306568,
          7.721557879944061,
          7.504109393378805,
          7.292784241011638,
          7.087410005748563,
          6.887819124445888,
          6.693848751308028,
          6.505340625126964,
          6.322140940255463,
          6.144100221209205,
          5.971073200795871,
          5.802918701672125,
          5.639499521232186,
          5.480682319734397,
          5.326337511574803,
          5.176339159619322,
          5.030564872508555,
          4.8888957048517,
          4.751216060228374,
          4.617413596919423,
          4.487379136290028,
          4.361006573750534,
          4.23819279222256,
          4.118837578039955,
          4.002843539216144,
          3.8901160260113494,
          3.780563053735004,
          3.6740952277205268,
          3.570625670411369,
          3.4700699504989614,
          3.372346014054868,
          3.2773741176010542,
          3.1850767630637784,
          3.095378634558117,
          3.008206536951642,
          2.923489336157214,
          2.841157901106244,
          2.761145047355167,
          2.683385482279175,
          2.6078157518085736,
          2.534374188664346,
          2.4630008620507695,
          2.3936375287640788,
          2.326227585677344,
          2.26071602356284,
          2.197049382214283,
          2.135175706832351,
          2.075044505637952,
          2.0166067086786907,
          1.9598146277949577,
          1.9046219177130124,
          1.8509835382333464,
          1.7988557174835047,
          1.7481959162054104,
          1.6989627930480804,
          1.6511161708374382,
          1.6046170037957257,
          1.5594273456837884,
          1.515510318840262,
          1.4728300840924173,
          1.4313518115141293,
          1.39104165200713,
          1.351866709682372,
          1.3137950150189814,
          1.276795498778916,
          1.2408379666560558,
          1.2058930746390533,
          1.1719323050678532,
          1.1389279433643567,
          1.106853055418252,
          1.0756814656095697,
          1.0453877354500387,
          1.0159471428258255,
          0.9873356618247248,
          0.9595299431313505,
          0.9325072949743375,
          0.9062456646100127,
          0.8807236203274346,
          0.8559203339601232,
          0.8318155638902153,
          0.8083896385311825,
          0.7856234402756397,
          0.7634983898951486,
          0.741996431379293,
          0.7211000172016577,
          0.7007920940006915,
          0.6810560886637753,
          0.6618758948031414,
          0.6432358596126129,
          0.6251207710944409,
          0.607515845645819,
          0.5904067159949489,
          0.5737794194768148,
          0.5576203866391022,
          0.5419164301689654,
          0.5266547341316102,
          0.511822843511912,
          0.49740865405053636,
          0.4834004023662714,
          0.4697866563565114,
          0.456556305868061,
          0.44369855363064814,
          0.43120290644574844,
          0.41905916662353226,
          0.40725742366094825,
          0.39578804615415275,
          0.3846416739386872,
          0.3738092104509903,
          0.36328181530501236,
          0.35305089707787535,
          0.343108106298692,
          0.3334453286348233,
          0.3240546782700152,
          0.314928491469011,
          0.3060593203233883,
          0.29743992667351854,
          0.2890632762016885,
          0.2809225326915643,
          0.2730110524493144,
          0.2653223788818387,
          0.2578502372276801,
          0.250588529436319,
          0.24353132919167222,
          0.23667287707573592,
          0.2300075758684256,
          0.2235299859797784,
          0.21723482101079014,
          0.2111169434392647,
          0.20517136042715564,
          0.19939321974597848,
          0.19377780581696916,
          0.188320535862757,
          0.18301695616741215,
          0.17786273844181566,
          0.17285367629138598,
          0.16798568178327986,
          0.163254782110266,
          0.1586571163485496,
          0.15418893230690134,
          0.1498465834645205,
          0.14562652599513273
         ]
        },
        {
         "mode": "lines",
         "name": "Exposed",
         "type": "scatter",
         "x": [
          0,
          1,
          2,
          3,
          4,
          5,
          6,
          7,
          8,
          9,
          10,
          11,
          12,
          13,
          14,
          15,
          16,
          17,
          18,
          19,
          20,
          21,
          22,
          23,
          24,
          25,
          26,
          27,
          28,
          29,
          30,
          31,
          32,
          33,
          34,
          35,
          36,
          37,
          38,
          39,
          40,
          41,
          42,
          43,
          44,
          45,
          46,
          47,
          48,
          49,
          50,
          51,
          52,
          53,
          54,
          55,
          56,
          57,
          58,
          59,
          60,
          61,
          62,
          63,
          64,
          65,
          66,
          67,
          68,
          69,
          70,
          71,
          72,
          73,
          74,
          75,
          76,
          77,
          78,
          79,
          80,
          81,
          82,
          83,
          84,
          85,
          86,
          87,
          88,
          89,
          90,
          91,
          92,
          93,
          94,
          95,
          96,
          97,
          98,
          99,
          100,
          101,
          102,
          103,
          104,
          105,
          106,
          107,
          108,
          109,
          110,
          111,
          112,
          113,
          114,
          115,
          116,
          117,
          118,
          119,
          120,
          121,
          122,
          123,
          124,
          125,
          126,
          127,
          128,
          129,
          130,
          131,
          132,
          133,
          134,
          135,
          136,
          137,
          138,
          139,
          140,
          141,
          142,
          143,
          144,
          145,
          146,
          147,
          148,
          149,
          150,
          151,
          152,
          153,
          154,
          155,
          156,
          157,
          158,
          159,
          160,
          161,
          162,
          163,
          164,
          165,
          166,
          167,
          168,
          169,
          170,
          171,
          172,
          173,
          174,
          175,
          176,
          177,
          178,
          179,
          180,
          181,
          182,
          183,
          184,
          185,
          186,
          187,
          188,
          189,
          190,
          191,
          192,
          193,
          194,
          195,
          196,
          197,
          198,
          199,
          200,
          201,
          202,
          203,
          204,
          205,
          206,
          207,
          208,
          209,
          210,
          211,
          212,
          213,
          214,
          215,
          216,
          217,
          218,
          219,
          220,
          221,
          222,
          223,
          224,
          225,
          226,
          227,
          228,
          229,
          230,
          231,
          232,
          233,
          234,
          235,
          236,
          237,
          238,
          239,
          240,
          241,
          242,
          243,
          244,
          245,
          246,
          247,
          248,
          249,
          250,
          251,
          252,
          253,
          254,
          255,
          256,
          257,
          258,
          259,
          260,
          261,
          262,
          263,
          264,
          265,
          266,
          267,
          268,
          269,
          270,
          271,
          272,
          273,
          274,
          275,
          276,
          277,
          278,
          279,
          280,
          281,
          282,
          283,
          284,
          285,
          286,
          287,
          288,
          289,
          290,
          291,
          292,
          293,
          294,
          295,
          296,
          297,
          298,
          299,
          300,
          301,
          302,
          303,
          304,
          305,
          306,
          307,
          308,
          309,
          310,
          311,
          312,
          313,
          314,
          315,
          316,
          317,
          318,
          319,
          320,
          321,
          322,
          323,
          324,
          325,
          326,
          327,
          328,
          329,
          330,
          331,
          332,
          333,
          334,
          335,
          336,
          337,
          338,
          339,
          340,
          341,
          342,
          343,
          344,
          345,
          346,
          347,
          348,
          349,
          350,
          351,
          352,
          353,
          354,
          355,
          356,
          357,
          358,
          359
         ],
         "y": [
          1772.434622521945,
          1382.499005567117,
          1120.2279351397437,
          942.0173510829586,
          819.2129119875949,
          732.9800341991522,
          670.9359332729305,
          624.9375867383127,
          589.628494787154,
          561.4837637009098,
          538.1825476141815,
          518.1955830078546,
          500.514072056145,
          484.4714639557659,
          469.6262962159831,
          455.685172082501,
          442.45212181794034,
          429.79530846324496,
          417.6251361561245,
          405.87985496537084,
          394.51609441848535,
          383.50263757739407,
          372.8163257981316,
          362.43936447513454,
          352.3575500020189,
          342.55910249826155,
          333.0338968853924,
          323.77295592791165,
          314.7681155581967,
          306.0118035139318,
          297.4968925093503,
          289.2166024395782,
          281.1644348486802,
          273.3341286336466,
          265.7196297322862,
          258.31507002595777,
          251.11475232093733,
          244.11313934602745,
          237.30484541018848,
          230.68462982836445,
          224.2473915290671,
          217.98816445810138,
          211.90211352486364,
          205.98453092446343,
          200.23083272599388,
          194.63655565478763,
          189.1973540211439,
          183.9089967642001,
          178.76736459024883,
          173.76844719176904,
          168.9083405380078,
          164.1832442309336,
          159.589458922333,
          155.1233837890888,
          150.78151406450078,
          146.56043862403817,
          142.45683762425108,
          138.46748019378134,
          134.5892221755455,
          130.8190039192421,
          127.15384812338239,
          123.59085772606849,
          120.12721384375538,
          116.76017375723697,
          113.48706894409662,
          110.30530315685937,
          107.21235054608002,
          104.20575382759719,
          101.28312249318024,
          98.44213106379388,
          95.68051738470325,
          92.99608096164218,
          90.38668133726752,
          87.85023650712427,
          85.38472137434829,
          82.98816624233739,
          80.65865534462515,
          78.39432541119751,
          76.19336427049763,
          74.05400948637079,
          71.97454702920886,
          69.95330998056062,
          67.98867727048285,
          66.07907244691577,
          64.22296247637486,
          62.418856575260875,
          60.66530507109937,
          58.96089829303082,
          57.30426549088277,
          55.694073782165475,
          54.129027126343516,
          52.607865325745976,
          51.12936305248884,
          49.69232890079408,
          48.29560446410082,
          46.93806343637481,
          45.61861073703365,
          44.336181658915876,
          43.08974103873335,
          41.87828244945706,
          40.70082741409742,
          39.55642464035112,
          38.444149275597134,
          37.36310218173542,
          36.312409229372236,
          35.291220610866674,
          34.298710171763375,
          33.33407476014658,
          32.39653359346096,
          31.485327642354658,
          30.599719031109917,
          29.738990454236358,
          28.90244460881173,
          28.089403642164363,
          27.299208614500905,
          26.531218976092152,
          25.784812058638828,
          25.05938258044801,
          24.35434216505971,
          23.669118872971634,
          23.00315674611865,
          22.355915364771676,
          21.726869416528906,
          21.115508277080185,
          20.52133560243321,
          19.94386893229783,
          19.382639304332226,
          18.837190878962197,
          18.307080574491756,
          17.79187771223053,
          17.29116367137015,
          16.804531553348724,
          16.331585855448935,
          15.871942153381877,
          15.425226792614989,
          14.991076588208669,
          14.569138532932122,
          14.15906951343494,
          13.760536034256656,
          13.373213949462146,
          12.996788201696237,
          12.63095256845627,
          12.275409415386592,
          11.929869456404084,
          11.5940515204688,
          11.267682324818734,
          10.950496254492386,
          10.64223514796756,
          10.342648088749268,
          10.051491202744085,
          9.768527461262574,
          9.49352648949565,
          9.226264380314815,
          8.966523513250198,
          8.714092378504269,
          8.468765405862834,
          8.2303427983687,
          7.998630370626914,
          7.773439391614122,
          7.554586431867884,
          7.341893214935254,
          7.135186472963092,
          6.934297806315808,
          6.739063547109296,
          6.549324626552847,
          6.3649264459937465,
          6.185718751562133,
          6.01155551231647,
          5.842294801792687,
          5.677798682862701,
          5.517933095810571,
          5.362567749537085,
          5.211576015805955,
          5.064834826447224,
          4.922224573435763,
          4.783629011764991,
          4.648935165038152,
          4.518033233701585,
          4.390816505846537,
          4.2671812705080345,
          4.147026733391346,
          4.030254934958436,
          3.916770670808699,
          3.8064814142900523,
          3.699297241278248,
          3.595130757063953,
          3.4938970252888364,
          3.3955134988735125,
          3.2998999528817716,
          3.2069784192670654,
          3.116673123448703,
          3.028910422666678,
          2.943618746065452,
          2.8607285364583968,
          2.780172193725941,
          2.70188401980176,
          2.6258001652026253,
          2.5518585770587485,
          2.4799989486026655,
          2.4101626700758594,
          2.3422927810134673,
          2.2763339238685045,
          2.212232298938123,
          2.149935620555458,
          2.0893930745116305,
          2.030555276673463,
          1.9733742327634196,
          1.9178032992692202,
          1.8637971454514792,
          1.8113117164186083,
          1.7603041972390718,
          1.7107329780619245,
          1.66255762021737,
          1.615738823269864,
          1.5702383929970576,
          1.5260192102686188,
          1.483045200799694,
          1.4412813057544813,
          1.4006934531760669,
          1.3612485302193436,
          1.322914356164482,
          1.285659656189051,
          1.2494540358774948,
          1.2142679564472783,
          1.1800727106715774,
          1.146840399478967,
          1.1145439092110991,
          1.0831568895198957,
          1.0526537318863023,
          1.0230095487431459,
          0.9942001531851328,
          0.9662020392494965,
          0.938992362751267,
          0.9125489226575814,
          0.8868501429858955,
          0.861875055211375,
          0.8376032811691627,
          0.8140150164376156,
          0.7910910141889973,
          0.7688125694944893,
          0.7471615040707541,
          0.7261201514556395,
          0.7056713426009629,
          0.6857983918706525,
          0.6664850834328508,
          0.647715658034906,
          0.6294748001504863,
          0.611747625488357,
          0.5945196688526513,
          0.577776872344751,
          0.561505573897174,
          0.545692496130131,
          0.530324735521678,
          0.5153897518826469,
          0.500875358127782,
          0.48676971033475247,
          0.4730612980829439,
          0.4597389350641602,
          0.4467917499575877,
          0.4342091775615883,
          0.42198095017509735,
          0.41009708922160465,
          0.3985478971088951,
          0.38732394931791586,
          0.3764160867143248,
          0.365815408076455,
          0.35551326283360696,
          0.3455012440087503,
          0.33577118135988476,
          0.32631513471446955,
          0.3171253874914899,
          0.30819444040588045,
          0.29951500535017395,
          0.2910799994483888,
          0.28288253927730844,
          0.27491593525044167,
          0.26717368616008663,
          0.2596494738730483,
          0.25233715817568597,
          0.24523077176408734,
          0.23832451537528587,
          0.2316127530555509,
          0.2250900075618932,
          0.21875095589303645,
          0.2125904249462106,
          0.20660338729622602,
          0.20078495709338634,
          0.19513038607689537,
          0.1896350597005067,
          0.18429449336725717,
          0.17910432877021337,
          0.17406033033624702,
          0.16915838176993925,
          0.16439448269479492,
          0.15976474538902807,
          0.15526539161325598,
          0.1508927495275147,
          0.14664325069508172,
          0.14251342717066173,
          0.13849990867056075,
          0.13459941982254042,
          0.13080877749310948,
          0.1271248881900719,
          0.12354474553821354,
          0.1200654278260681,
          0.1166840956217609,
          0.11339798945598617,
          0.11020442757022766,
          0.10710080372838546,
          0.10408458509002416,
          0.10115331014350738,
          0.09830458669733247,
          0.09553608992802681,
          0.09284556048301335,
          0.09023080263689734,
          0.0876896824996707,
          0.08522012627537168,
          0.08282011856977955,
          0.08048770074576367,
          0.07822096932494486,
          0.07601807443436556,
          0.07387721829690098,
          0.0717966537641801,
          0.06977468289081908,
          0.06780965554880439,
          0.06589996808089463,
          0.06404406199194271,
          0.062240422677070556,
          0.0604875781856586,
          0.05878409802014162,
          0.057128591968630904,
          0.055519708970410184,
          0.05395613601337969,
          0.05243659706254874,
          0.05095985201870255,
          0.049524695706393666,
          0.04812995689043212,
          0.04677449732007206,
          0.04545721080011472,
          0.04417702228816994,
          0.04293288701733956,
          0.04172378964360685,
          0.04054874341723627,
          0.03940678937750746,
          0.03829699557012635,
          0.03721845628667484,
          0.0361702913254784,
          0.03515164527328855,
          0.034161686807193996,
          0.033199608016190846,
          0.032264623741858234,
          0.03135597093760145,
          0.030472908045939596,
          0.02961471439332971,
          0.0287806896020335,
          0.027970153018546773,
          0.027182443158125104,
          0.02641691716495255,
          0.0256729502875128,
          0.02494993536873473
         ]
        },
        {
         "mode": "lines",
         "name": "Exposed",
         "type": "scatter",
         "x": [
          0,
          1,
          2,
          3,
          4,
          5,
          6,
          7,
          8,
          9,
          10,
          11,
          12,
          13,
          14,
          15,
          16,
          17,
          18,
          19,
          20,
          21,
          22,
          23,
          24,
          25,
          26,
          27,
          28,
          29,
          30,
          31,
          32,
          33,
          34,
          35,
          36,
          37,
          38,
          39,
          40,
          41,
          42,
          43,
          44,
          45,
          46,
          47,
          48,
          49,
          50,
          51,
          52,
          53,
          54,
          55,
          56,
          57,
          58,
          59,
          60,
          61,
          62,
          63,
          64,
          65,
          66,
          67,
          68,
          69,
          70,
          71,
          72,
          73,
          74,
          75,
          76,
          77,
          78,
          79,
          80,
          81,
          82,
          83,
          84,
          85,
          86,
          87,
          88,
          89,
          90,
          91,
          92,
          93,
          94,
          95,
          96,
          97,
          98,
          99,
          100,
          101,
          102,
          103,
          104,
          105,
          106,
          107,
          108,
          109,
          110,
          111,
          112,
          113,
          114,
          115,
          116,
          117,
          118,
          119,
          120,
          121,
          122,
          123,
          124,
          125,
          126,
          127,
          128,
          129,
          130,
          131,
          132,
          133,
          134,
          135,
          136,
          137,
          138,
          139,
          140,
          141,
          142,
          143,
          144,
          145,
          146,
          147,
          148,
          149,
          150,
          151,
          152,
          153,
          154,
          155,
          156,
          157,
          158,
          159,
          160,
          161,
          162,
          163,
          164,
          165,
          166,
          167,
          168,
          169,
          170,
          171,
          172,
          173,
          174,
          175,
          176,
          177,
          178,
          179,
          180,
          181,
          182,
          183,
          184,
          185,
          186,
          187,
          188,
          189,
          190,
          191,
          192,
          193,
          194,
          195,
          196,
          197,
          198,
          199,
          200,
          201,
          202,
          203,
          204,
          205,
          206,
          207,
          208,
          209,
          210,
          211,
          212,
          213,
          214,
          215,
          216,
          217,
          218,
          219,
          220,
          221,
          222,
          223,
          224,
          225,
          226,
          227,
          228,
          229,
          230,
          231,
          232,
          233,
          234,
          235,
          236,
          237,
          238,
          239,
          240,
          241,
          242,
          243,
          244,
          245,
          246,
          247,
          248,
          249,
          250,
          251,
          252,
          253,
          254,
          255,
          256,
          257,
          258,
          259,
          260,
          261,
          262,
          263,
          264,
          265,
          266,
          267,
          268,
          269,
          270,
          271,
          272,
          273,
          274,
          275,
          276,
          277,
          278,
          279,
          280,
          281,
          282,
          283,
          284,
          285,
          286,
          287,
          288,
          289,
          290,
          291,
          292,
          293,
          294,
          295,
          296,
          297,
          298,
          299,
          300,
          301,
          302,
          303,
          304,
          305,
          306,
          307,
          308,
          309,
          310,
          311,
          312,
          313,
          314,
          315,
          316,
          317,
          318,
          319,
          320,
          321,
          322,
          323,
          324,
          325,
          326,
          327,
          328,
          329,
          330,
          331,
          332,
          333,
          334,
          335,
          336,
          337,
          338,
          339,
          340,
          341,
          342,
          343,
          344,
          345,
          346,
          347,
          348,
          349,
          350,
          351,
          352,
          353,
          354,
          355,
          356,
          357,
          358,
          359
         ],
         "y": [
          0,
          567.1790792070224,
          1009.5787609884998,
          1368.0517002332178,
          1669.4972525797646,
          1931.645384415795,
          2166.198995359524,
          2380.8984940068617,
          2580.8785217631216,
          2769.5596400950108,
          2949.234444479302,
          3121.45285971584,
          3287.2754462783537,
          3447.43994933632,
          3602.470817802165,
          3752.75123259128,
          3898.57048765768,
          4040.155166639421,
          4177.68966534766,
          4311.329708917619,
          4441.211262506538,
          4567.456412720454,
          4690.17725674522,
          4809.478481000622,
          4925.459077632665,
          5038.213493633311,
          5147.832406432755,
          5254.403253436081,
          5358.010599333013,
          5458.736396311636,
          5556.660173436094,
          5651.859179039086,
          5744.40849181975,
          5834.381110971328,
          5921.848032134095,
          6006.878313648426,
          6089.539136056733,
          6169.895856799432,
          6248.012061390161,
          6323.949611921421,
          6397.768693466497,
          6469.527858755799,
          6539.284071382391,
          6607.092747710347,
          6673.007797606175,
          6737.081664078492,
          6799.365361888024,
          6859.90851517479,
          6918.759394139334,
          6975.964950808214,
          7031.57085390958,
          7085.621522881743,
          7138.160161035641,
          7189.228787890787,
          7238.868270703296,
          7287.1183552039365,
          7334.017695563629,
          7379.6038836033895,
          7423.9134772654,
          7466.9820283615745,
          7508.844109615732,
          7549.533341015214,
          7589.082415487556,
          7627.523123917558,
          7664.886379519874,
          7701.202241581985,
          7736.49993859218,
          7770.807890766926,
          7804.153731991757,
          7836.564331189575,
          7868.065813129989,
          7898.683578693094,
          7928.44232460082,
          7957.366062628746,
          7985.478138311026,
          8012.801249150817,
          8039.357462348365,
          8065.168232058644,
          8090.254416190228,
          8114.636292756787,
          8138.333575792426,
          8161.365430841773,
          8183.7504900355525,
          8205.506866762107,
          8226.65216994512,
          8247.20351793756,
          8267.177552041643,
          8286.590449664394,
          8305.457937118164,
          8323.795302075247,
          8341.61740568554,
          8358.93869436597,
          8375.773211270209,
          8392.134607447006,
          8408.03615269526,
          8423.490746123773,
          8438.510926423412,
          8453.108881859263,
          8467.296459990117,
          8481.085177122512,
          8494.486227506339,
          8507.51049227885,
          8520.168548163763,
          8532.470675931954,
          8544.42686863011,
          8556.046839583509,
          8567.340030178986,
          8578.315617433951,
          8588.982521357198,
          8599.349412107105,
          8609.424716952659,
          8619.216627042613,
          8628.733103987968,
          8637.981886262787,
          8646.97049542828,
          8655.70624218492,
          8664.19623225727,
          8672.447372116036,
          8680.466374541778,
          8688.259764034598,
          8695.833882073948,
          8703.194892232706,
          8710.348785149434,
          8717.301383362723,
          8724.058346011388,
          8730.625173404167,
          8737.007211462502,
          8743.209656039888,
          8749.237557121156,
          8755.095822904994,
          8760.789223772908,
          8766.322396147747,
          8771.69984624482,
          8776.925953718563,
          8782.004975207645,
          8786.941047781282,
          8791.73819228951,
          8796.400316620047,
          8800.931218864347,
          8805.334590395309,
          8809.614018859136,
          8813.772991083679,
          8817.814895905585,
          8821.74302691851,
          8825.56058514456,
          8829.27068163111,
          8832.876339975051,
          8836.380498776489,
          8839.786014023839,
          8843.095661412239,
          8846.312138597117,
          8849.43806738472,
          8852.47599586136,
          8855.42840046306,
          8858.2976879873,
          8861.086197548422,
          8863.7962024783,
          8866.429912173777,
          8868.989473892378,
          8871.476974497695,
          8873.894442155892,
          8876.243847984671,
          8878.52710765602,
          8880.746082954041,
          8882.902583289117,
          8884.998367169614,
          8887.03514363233,
          8889.01457363283,
          8890.938271396772,
          8892.807805733346,
          8894.624701311863,
          8896.390439902521,
          8898.106461582373,
          8899.77416590743,
          8901.394913051894,
          8902.970024915394,
          8904.500786199158,
          8905.98844545197,
          8907.434216086755,
          8908.839277368625,
          8910.204775375187,
          8911.531823929872,
          8912.821505509059,
          8914.074872123718,
          8915.29294617629,
          8916.4767212935,
          8917.627163135761,
          8918.745210183853,
          8919.831774503493,
          8920.887742488416,
          8921.913975582582,
          8922.911310982085,
          8923.880562317338,
          8924.822520316078,
          8925.737953447744,
          8926.627608549736,
          8927.492211436072,
          8928.332467488937,
          8929.149062233597,
          8929.94266189715,
          8930.713913951575,
          8931.4634476415,
          8932.191874497137,
          8932.899788832798,
          8933.587768231375,
          8934.256374015218,
          8934.906151703753,
          8935.537631458237,
          8936.151328514003,
          8936.747743600547,
          8937.327363349801,
          8937.890660692918,
          8938.438095245898,
          8938.970113684367,
          8939.487150107812,
          8939.989626393572,
          8940.477952540858,
          8940.952527005113,
          8941.413737022955,
          8941.861958927972,
          8942.297558457642,
          8942.720891051615,
          8943.132302141596,
          8943.532127433076,
          8943.92069317914,
          8944.298316446555,
          8944.665305374388,
          8945.021959425336,
          8945.368569629982,
          8945.705418824185,
          8946.032781879783,
          8946.350925928802,
          8946.660110581362,
          8946.960588137443,
          8947.252603792693,
          8947.536395838448,
          8947.812195856115,
          8948.080228906088,
          8948.340713711348,
          8948.593862835889,
          8948.839882858127,
          8949.078974539429,
          8949.311332987894,
          8949.537147817526,
          8949.756603302923,
          8949.969878529622,
          8950.177147540193,
          8950.37857947624,
          8950.574338716397,
          8950.764585010429,
          8950.949473609578,
          8951.129155393226,
          8951.303776991988,
          8951.473480907356,
          8951.638405627958,
          8951.798685742559,
          8951.954452049866,
          8952.105831665252,
          8952.252948124473,
          8952.39592148446,
          8952.53486842128,
          8952.669902325337,
          8952.801133393888,
          8952.928668720964,
          8953.052612384747,
          8953.173065532495,
          8953.29012646308,
          8953.403890707186,
          8953.51445110527,
          8953.621897883304,
          8953.726318726413,
          8953.82779885041,
          8953.92642107134,
          8954.022265873053,
          8954.115411472876,
          8954.205933885445,
          8954.293906984725,
          8954.379402564296,
          8954.462490395936,
          8954.543238286551,
          8954.621712133516,
          8954.697975978435,
          8954.772092059413,
          8954.844120861833,
          8954.91412116772,
          8954.982150103702,
          8955.048263187637,
          8955.112514373906,
          8955.174956097451,
          8955.235639316556,
          8955.294613554433,
          8955.35192693964,
          8955.407626245347,
          8955.461756927514,
          8955.514363161976,
          8955.5654878805,
          8955.615172805816,
          8955.663458485664,
          8955.710384325886,
          8955.75598862258,
          8955.800308593356,
          8955.8433804077,
          8955.885239216497,
          8955.925919180718,
          8955.96545349929,
          8956.003874436194,
          8956.041213346793,
          8956.077500703419,
          8956.11276612024,
          8956.147038377434,
          8956.180345444664,
          8956.21271450391,
          8956.244171971653,
          8956.274743520431,
          8956.304454099785,
          8956.333327956629,
          8956.361388655028,
          8956.388659095437,
          8956.41516153338,
          8956.440917597618,
          8956.465948307801,
          8956.49027409162,
          8956.513914801475,
          8956.53688973068,
          8956.559217629205,
          8956.58091671898,
          8956.602004708766,
          8956.622498808603,
          8956.64241574386,
          8956.661771768879,
          8956.680582680245,
          8956.698863829675,
          8956.716630136545,
          8956.73389610007,
          8956.75067581113,
          8956.766982963776,
          8956.782830866403,
          8956.798232452607,
          8956.81320029175,
          8956.827746599207,
          8956.84188324634,
          8956.855621770184,
          8956.86897338287,
          8956.881948980765,
          8956.894559153365,
          8956.906814191947,
          8956.918724097959,
          8956.930298591184,
          8956.94154711767,
          8956.952478857449,
          8956.963102732014,
          8956.97342741161,
          8956.98346132231,
          8956.993212652886,
          8957.002689361492,
          8957.011899182166,
          8957.020849631132,
          8957.029548012943,
          8957.038001426436,
          8957.046216770528
         ]
        }
       ],
       "layout": {
        "template": {
         "data": {
          "bar": [
           {
            "error_x": {
             "color": "#2a3f5f"
            },
            "error_y": {
             "color": "#2a3f5f"
            },
            "marker": {
             "line": {
              "color": "#E5ECF6",
              "width": 0.5
             },
             "pattern": {
              "fillmode": "overlay",
              "size": 10,
              "solidity": 0.2
             }
            },
            "type": "bar"
           }
          ],
          "barpolar": [
           {
            "marker": {
             "line": {
              "color": "#E5ECF6",
              "width": 0.5
             },
             "pattern": {
              "fillmode": "overlay",
              "size": 10,
              "solidity": 0.2
             }
            },
            "type": "barpolar"
           }
          ],
          "carpet": [
           {
            "aaxis": {
             "endlinecolor": "#2a3f5f",
             "gridcolor": "white",
             "linecolor": "white",
             "minorgridcolor": "white",
             "startlinecolor": "#2a3f5f"
            },
            "baxis": {
             "endlinecolor": "#2a3f5f",
             "gridcolor": "white",
             "linecolor": "white",
             "minorgridcolor": "white",
             "startlinecolor": "#2a3f5f"
            },
            "type": "carpet"
           }
          ],
          "choropleth": [
           {
            "colorbar": {
             "outlinewidth": 0,
             "ticks": ""
            },
            "type": "choropleth"
           }
          ],
          "contour": [
           {
            "colorbar": {
             "outlinewidth": 0,
             "ticks": ""
            },
            "colorscale": [
             [
              0,
              "#0d0887"
             ],
             [
              0.1111111111111111,
              "#46039f"
             ],
             [
              0.2222222222222222,
              "#7201a8"
             ],
             [
              0.3333333333333333,
              "#9c179e"
             ],
             [
              0.4444444444444444,
              "#bd3786"
             ],
             [
              0.5555555555555556,
              "#d8576b"
             ],
             [
              0.6666666666666666,
              "#ed7953"
             ],
             [
              0.7777777777777778,
              "#fb9f3a"
             ],
             [
              0.8888888888888888,
              "#fdca26"
             ],
             [
              1,
              "#f0f921"
             ]
            ],
            "type": "contour"
           }
          ],
          "contourcarpet": [
           {
            "colorbar": {
             "outlinewidth": 0,
             "ticks": ""
            },
            "type": "contourcarpet"
           }
          ],
          "heatmap": [
           {
            "colorbar": {
             "outlinewidth": 0,
             "ticks": ""
            },
            "colorscale": [
             [
              0,
              "#0d0887"
             ],
             [
              0.1111111111111111,
              "#46039f"
             ],
             [
              0.2222222222222222,
              "#7201a8"
             ],
             [
              0.3333333333333333,
              "#9c179e"
             ],
             [
              0.4444444444444444,
              "#bd3786"
             ],
             [
              0.5555555555555556,
              "#d8576b"
             ],
             [
              0.6666666666666666,
              "#ed7953"
             ],
             [
              0.7777777777777778,
              "#fb9f3a"
             ],
             [
              0.8888888888888888,
              "#fdca26"
             ],
             [
              1,
              "#f0f921"
             ]
            ],
            "type": "heatmap"
           }
          ],
          "heatmapgl": [
           {
            "colorbar": {
             "outlinewidth": 0,
             "ticks": ""
            },
            "colorscale": [
             [
              0,
              "#0d0887"
             ],
             [
              0.1111111111111111,
              "#46039f"
             ],
             [
              0.2222222222222222,
              "#7201a8"
             ],
             [
              0.3333333333333333,
              "#9c179e"
             ],
             [
              0.4444444444444444,
              "#bd3786"
             ],
             [
              0.5555555555555556,
              "#d8576b"
             ],
             [
              0.6666666666666666,
              "#ed7953"
             ],
             [
              0.7777777777777778,
              "#fb9f3a"
             ],
             [
              0.8888888888888888,
              "#fdca26"
             ],
             [
              1,
              "#f0f921"
             ]
            ],
            "type": "heatmapgl"
           }
          ],
          "histogram": [
           {
            "marker": {
             "pattern": {
              "fillmode": "overlay",
              "size": 10,
              "solidity": 0.2
             }
            },
            "type": "histogram"
           }
          ],
          "histogram2d": [
           {
            "colorbar": {
             "outlinewidth": 0,
             "ticks": ""
            },
            "colorscale": [
             [
              0,
              "#0d0887"
             ],
             [
              0.1111111111111111,
              "#46039f"
             ],
             [
              0.2222222222222222,
              "#7201a8"
             ],
             [
              0.3333333333333333,
              "#9c179e"
             ],
             [
              0.4444444444444444,
              "#bd3786"
             ],
             [
              0.5555555555555556,
              "#d8576b"
             ],
             [
              0.6666666666666666,
              "#ed7953"
             ],
             [
              0.7777777777777778,
              "#fb9f3a"
             ],
             [
              0.8888888888888888,
              "#fdca26"
             ],
             [
              1,
              "#f0f921"
             ]
            ],
            "type": "histogram2d"
           }
          ],
          "histogram2dcontour": [
           {
            "colorbar": {
             "outlinewidth": 0,
             "ticks": ""
            },
            "colorscale": [
             [
              0,
              "#0d0887"
             ],
             [
              0.1111111111111111,
              "#46039f"
             ],
             [
              0.2222222222222222,
              "#7201a8"
             ],
             [
              0.3333333333333333,
              "#9c179e"
             ],
             [
              0.4444444444444444,
              "#bd3786"
             ],
             [
              0.5555555555555556,
              "#d8576b"
             ],
             [
              0.6666666666666666,
              "#ed7953"
             ],
             [
              0.7777777777777778,
              "#fb9f3a"
             ],
             [
              0.8888888888888888,
              "#fdca26"
             ],
             [
              1,
              "#f0f921"
             ]
            ],
            "type": "histogram2dcontour"
           }
          ],
          "mesh3d": [
           {
            "colorbar": {
             "outlinewidth": 0,
             "ticks": ""
            },
            "type": "mesh3d"
           }
          ],
          "parcoords": [
           {
            "line": {
             "colorbar": {
              "outlinewidth": 0,
              "ticks": ""
             }
            },
            "type": "parcoords"
           }
          ],
          "pie": [
           {
            "automargin": true,
            "type": "pie"
           }
          ],
          "scatter": [
           {
            "marker": {
             "colorbar": {
              "outlinewidth": 0,
              "ticks": ""
             }
            },
            "type": "scatter"
           }
          ],
          "scatter3d": [
           {
            "line": {
             "colorbar": {
              "outlinewidth": 0,
              "ticks": ""
             }
            },
            "marker": {
             "colorbar": {
              "outlinewidth": 0,
              "ticks": ""
             }
            },
            "type": "scatter3d"
           }
          ],
          "scattercarpet": [
           {
            "marker": {
             "colorbar": {
              "outlinewidth": 0,
              "ticks": ""
             }
            },
            "type": "scattercarpet"
           }
          ],
          "scattergeo": [
           {
            "marker": {
             "colorbar": {
              "outlinewidth": 0,
              "ticks": ""
             }
            },
            "type": "scattergeo"
           }
          ],
          "scattergl": [
           {
            "marker": {
             "colorbar": {
              "outlinewidth": 0,
              "ticks": ""
             }
            },
            "type": "scattergl"
           }
          ],
          "scattermapbox": [
           {
            "marker": {
             "colorbar": {
              "outlinewidth": 0,
              "ticks": ""
             }
            },
            "type": "scattermapbox"
           }
          ],
          "scatterpolar": [
           {
            "marker": {
             "colorbar": {
              "outlinewidth": 0,
              "ticks": ""
             }
            },
            "type": "scatterpolar"
           }
          ],
          "scatterpolargl": [
           {
            "marker": {
             "colorbar": {
              "outlinewidth": 0,
              "ticks": ""
             }
            },
            "type": "scatterpolargl"
           }
          ],
          "scatterternary": [
           {
            "marker": {
             "colorbar": {
              "outlinewidth": 0,
              "ticks": ""
             }
            },
            "type": "scatterternary"
           }
          ],
          "surface": [
           {
            "colorbar": {
             "outlinewidth": 0,
             "ticks": ""
            },
            "colorscale": [
             [
              0,
              "#0d0887"
             ],
             [
              0.1111111111111111,
              "#46039f"
             ],
             [
              0.2222222222222222,
              "#7201a8"
             ],
             [
              0.3333333333333333,
              "#9c179e"
             ],
             [
              0.4444444444444444,
              "#bd3786"
             ],
             [
              0.5555555555555556,
              "#d8576b"
             ],
             [
              0.6666666666666666,
              "#ed7953"
             ],
             [
              0.7777777777777778,
              "#fb9f3a"
             ],
             [
              0.8888888888888888,
              "#fdca26"
             ],
             [
              1,
              "#f0f921"
             ]
            ],
            "type": "surface"
           }
          ],
          "table": [
           {
            "cells": {
             "fill": {
              "color": "#EBF0F8"
             },
             "line": {
              "color": "white"
             }
            },
            "header": {
             "fill": {
              "color": "#C8D4E3"
             },
             "line": {
              "color": "white"
             }
            },
            "type": "table"
           }
          ]
         },
         "layout": {
          "annotationdefaults": {
           "arrowcolor": "#2a3f5f",
           "arrowhead": 0,
           "arrowwidth": 1
          },
          "autotypenumbers": "strict",
          "coloraxis": {
           "colorbar": {
            "outlinewidth": 0,
            "ticks": ""
           }
          },
          "colorscale": {
           "diverging": [
            [
             0,
             "#8e0152"
            ],
            [
             0.1,
             "#c51b7d"
            ],
            [
             0.2,
             "#de77ae"
            ],
            [
             0.3,
             "#f1b6da"
            ],
            [
             0.4,
             "#fde0ef"
            ],
            [
             0.5,
             "#f7f7f7"
            ],
            [
             0.6,
             "#e6f5d0"
            ],
            [
             0.7,
             "#b8e186"
            ],
            [
             0.8,
             "#7fbc41"
            ],
            [
             0.9,
             "#4d9221"
            ],
            [
             1,
             "#276419"
            ]
           ],
           "sequential": [
            [
             0,
             "#0d0887"
            ],
            [
             0.1111111111111111,
             "#46039f"
            ],
            [
             0.2222222222222222,
             "#7201a8"
            ],
            [
             0.3333333333333333,
             "#9c179e"
            ],
            [
             0.4444444444444444,
             "#bd3786"
            ],
            [
             0.5555555555555556,
             "#d8576b"
            ],
            [
             0.6666666666666666,
             "#ed7953"
            ],
            [
             0.7777777777777778,
             "#fb9f3a"
            ],
            [
             0.8888888888888888,
             "#fdca26"
            ],
            [
             1,
             "#f0f921"
            ]
           ],
           "sequentialminus": [
            [
             0,
             "#0d0887"
            ],
            [
             0.1111111111111111,
             "#46039f"
            ],
            [
             0.2222222222222222,
             "#7201a8"
            ],
            [
             0.3333333333333333,
             "#9c179e"
            ],
            [
             0.4444444444444444,
             "#bd3786"
            ],
            [
             0.5555555555555556,
             "#d8576b"
            ],
            [
             0.6666666666666666,
             "#ed7953"
            ],
            [
             0.7777777777777778,
             "#fb9f3a"
            ],
            [
             0.8888888888888888,
             "#fdca26"
            ],
            [
             1,
             "#f0f921"
            ]
           ]
          },
          "colorway": [
           "#636efa",
           "#EF553B",
           "#00cc96",
           "#ab63fa",
           "#FFA15A",
           "#19d3f3",
           "#FF6692",
           "#B6E880",
           "#FF97FF",
           "#FECB52"
          ],
          "font": {
           "color": "#2a3f5f"
          },
          "geo": {
           "bgcolor": "white",
           "lakecolor": "white",
           "landcolor": "#E5ECF6",
           "showlakes": true,
           "showland": true,
           "subunitcolor": "white"
          },
          "hoverlabel": {
           "align": "left"
          },
          "hovermode": "closest",
          "mapbox": {
           "style": "light"
          },
          "paper_bgcolor": "white",
          "plot_bgcolor": "#E5ECF6",
          "polar": {
           "angularaxis": {
            "gridcolor": "white",
            "linecolor": "white",
            "ticks": ""
           },
           "bgcolor": "#E5ECF6",
           "radialaxis": {
            "gridcolor": "white",
            "linecolor": "white",
            "ticks": ""
           }
          },
          "scene": {
           "xaxis": {
            "backgroundcolor": "#E5ECF6",
            "gridcolor": "white",
            "gridwidth": 2,
            "linecolor": "white",
            "showbackground": true,
            "ticks": "",
            "zerolinecolor": "white"
           },
           "yaxis": {
            "backgroundcolor": "#E5ECF6",
            "gridcolor": "white",
            "gridwidth": 2,
            "linecolor": "white",
            "showbackground": true,
            "ticks": "",
            "zerolinecolor": "white"
           },
           "zaxis": {
            "backgroundcolor": "#E5ECF6",
            "gridcolor": "white",
            "gridwidth": 2,
            "linecolor": "white",
            "showbackground": true,
            "ticks": "",
            "zerolinecolor": "white"
           }
          },
          "shapedefaults": {
           "line": {
            "color": "#2a3f5f"
           }
          },
          "ternary": {
           "aaxis": {
            "gridcolor": "white",
            "linecolor": "white",
            "ticks": ""
           },
           "baxis": {
            "gridcolor": "white",
            "linecolor": "white",
            "ticks": ""
           },
           "bgcolor": "#E5ECF6",
           "caxis": {
            "gridcolor": "white",
            "linecolor": "white",
            "ticks": ""
           }
          },
          "title": {
           "x": 0.05
          },
          "xaxis": {
           "automargin": true,
           "gridcolor": "white",
           "linecolor": "white",
           "ticks": "",
           "title": {
            "standoff": 15
           },
           "zerolinecolor": "white",
           "zerolinewidth": 2
          },
          "yaxis": {
           "automargin": true,
           "gridcolor": "white",
           "linecolor": "white",
           "ticks": "",
           "title": {
            "standoff": 15
           },
           "zerolinecolor": "white",
           "zerolinewidth": 2
          }
         }
        },
        "title": {
         "text": "Epidemic Trend in Washington (Wave 2)",
         "x": 0.5
        },
        "xaxis": {
         "title": {
          "text": "Day"
         }
        },
        "yaxis": {
         "title": {
          "text": "Population per 100k"
         }
        }
       }
      },
      "text/html": [
       "<div>                            <div id=\"785f888c-87cd-406b-ba51-cace9f9588c5\" class=\"plotly-graph-div\" style=\"height:525px; width:100%;\"></div>            <script type=\"text/javascript\">                require([\"plotly\"], function(Plotly) {                    window.PLOTLYENV=window.PLOTLYENV || {};                                    if (document.getElementById(\"785f888c-87cd-406b-ba51-cace9f9588c5\")) {                    Plotly.newPlot(                        \"785f888c-87cd-406b-ba51-cace9f9588c5\",                        [{\"mode\":\"lines\",\"name\":\"Susceptible\",\"x\":[0,1,2,3,4,5,6,7,8,9,10,11,12,13,14,15,16,17,18,19,20,21,22,23,24,25,26,27,28,29,30,31,32,33,34,35,36,37,38,39,40,41,42,43,44,45,46,47,48,49,50,51,52,53,54,55,56,57,58,59,60,61,62,63,64,65,66,67,68,69,70,71,72,73,74,75,76,77,78,79,80,81,82,83,84,85,86,87,88,89,90,91,92,93,94,95,96,97,98,99,100,101,102,103,104,105,106,107,108,109,110,111,112,113,114,115,116,117,118,119,120,121,122,123,124,125,126,127,128,129,130,131,132,133,134,135,136,137,138,139,140,141,142,143,144,145,146,147,148,149,150,151,152,153,154,155,156,157,158,159,160,161,162,163,164,165,166,167,168,169,170,171,172,173,174,175,176,177,178,179,180,181,182,183,184,185,186,187,188,189,190,191,192,193,194,195,196,197,198,199,200,201,202,203,204,205,206,207,208,209,210,211,212,213,214,215,216,217,218,219,220,221,222,223,224,225,226,227,228,229,230,231,232,233,234,235,236,237,238,239,240,241,242,243,244,245,246,247,248,249,250,251,252,253,254,255,256,257,258,259,260,261,262,263,264,265,266,267,268,269,270,271,272,273,274,275,276,277,278,279,280,281,282,283,284,285,286,287,288,289,290,291,292,293,294,295,296,297,298,299,300,301,302,303,304,305,306,307,308,309,310,311,312,313,314,315,316,317,318,319,320,321,322,323,324,325,326,327,328,329,330,331,332,333,334,335,336,337,338,339,340,341,342,343,344,345,346,347,348,349,350,351,352,353,354,355,356,357,358,359],\"y\":[94682.69613243417,94447.74968814378,94264.9462001131,94117.10868366016,93992.98475448089,93885.18438103491,93788.84202911315,93700.74520315281,93618.76523853683,93541.48483025283,93467.9539953023,93397.53004506024,93329.77258251376,93264.37457218667,93201.11707286921,93139.83949928943,93080.42007798348,93022.76299687498,92966.7899509121,92912.43457527636,92859.63877561851,92808.3503047921,92758.52115880857,92710.10651134572,92663.06400242756,92617.35326013695,92572.93557576498,92529.77368009169,92487.83158642164,92447.07447777691,92407.46862339017,92368.98131472601,92331.5808146007,92295.23631516691,92259.91790197357,92225.59652225992,92192.24395626655,92159.83279075677,92128.33639421096,92097.72889333466,92067.98515063775,92039.08074291903,92010.99194054164,91983.69568741803,91957.16958164562,91931.39185674897,91906.3413634944,91881.99755224917,91858.34045586243,91835.35067304793,91813.00935225065,91791.29817598137,91770.19934560399,91749.69556656173,91729.77003402867,91710.40641897394,91691.58885462633,91673.30192332737,91655.53064376165,91638.26045855325,91621.47722221754,91605.16718945817,91589.31700379905,91573.91368654172,91558.94462603859,91544.39756727287,91530.26060173652,91516.52215759722,91503.17099014646,91490.19617252018,91477.58708668445,91465.33341467827,91453.42513010629,91441.85248987407,91430.60602615903,91419.67653861015,91409.05508676998,91398.7329827125,91388.70178389065,91378.95328618733,91369.47951716442,91360.27272950366,91351.32539463424,91342.63019654156,91334.18002575201,91325.96797348876,91317.98732599361,91310.23155901016,91302.69433242368,91295.36948505319,91288.2510295915,91281.33314768868,91274.6101851753,91268.07664742102,91261.72719482495,91255.55663843392,91249.55993568494,91243.73218626846,91238.06862810884,91232.56463345877,91227.21570510433,91222.0174726777,91216.96568907413,91212.05622697054,91207.28507544272,91202.64833667822,91198.14222278238,91193.76305267475,91189.50724907339,91185.37133556443,91181.35193375466,91177.44576050459,91173.64962523984,91169.96042733853,91166.37515359266,91162.89087574113,91159.50474807268,91156.21400509648,91153.01595927861,91149.90799884254,91146.88758563178,91143.9522530329,91141.0996039573,91138.32730887989,91135.63310393337,91133.01478905621,91130.4702261929,91127.99733754527,91125.59410387289,91123.25856284177,91120.98880741945,91118.78298431553,91116.63929246627,91114.55598156182,91112.5313506152,91110.56374657157,91108.6515629568,91106.79323856416,91104.98725617811,91103.23214133405,91101.52646111317,91099.8688229712,91098.25787360026,91096.69229782287,91095.17081751704,91093.69219057182,91092.25520987227,91090.85870231298,91089.50152783959,91088.18257851715,91086.90077762495,91085.6550787767,91084.44446506568,91083.26794823389,91082.12456786468,91081.01339059816,91079.9335093687,91078.88404266392,91077.86413380469,91076.87295024522,91075.9096828931,91074.97354544842,91074.06377376145,91073.17962520855,91072.32037808564,91071.48533101873,91070.67380239109,91069.88512978656,91069.11866944862,91068.37379575458,91067.64990070468,91066.94639342559,91066.2626996879,91065.59826143715,91064.95253633815,91064.32499733214,91063.71513220634,91063.12244317579,91062.5464464768,91061.986671972,91061.44266276642,91060.91397483448,91060.40017665738,91059.90084887082,91059.41558392259,91058.94398573978,91058.48566940546,91058.04026084437,91057.60739651753,91057.18672312543,91056.7778973196,91056.38058542226,91055.99446315397,91055.61921536883,91055.25453579723,91054.90012679578,91054.55569910437,91054.22097161002,91053.89567111735,91053.57953212562,91053.2722966119,91052.97371382057,91052.68354005845,91052.40153849605,91052.12747897409,91051.86113781568,91051.60229764377,91051.35074720361,91051.1062811904,91050.86870008163,91050.63780997426,91050.4134224264,91050.19535430352,91049.98342762896,91049.77746943865,91049.57731163989,91049.3827908742,91049.19374838394,91049.01002988275,91048.83148542957,91048.65796930632,91048.4893398989,91048.3254595816,91048.16619460481,91048.01141498583,91047.86099440274,91047.71481009136,91047.57274274497,91047.434676417,91047.30049842635,91047.17009926544,91047.04337251079,91046.92021473622,91046.80052542839,91046.68420690477,91046.5711642339,91046.46130515794,91046.35454001732,91046.25078167762,91046.1499454584,91046.05194906412,91045.95671251696,91045.86415809153,91045.77421025145,91045.6867955877,91045.60184275867,91045.519282432,91045.43904722792,91045.36107166432,91045.28529210323,91045.21164669898,91045.14007534763,91045.07051963799,91045.00292280386,91044.9372296778,91044.87338664604,91044.81134160474,91044.75104391745,91044.69244437381,91044.63549514937,91044.58014976655,91044.52636305674,91044.47409112338,91044.42329130622,91044.37392214639,91044.32594335267,91044.27931576852,91044.2340013402,91044.18996308565,91044.14716506434,91044.10557234794,91044.06515099178,91044.02586800719,91043.98769133454,91043.95058981709,91043.91453317559,91043.8794919835,91043.84543764306,91043.81234236187,91043.78017913023,91043.74892169917,91043.7185445589,91043.68902291807,91043.66033268356,91043.63245044074,91043.60535343442,91043.57901955026,91043.55342729672,91043.5285557875,91043.50438472454,91043.48089438141,91043.45806558727,91043.43587971113,91043.41431864674,91043.39336479774,91043.37300106336,91043.35321082441,91043.33397792977,91043.31528668314,91043.2971218303,91043.27946854662,91043.262312425,91043.24563946402,91043.22943605663,91043.21368897897,91043.19838537961,91043.18351276904,91043.1690590095,91043.15501230503,91043.14136119191,91043.12809452928,91043.11520149,91043.10267155187,91043.090494489,91043.07866036354,91043.06715951745,91043.05598256474,91043.04512038371,91043.0345641096,91043.02430512727,91043.01433506422,91043.00464578372,91042.99522937821,91042.98607816284,91042.97718466916,91042.96854163907,91042.96014201886,91042.95197895348,91042.94404578094,91042.93633602686,91042.9288433992,91042.92156178314,91042.91448523602,91042.90760798259,91042.90092441022,91042.89442906436,91042.88811664406,91042.88198199766,91042.87602011861,91042.87022614131,91042.86459533725,91042.85912311102,91042.85380499667,91042.84863665403,91042.84361386513,91042.8387325308,91042.83398866732,91042.82937840316,91042.82489797582,91042.82054372877,91042.81631210844,91042.81219966133,91042.80820303125,91042.80431895648,91042.80054426717,91042.79687588275,91042.7933108094,91042.78984613763,91042.78647903986,91042.78320676816],\"type\":\"scatter\"},{\"mode\":\"lines\",\"name\":\"Exposed\",\"x\":[0,1,2,3,4,5,6,7,8,9,10,11,12,13,14,15,16,17,18,19,20,21,22,23,24,25,26,27,28,29,30,31,32,33,34,35,36,37,38,39,40,41,42,43,44,45,46,47,48,49,50,51,52,53,54,55,56,57,58,59,60,61,62,63,64,65,66,67,68,69,70,71,72,73,74,75,76,77,78,79,80,81,82,83,84,85,86,87,88,89,90,91,92,93,94,95,96,97,98,99,100,101,102,103,104,105,106,107,108,109,110,111,112,113,114,115,116,117,118,119,120,121,122,123,124,125,126,127,128,129,130,131,132,133,134,135,136,137,138,139,140,141,142,143,144,145,146,147,148,149,150,151,152,153,154,155,156,157,158,159,160,161,162,163,164,165,166,167,168,169,170,171,172,173,174,175,176,177,178,179,180,181,182,183,184,185,186,187,188,189,190,191,192,193,194,195,196,197,198,199,200,201,202,203,204,205,206,207,208,209,210,211,212,213,214,215,216,217,218,219,220,221,222,223,224,225,226,227,228,229,230,231,232,233,234,235,236,237,238,239,240,241,242,243,244,245,246,247,248,249,250,251,252,253,254,255,256,257,258,259,260,261,262,263,264,265,266,267,268,269,270,271,272,273,274,275,276,277,278,279,280,281,282,283,284,285,286,287,288,289,290,291,292,293,294,295,296,297,298,299,300,301,302,303,304,305,306,307,308,309,310,311,312,313,314,315,316,317,318,319,320,321,322,323,324,325,326,327,328,329,330,331,332,333,334,335,336,337,338,339,340,341,342,343,344,345,346,347,348,349,350,351,352,353,354,355,356,357,358,359],\"y\":[3544.86924504389,3602.5722270820866,3605.2471037586574,3572.822265023661,3518.305080951754,3450.1902003501395,3374.023042254399,3293.418716102026,3210.7277449129006,3127.471765951258,3044.6290126042218,2962.821512216078,2882.437899151745,2803.7140145212447,2726.7858131126513,2651.724096036792,2578.557312540911,2507.286528022358,2437.8952475841234,2370.355860840664,2304.6338674564804,2240.690644910072,2178.4852586481006,2117.975643178549,2059.1193699377736,2001.874143731491,1946.1981209168962,1892.0501105443357,1839.3896986871605,1788.177322397533,1738.3743106644001,1689.9429037953396,1642.8462587308825,1597.0484452281298,1552.514436160063,1509.2100940657208,1467.1021553558014,1426.1582130977963,1386.3466989887256,1347.6368649155859,1309.9987643667152,1273.4032338670938,1237.821874551123,1203.227033947175,1169.5917880222362,1136.889923517766,1105.0959205964452,1074.184935811855,1044.132785407997,1014.9159289520969,986.5114533017661,958.8970569059627,932.0510344380468,905.9522617584079,880.5801812035528,855.9147871981022,831.9366121858121,808.6267128754838,785.9666567974232,763.9385091659551,742.5248200433693,721.7086118005761,701.4733668696664,681.8030157835095,662.6819254974732,644.0948879883131,626.0271091252556,608.4641978082832,591.3921553686264,574.7973652264683,558.6665828008793,542.9869256670167,527.7458639556469,512.9312109900758,498.531114155611,484.53404599671444,470.92879553704836,457.70445981766625,444.850435648648,432.3564115695346,420.2123600139718,408.4085296740327,396.93543805974883,385.78386424944273,374.94484182651934,364.4096519984394,354.16981689366514,344.21709303243614,334.54346496730375,325.14113908941994,316.0025375966478,307.1202926196315,298.4872405020334,290.09641623121684,281.94104801572513,274.0145520059756,266.3105271546599,258.82275021341115,251.5451708623676,244.47190696933237,237.5972399752974,230.91561040316748,224.42161348658738,218.1099949158429,211.97564669787104,206.01360312748076,200.21903686694972,194.58725513122567,189.11369597602413,183.793924686175,178.62363026163226,173.59862199862013,168.71482616344775,163.96828275658274,159.35514236463072,154.87166309792326,150.51420761147213,146.27924020710122,142.16332401462063,138.16311824995879,134.2753755482199,130.4969393696833,126.82474147681057,123.2557994803737,119.78721445286486,116.41616860739407,113.1399230403257,109.95581553594928,106.86125843152267,103.85373654106778,100.93080513634045,98.09008798343608,95.329275433532,92.64612256630625,90.03844738460953,87.50412905900453,85.04110622082192,82.64737530241793,80.32098892335239,78.06005432123955,75.86273182605657,73.72723337672659,71.65182107882401,69.63480580228048,67.67454581799899,65.76944547231292,63.91795389825474,62.11856376262656,60.369810047891654,58.67026886793192,57.018556316742,55.41332734915544,53.853274692722465,52.33712778988266,50.86365176959863,49.43164644763943,48.039945354723976,46.6874147917564,45.372952911405626,44.09548882530186,42.853981736142394,41.647420094018116,40.47482077629095,39.33522829037052,38.22771399875621,37.15137536572771,36.10533522508439,35.088741068349755,34.10076435287346,33.14059982927869,32.20746488771793,31.30059892241474,30.419262713983493,29.562737829033008,28.730326036573448,27.92134874075915,27.13514642951284,26.37107813858918,25.628520930647788,24.90686938891765,24.205535125046413,23.52394630073924,22.86154716280274,22.21779759122025,21.59217265989489,20.984162209706962,20.39327043354207,19.819015472955666,19.260929026149213,18.718555966941967,18.191453974431198,17.67919317304222,17.18135578267779,16.69753577868462,16.2273385613624,15.770380634748568,15.326289294419269,14.894702324054329,14.47526770052094,14.06764330723766,13.671496655586933,13.286504614150797,12.912353145550684,12.548737050678382,12.195359720111085,11.851932892509296,11.518176419801895,11.19381803896819,10.87859315023205,10.57224460148836,10.274522478787112,9.985183902705225,9.703992830441047,9.430719863471003,9.16514206061239,8.907042756340662,8.656211384213789,8.41244330526039,8.17553964119236,7.945307112306568,7.721557879944061,7.504109393378805,7.292784241011638,7.087410005748563,6.887819124445888,6.693848751308028,6.505340625126964,6.322140940255463,6.144100221209205,5.971073200795871,5.802918701672125,5.639499521232186,5.480682319734397,5.326337511574803,5.176339159619322,5.030564872508555,4.8888957048517,4.751216060228374,4.617413596919423,4.487379136290028,4.361006573750534,4.23819279222256,4.118837578039955,4.002843539216144,3.8901160260113494,3.780563053735004,3.6740952277205268,3.570625670411369,3.4700699504989614,3.372346014054868,3.2773741176010542,3.1850767630637784,3.095378634558117,3.008206536951642,2.923489336157214,2.841157901106244,2.761145047355167,2.683385482279175,2.6078157518085736,2.534374188664346,2.4630008620507695,2.3936375287640788,2.326227585677344,2.26071602356284,2.197049382214283,2.135175706832351,2.075044505637952,2.0166067086786907,1.9598146277949577,1.9046219177130124,1.8509835382333464,1.7988557174835047,1.7481959162054104,1.6989627930480804,1.6511161708374382,1.6046170037957257,1.5594273456837884,1.515510318840262,1.4728300840924173,1.4313518115141293,1.39104165200713,1.351866709682372,1.3137950150189814,1.276795498778916,1.2408379666560558,1.2058930746390533,1.1719323050678532,1.1389279433643567,1.106853055418252,1.0756814656095697,1.0453877354500387,1.0159471428258255,0.9873356618247248,0.9595299431313505,0.9325072949743375,0.9062456646100127,0.8807236203274346,0.8559203339601232,0.8318155638902153,0.8083896385311825,0.7856234402756397,0.7634983898951486,0.741996431379293,0.7211000172016577,0.7007920940006915,0.6810560886637753,0.6618758948031414,0.6432358596126129,0.6251207710944409,0.607515845645819,0.5904067159949489,0.5737794194768148,0.5576203866391022,0.5419164301689654,0.5266547341316102,0.511822843511912,0.49740865405053636,0.4834004023662714,0.4697866563565114,0.456556305868061,0.44369855363064814,0.43120290644574844,0.41905916662353226,0.40725742366094825,0.39578804615415275,0.3846416739386872,0.3738092104509903,0.36328181530501236,0.35305089707787535,0.343108106298692,0.3334453286348233,0.3240546782700152,0.314928491469011,0.3060593203233883,0.29743992667351854,0.2890632762016885,0.2809225326915643,0.2730110524493144,0.2653223788818387,0.2578502372276801,0.250588529436319,0.24353132919167222,0.23667287707573592,0.2300075758684256,0.2235299859797784,0.21723482101079014,0.2111169434392647,0.20517136042715564,0.19939321974597848,0.19377780581696916,0.188320535862757,0.18301695616741215,0.17786273844181566,0.17285367629138598,0.16798568178327986,0.163254782110266,0.1586571163485496,0.15418893230690134,0.1498465834645205,0.14562652599513273],\"type\":\"scatter\"},{\"mode\":\"lines\",\"name\":\"Exposed\",\"x\":[0,1,2,3,4,5,6,7,8,9,10,11,12,13,14,15,16,17,18,19,20,21,22,23,24,25,26,27,28,29,30,31,32,33,34,35,36,37,38,39,40,41,42,43,44,45,46,47,48,49,50,51,52,53,54,55,56,57,58,59,60,61,62,63,64,65,66,67,68,69,70,71,72,73,74,75,76,77,78,79,80,81,82,83,84,85,86,87,88,89,90,91,92,93,94,95,96,97,98,99,100,101,102,103,104,105,106,107,108,109,110,111,112,113,114,115,116,117,118,119,120,121,122,123,124,125,126,127,128,129,130,131,132,133,134,135,136,137,138,139,140,141,142,143,144,145,146,147,148,149,150,151,152,153,154,155,156,157,158,159,160,161,162,163,164,165,166,167,168,169,170,171,172,173,174,175,176,177,178,179,180,181,182,183,184,185,186,187,188,189,190,191,192,193,194,195,196,197,198,199,200,201,202,203,204,205,206,207,208,209,210,211,212,213,214,215,216,217,218,219,220,221,222,223,224,225,226,227,228,229,230,231,232,233,234,235,236,237,238,239,240,241,242,243,244,245,246,247,248,249,250,251,252,253,254,255,256,257,258,259,260,261,262,263,264,265,266,267,268,269,270,271,272,273,274,275,276,277,278,279,280,281,282,283,284,285,286,287,288,289,290,291,292,293,294,295,296,297,298,299,300,301,302,303,304,305,306,307,308,309,310,311,312,313,314,315,316,317,318,319,320,321,322,323,324,325,326,327,328,329,330,331,332,333,334,335,336,337,338,339,340,341,342,343,344,345,346,347,348,349,350,351,352,353,354,355,356,357,358,359],\"y\":[1772.434622521945,1382.499005567117,1120.2279351397437,942.0173510829586,819.2129119875949,732.9800341991522,670.9359332729305,624.9375867383127,589.628494787154,561.4837637009098,538.1825476141815,518.1955830078546,500.514072056145,484.4714639557659,469.6262962159831,455.685172082501,442.45212181794034,429.79530846324496,417.6251361561245,405.87985496537084,394.51609441848535,383.50263757739407,372.8163257981316,362.43936447513454,352.3575500020189,342.55910249826155,333.0338968853924,323.77295592791165,314.7681155581967,306.0118035139318,297.4968925093503,289.2166024395782,281.1644348486802,273.3341286336466,265.7196297322862,258.31507002595777,251.11475232093733,244.11313934602745,237.30484541018848,230.68462982836445,224.2473915290671,217.98816445810138,211.90211352486364,205.98453092446343,200.23083272599388,194.63655565478763,189.1973540211439,183.9089967642001,178.76736459024883,173.76844719176904,168.9083405380078,164.1832442309336,159.589458922333,155.1233837890888,150.78151406450078,146.56043862403817,142.45683762425108,138.46748019378134,134.5892221755455,130.8190039192421,127.15384812338239,123.59085772606849,120.12721384375538,116.76017375723697,113.48706894409662,110.30530315685937,107.21235054608002,104.20575382759719,101.28312249318024,98.44213106379388,95.68051738470325,92.99608096164218,90.38668133726752,87.85023650712427,85.38472137434829,82.98816624233739,80.65865534462515,78.39432541119751,76.19336427049763,74.05400948637079,71.97454702920886,69.95330998056062,67.98867727048285,66.07907244691577,64.22296247637486,62.418856575260875,60.66530507109937,58.96089829303082,57.30426549088277,55.694073782165475,54.129027126343516,52.607865325745976,51.12936305248884,49.69232890079408,48.29560446410082,46.93806343637481,45.61861073703365,44.336181658915876,43.08974103873335,41.87828244945706,40.70082741409742,39.55642464035112,38.444149275597134,37.36310218173542,36.312409229372236,35.291220610866674,34.298710171763375,33.33407476014658,32.39653359346096,31.485327642354658,30.599719031109917,29.738990454236358,28.90244460881173,28.089403642164363,27.299208614500905,26.531218976092152,25.784812058638828,25.05938258044801,24.35434216505971,23.669118872971634,23.00315674611865,22.355915364771676,21.726869416528906,21.115508277080185,20.52133560243321,19.94386893229783,19.382639304332226,18.837190878962197,18.307080574491756,17.79187771223053,17.29116367137015,16.804531553348724,16.331585855448935,15.871942153381877,15.425226792614989,14.991076588208669,14.569138532932122,14.15906951343494,13.760536034256656,13.373213949462146,12.996788201696237,12.63095256845627,12.275409415386592,11.929869456404084,11.5940515204688,11.267682324818734,10.950496254492386,10.64223514796756,10.342648088749268,10.051491202744085,9.768527461262574,9.49352648949565,9.226264380314815,8.966523513250198,8.714092378504269,8.468765405862834,8.2303427983687,7.998630370626914,7.773439391614122,7.554586431867884,7.341893214935254,7.135186472963092,6.934297806315808,6.739063547109296,6.549324626552847,6.3649264459937465,6.185718751562133,6.01155551231647,5.842294801792687,5.677798682862701,5.517933095810571,5.362567749537085,5.211576015805955,5.064834826447224,4.922224573435763,4.783629011764991,4.648935165038152,4.518033233701585,4.390816505846537,4.2671812705080345,4.147026733391346,4.030254934958436,3.916770670808699,3.8064814142900523,3.699297241278248,3.595130757063953,3.4938970252888364,3.3955134988735125,3.2998999528817716,3.2069784192670654,3.116673123448703,3.028910422666678,2.943618746065452,2.8607285364583968,2.780172193725941,2.70188401980176,2.6258001652026253,2.5518585770587485,2.4799989486026655,2.4101626700758594,2.3422927810134673,2.2763339238685045,2.212232298938123,2.149935620555458,2.0893930745116305,2.030555276673463,1.9733742327634196,1.9178032992692202,1.8637971454514792,1.8113117164186083,1.7603041972390718,1.7107329780619245,1.66255762021737,1.615738823269864,1.5702383929970576,1.5260192102686188,1.483045200799694,1.4412813057544813,1.4006934531760669,1.3612485302193436,1.322914356164482,1.285659656189051,1.2494540358774948,1.2142679564472783,1.1800727106715774,1.146840399478967,1.1145439092110991,1.0831568895198957,1.0526537318863023,1.0230095487431459,0.9942001531851328,0.9662020392494965,0.938992362751267,0.9125489226575814,0.8868501429858955,0.861875055211375,0.8376032811691627,0.8140150164376156,0.7910910141889973,0.7688125694944893,0.7471615040707541,0.7261201514556395,0.7056713426009629,0.6857983918706525,0.6664850834328508,0.647715658034906,0.6294748001504863,0.611747625488357,0.5945196688526513,0.577776872344751,0.561505573897174,0.545692496130131,0.530324735521678,0.5153897518826469,0.500875358127782,0.48676971033475247,0.4730612980829439,0.4597389350641602,0.4467917499575877,0.4342091775615883,0.42198095017509735,0.41009708922160465,0.3985478971088951,0.38732394931791586,0.3764160867143248,0.365815408076455,0.35551326283360696,0.3455012440087503,0.33577118135988476,0.32631513471446955,0.3171253874914899,0.30819444040588045,0.29951500535017395,0.2910799994483888,0.28288253927730844,0.27491593525044167,0.26717368616008663,0.2596494738730483,0.25233715817568597,0.24523077176408734,0.23832451537528587,0.2316127530555509,0.2250900075618932,0.21875095589303645,0.2125904249462106,0.20660338729622602,0.20078495709338634,0.19513038607689537,0.1896350597005067,0.18429449336725717,0.17910432877021337,0.17406033033624702,0.16915838176993925,0.16439448269479492,0.15976474538902807,0.15526539161325598,0.1508927495275147,0.14664325069508172,0.14251342717066173,0.13849990867056075,0.13459941982254042,0.13080877749310948,0.1271248881900719,0.12354474553821354,0.1200654278260681,0.1166840956217609,0.11339798945598617,0.11020442757022766,0.10710080372838546,0.10408458509002416,0.10115331014350738,0.09830458669733247,0.09553608992802681,0.09284556048301335,0.09023080263689734,0.0876896824996707,0.08522012627537168,0.08282011856977955,0.08048770074576367,0.07822096932494486,0.07601807443436556,0.07387721829690098,0.0717966537641801,0.06977468289081908,0.06780965554880439,0.06589996808089463,0.06404406199194271,0.062240422677070556,0.0604875781856586,0.05878409802014162,0.057128591968630904,0.055519708970410184,0.05395613601337969,0.05243659706254874,0.05095985201870255,0.049524695706393666,0.04812995689043212,0.04677449732007206,0.04545721080011472,0.04417702228816994,0.04293288701733956,0.04172378964360685,0.04054874341723627,0.03940678937750746,0.03829699557012635,0.03721845628667484,0.0361702913254784,0.03515164527328855,0.034161686807193996,0.033199608016190846,0.032264623741858234,0.03135597093760145,0.030472908045939596,0.02961471439332971,0.0287806896020335,0.027970153018546773,0.027182443158125104,0.02641691716495255,0.0256729502875128,0.02494993536873473],\"type\":\"scatter\"},{\"mode\":\"lines\",\"name\":\"Exposed\",\"x\":[0,1,2,3,4,5,6,7,8,9,10,11,12,13,14,15,16,17,18,19,20,21,22,23,24,25,26,27,28,29,30,31,32,33,34,35,36,37,38,39,40,41,42,43,44,45,46,47,48,49,50,51,52,53,54,55,56,57,58,59,60,61,62,63,64,65,66,67,68,69,70,71,72,73,74,75,76,77,78,79,80,81,82,83,84,85,86,87,88,89,90,91,92,93,94,95,96,97,98,99,100,101,102,103,104,105,106,107,108,109,110,111,112,113,114,115,116,117,118,119,120,121,122,123,124,125,126,127,128,129,130,131,132,133,134,135,136,137,138,139,140,141,142,143,144,145,146,147,148,149,150,151,152,153,154,155,156,157,158,159,160,161,162,163,164,165,166,167,168,169,170,171,172,173,174,175,176,177,178,179,180,181,182,183,184,185,186,187,188,189,190,191,192,193,194,195,196,197,198,199,200,201,202,203,204,205,206,207,208,209,210,211,212,213,214,215,216,217,218,219,220,221,222,223,224,225,226,227,228,229,230,231,232,233,234,235,236,237,238,239,240,241,242,243,244,245,246,247,248,249,250,251,252,253,254,255,256,257,258,259,260,261,262,263,264,265,266,267,268,269,270,271,272,273,274,275,276,277,278,279,280,281,282,283,284,285,286,287,288,289,290,291,292,293,294,295,296,297,298,299,300,301,302,303,304,305,306,307,308,309,310,311,312,313,314,315,316,317,318,319,320,321,322,323,324,325,326,327,328,329,330,331,332,333,334,335,336,337,338,339,340,341,342,343,344,345,346,347,348,349,350,351,352,353,354,355,356,357,358,359],\"y\":[0.0,567.1790792070224,1009.5787609884998,1368.0517002332178,1669.4972525797646,1931.645384415795,2166.198995359524,2380.8984940068617,2580.8785217631216,2769.5596400950108,2949.234444479302,3121.45285971584,3287.2754462783537,3447.43994933632,3602.470817802165,3752.75123259128,3898.57048765768,4040.155166639421,4177.68966534766,4311.329708917619,4441.211262506538,4567.456412720454,4690.17725674522,4809.478481000622,4925.459077632665,5038.213493633311,5147.832406432755,5254.403253436081,5358.010599333013,5458.736396311636,5556.660173436094,5651.859179039086,5744.40849181975,5834.381110971328,5921.848032134095,6006.878313648426,6089.539136056733,6169.895856799432,6248.012061390161,6323.949611921421,6397.768693466497,6469.527858755799,6539.284071382391,6607.092747710347,6673.007797606175,6737.081664078492,6799.365361888024,6859.90851517479,6918.759394139334,6975.964950808214,7031.57085390958,7085.621522881743,7138.160161035641,7189.228787890787,7238.868270703296,7287.1183552039365,7334.017695563629,7379.6038836033895,7423.9134772654,7466.9820283615745,7508.844109615732,7549.533341015214,7589.082415487556,7627.523123917558,7664.886379519874,7701.202241581985,7736.49993859218,7770.807890766926,7804.153731991757,7836.564331189575,7868.065813129989,7898.683578693094,7928.44232460082,7957.366062628746,7985.478138311026,8012.801249150817,8039.357462348365,8065.168232058644,8090.254416190228,8114.636292756787,8138.333575792426,8161.365430841773,8183.7504900355525,8205.506866762107,8226.65216994512,8247.20351793756,8267.177552041643,8286.590449664394,8305.457937118164,8323.795302075247,8341.61740568554,8358.93869436597,8375.773211270209,8392.134607447006,8408.03615269526,8423.490746123773,8438.510926423412,8453.108881859263,8467.296459990117,8481.085177122512,8494.486227506339,8507.51049227885,8520.168548163763,8532.470675931954,8544.42686863011,8556.046839583509,8567.340030178986,8578.315617433951,8588.982521357198,8599.349412107105,8609.424716952659,8619.216627042613,8628.733103987968,8637.981886262787,8646.97049542828,8655.70624218492,8664.19623225727,8672.447372116036,8680.466374541778,8688.259764034598,8695.833882073948,8703.194892232706,8710.348785149434,8717.301383362723,8724.058346011388,8730.625173404167,8737.007211462502,8743.209656039888,8749.237557121156,8755.095822904994,8760.789223772908,8766.322396147747,8771.69984624482,8776.925953718563,8782.004975207645,8786.941047781282,8791.73819228951,8796.400316620047,8800.931218864347,8805.334590395309,8809.614018859136,8813.772991083679,8817.814895905585,8821.74302691851,8825.56058514456,8829.27068163111,8832.876339975051,8836.380498776489,8839.786014023839,8843.095661412239,8846.312138597117,8849.43806738472,8852.47599586136,8855.42840046306,8858.2976879873,8861.086197548422,8863.7962024783,8866.429912173777,8868.989473892378,8871.476974497695,8873.894442155892,8876.243847984671,8878.52710765602,8880.746082954041,8882.902583289117,8884.998367169614,8887.03514363233,8889.01457363283,8890.938271396772,8892.807805733346,8894.624701311863,8896.390439902521,8898.106461582373,8899.77416590743,8901.394913051894,8902.970024915394,8904.500786199158,8905.98844545197,8907.434216086755,8908.839277368625,8910.204775375187,8911.531823929872,8912.821505509059,8914.074872123718,8915.29294617629,8916.4767212935,8917.627163135761,8918.745210183853,8919.831774503493,8920.887742488416,8921.913975582582,8922.911310982085,8923.880562317338,8924.822520316078,8925.737953447744,8926.627608549736,8927.492211436072,8928.332467488937,8929.149062233597,8929.94266189715,8930.713913951575,8931.4634476415,8932.191874497137,8932.899788832798,8933.587768231375,8934.256374015218,8934.906151703753,8935.537631458237,8936.151328514003,8936.747743600547,8937.327363349801,8937.890660692918,8938.438095245898,8938.970113684367,8939.487150107812,8939.989626393572,8940.477952540858,8940.952527005113,8941.413737022955,8941.861958927972,8942.297558457642,8942.720891051615,8943.132302141596,8943.532127433076,8943.92069317914,8944.298316446555,8944.665305374388,8945.021959425336,8945.368569629982,8945.705418824185,8946.032781879783,8946.350925928802,8946.660110581362,8946.960588137443,8947.252603792693,8947.536395838448,8947.812195856115,8948.080228906088,8948.340713711348,8948.593862835889,8948.839882858127,8949.078974539429,8949.311332987894,8949.537147817526,8949.756603302923,8949.969878529622,8950.177147540193,8950.37857947624,8950.574338716397,8950.764585010429,8950.949473609578,8951.129155393226,8951.303776991988,8951.473480907356,8951.638405627958,8951.798685742559,8951.954452049866,8952.105831665252,8952.252948124473,8952.39592148446,8952.53486842128,8952.669902325337,8952.801133393888,8952.928668720964,8953.052612384747,8953.173065532495,8953.29012646308,8953.403890707186,8953.51445110527,8953.621897883304,8953.726318726413,8953.82779885041,8953.92642107134,8954.022265873053,8954.115411472876,8954.205933885445,8954.293906984725,8954.379402564296,8954.462490395936,8954.543238286551,8954.621712133516,8954.697975978435,8954.772092059413,8954.844120861833,8954.91412116772,8954.982150103702,8955.048263187637,8955.112514373906,8955.174956097451,8955.235639316556,8955.294613554433,8955.35192693964,8955.407626245347,8955.461756927514,8955.514363161976,8955.5654878805,8955.615172805816,8955.663458485664,8955.710384325886,8955.75598862258,8955.800308593356,8955.8433804077,8955.885239216497,8955.925919180718,8955.96545349929,8956.003874436194,8956.041213346793,8956.077500703419,8956.11276612024,8956.147038377434,8956.180345444664,8956.21271450391,8956.244171971653,8956.274743520431,8956.304454099785,8956.333327956629,8956.361388655028,8956.388659095437,8956.41516153338,8956.440917597618,8956.465948307801,8956.49027409162,8956.513914801475,8956.53688973068,8956.559217629205,8956.58091671898,8956.602004708766,8956.622498808603,8956.64241574386,8956.661771768879,8956.680582680245,8956.698863829675,8956.716630136545,8956.73389610007,8956.75067581113,8956.766982963776,8956.782830866403,8956.798232452607,8956.81320029175,8956.827746599207,8956.84188324634,8956.855621770184,8956.86897338287,8956.881948980765,8956.894559153365,8956.906814191947,8956.918724097959,8956.930298591184,8956.94154711767,8956.952478857449,8956.963102732014,8956.97342741161,8956.98346132231,8956.993212652886,8957.002689361492,8957.011899182166,8957.020849631132,8957.029548012943,8957.038001426436,8957.046216770528],\"type\":\"scatter\"}],                        {\"template\":{\"data\":{\"barpolar\":[{\"marker\":{\"line\":{\"color\":\"#E5ECF6\",\"width\":0.5},\"pattern\":{\"fillmode\":\"overlay\",\"size\":10,\"solidity\":0.2}},\"type\":\"barpolar\"}],\"bar\":[{\"error_x\":{\"color\":\"#2a3f5f\"},\"error_y\":{\"color\":\"#2a3f5f\"},\"marker\":{\"line\":{\"color\":\"#E5ECF6\",\"width\":0.5},\"pattern\":{\"fillmode\":\"overlay\",\"size\":10,\"solidity\":0.2}},\"type\":\"bar\"}],\"carpet\":[{\"aaxis\":{\"endlinecolor\":\"#2a3f5f\",\"gridcolor\":\"white\",\"linecolor\":\"white\",\"minorgridcolor\":\"white\",\"startlinecolor\":\"#2a3f5f\"},\"baxis\":{\"endlinecolor\":\"#2a3f5f\",\"gridcolor\":\"white\",\"linecolor\":\"white\",\"minorgridcolor\":\"white\",\"startlinecolor\":\"#2a3f5f\"},\"type\":\"carpet\"}],\"choropleth\":[{\"colorbar\":{\"outlinewidth\":0,\"ticks\":\"\"},\"type\":\"choropleth\"}],\"contourcarpet\":[{\"colorbar\":{\"outlinewidth\":0,\"ticks\":\"\"},\"type\":\"contourcarpet\"}],\"contour\":[{\"colorbar\":{\"outlinewidth\":0,\"ticks\":\"\"},\"colorscale\":[[0.0,\"#0d0887\"],[0.1111111111111111,\"#46039f\"],[0.2222222222222222,\"#7201a8\"],[0.3333333333333333,\"#9c179e\"],[0.4444444444444444,\"#bd3786\"],[0.5555555555555556,\"#d8576b\"],[0.6666666666666666,\"#ed7953\"],[0.7777777777777778,\"#fb9f3a\"],[0.8888888888888888,\"#fdca26\"],[1.0,\"#f0f921\"]],\"type\":\"contour\"}],\"heatmapgl\":[{\"colorbar\":{\"outlinewidth\":0,\"ticks\":\"\"},\"colorscale\":[[0.0,\"#0d0887\"],[0.1111111111111111,\"#46039f\"],[0.2222222222222222,\"#7201a8\"],[0.3333333333333333,\"#9c179e\"],[0.4444444444444444,\"#bd3786\"],[0.5555555555555556,\"#d8576b\"],[0.6666666666666666,\"#ed7953\"],[0.7777777777777778,\"#fb9f3a\"],[0.8888888888888888,\"#fdca26\"],[1.0,\"#f0f921\"]],\"type\":\"heatmapgl\"}],\"heatmap\":[{\"colorbar\":{\"outlinewidth\":0,\"ticks\":\"\"},\"colorscale\":[[0.0,\"#0d0887\"],[0.1111111111111111,\"#46039f\"],[0.2222222222222222,\"#7201a8\"],[0.3333333333333333,\"#9c179e\"],[0.4444444444444444,\"#bd3786\"],[0.5555555555555556,\"#d8576b\"],[0.6666666666666666,\"#ed7953\"],[0.7777777777777778,\"#fb9f3a\"],[0.8888888888888888,\"#fdca26\"],[1.0,\"#f0f921\"]],\"type\":\"heatmap\"}],\"histogram2dcontour\":[{\"colorbar\":{\"outlinewidth\":0,\"ticks\":\"\"},\"colorscale\":[[0.0,\"#0d0887\"],[0.1111111111111111,\"#46039f\"],[0.2222222222222222,\"#7201a8\"],[0.3333333333333333,\"#9c179e\"],[0.4444444444444444,\"#bd3786\"],[0.5555555555555556,\"#d8576b\"],[0.6666666666666666,\"#ed7953\"],[0.7777777777777778,\"#fb9f3a\"],[0.8888888888888888,\"#fdca26\"],[1.0,\"#f0f921\"]],\"type\":\"histogram2dcontour\"}],\"histogram2d\":[{\"colorbar\":{\"outlinewidth\":0,\"ticks\":\"\"},\"colorscale\":[[0.0,\"#0d0887\"],[0.1111111111111111,\"#46039f\"],[0.2222222222222222,\"#7201a8\"],[0.3333333333333333,\"#9c179e\"],[0.4444444444444444,\"#bd3786\"],[0.5555555555555556,\"#d8576b\"],[0.6666666666666666,\"#ed7953\"],[0.7777777777777778,\"#fb9f3a\"],[0.8888888888888888,\"#fdca26\"],[1.0,\"#f0f921\"]],\"type\":\"histogram2d\"}],\"histogram\":[{\"marker\":{\"pattern\":{\"fillmode\":\"overlay\",\"size\":10,\"solidity\":0.2}},\"type\":\"histogram\"}],\"mesh3d\":[{\"colorbar\":{\"outlinewidth\":0,\"ticks\":\"\"},\"type\":\"mesh3d\"}],\"parcoords\":[{\"line\":{\"colorbar\":{\"outlinewidth\":0,\"ticks\":\"\"}},\"type\":\"parcoords\"}],\"pie\":[{\"automargin\":true,\"type\":\"pie\"}],\"scatter3d\":[{\"line\":{\"colorbar\":{\"outlinewidth\":0,\"ticks\":\"\"}},\"marker\":{\"colorbar\":{\"outlinewidth\":0,\"ticks\":\"\"}},\"type\":\"scatter3d\"}],\"scattercarpet\":[{\"marker\":{\"colorbar\":{\"outlinewidth\":0,\"ticks\":\"\"}},\"type\":\"scattercarpet\"}],\"scattergeo\":[{\"marker\":{\"colorbar\":{\"outlinewidth\":0,\"ticks\":\"\"}},\"type\":\"scattergeo\"}],\"scattergl\":[{\"marker\":{\"colorbar\":{\"outlinewidth\":0,\"ticks\":\"\"}},\"type\":\"scattergl\"}],\"scattermapbox\":[{\"marker\":{\"colorbar\":{\"outlinewidth\":0,\"ticks\":\"\"}},\"type\":\"scattermapbox\"}],\"scatterpolargl\":[{\"marker\":{\"colorbar\":{\"outlinewidth\":0,\"ticks\":\"\"}},\"type\":\"scatterpolargl\"}],\"scatterpolar\":[{\"marker\":{\"colorbar\":{\"outlinewidth\":0,\"ticks\":\"\"}},\"type\":\"scatterpolar\"}],\"scatter\":[{\"marker\":{\"colorbar\":{\"outlinewidth\":0,\"ticks\":\"\"}},\"type\":\"scatter\"}],\"scatterternary\":[{\"marker\":{\"colorbar\":{\"outlinewidth\":0,\"ticks\":\"\"}},\"type\":\"scatterternary\"}],\"surface\":[{\"colorbar\":{\"outlinewidth\":0,\"ticks\":\"\"},\"colorscale\":[[0.0,\"#0d0887\"],[0.1111111111111111,\"#46039f\"],[0.2222222222222222,\"#7201a8\"],[0.3333333333333333,\"#9c179e\"],[0.4444444444444444,\"#bd3786\"],[0.5555555555555556,\"#d8576b\"],[0.6666666666666666,\"#ed7953\"],[0.7777777777777778,\"#fb9f3a\"],[0.8888888888888888,\"#fdca26\"],[1.0,\"#f0f921\"]],\"type\":\"surface\"}],\"table\":[{\"cells\":{\"fill\":{\"color\":\"#EBF0F8\"},\"line\":{\"color\":\"white\"}},\"header\":{\"fill\":{\"color\":\"#C8D4E3\"},\"line\":{\"color\":\"white\"}},\"type\":\"table\"}]},\"layout\":{\"annotationdefaults\":{\"arrowcolor\":\"#2a3f5f\",\"arrowhead\":0,\"arrowwidth\":1},\"autotypenumbers\":\"strict\",\"coloraxis\":{\"colorbar\":{\"outlinewidth\":0,\"ticks\":\"\"}},\"colorscale\":{\"diverging\":[[0,\"#8e0152\"],[0.1,\"#c51b7d\"],[0.2,\"#de77ae\"],[0.3,\"#f1b6da\"],[0.4,\"#fde0ef\"],[0.5,\"#f7f7f7\"],[0.6,\"#e6f5d0\"],[0.7,\"#b8e186\"],[0.8,\"#7fbc41\"],[0.9,\"#4d9221\"],[1,\"#276419\"]],\"sequential\":[[0.0,\"#0d0887\"],[0.1111111111111111,\"#46039f\"],[0.2222222222222222,\"#7201a8\"],[0.3333333333333333,\"#9c179e\"],[0.4444444444444444,\"#bd3786\"],[0.5555555555555556,\"#d8576b\"],[0.6666666666666666,\"#ed7953\"],[0.7777777777777778,\"#fb9f3a\"],[0.8888888888888888,\"#fdca26\"],[1.0,\"#f0f921\"]],\"sequentialminus\":[[0.0,\"#0d0887\"],[0.1111111111111111,\"#46039f\"],[0.2222222222222222,\"#7201a8\"],[0.3333333333333333,\"#9c179e\"],[0.4444444444444444,\"#bd3786\"],[0.5555555555555556,\"#d8576b\"],[0.6666666666666666,\"#ed7953\"],[0.7777777777777778,\"#fb9f3a\"],[0.8888888888888888,\"#fdca26\"],[1.0,\"#f0f921\"]]},\"colorway\":[\"#636efa\",\"#EF553B\",\"#00cc96\",\"#ab63fa\",\"#FFA15A\",\"#19d3f3\",\"#FF6692\",\"#B6E880\",\"#FF97FF\",\"#FECB52\"],\"font\":{\"color\":\"#2a3f5f\"},\"geo\":{\"bgcolor\":\"white\",\"lakecolor\":\"white\",\"landcolor\":\"#E5ECF6\",\"showlakes\":true,\"showland\":true,\"subunitcolor\":\"white\"},\"hoverlabel\":{\"align\":\"left\"},\"hovermode\":\"closest\",\"mapbox\":{\"style\":\"light\"},\"paper_bgcolor\":\"white\",\"plot_bgcolor\":\"#E5ECF6\",\"polar\":{\"angularaxis\":{\"gridcolor\":\"white\",\"linecolor\":\"white\",\"ticks\":\"\"},\"bgcolor\":\"#E5ECF6\",\"radialaxis\":{\"gridcolor\":\"white\",\"linecolor\":\"white\",\"ticks\":\"\"}},\"scene\":{\"xaxis\":{\"backgroundcolor\":\"#E5ECF6\",\"gridcolor\":\"white\",\"gridwidth\":2,\"linecolor\":\"white\",\"showbackground\":true,\"ticks\":\"\",\"zerolinecolor\":\"white\"},\"yaxis\":{\"backgroundcolor\":\"#E5ECF6\",\"gridcolor\":\"white\",\"gridwidth\":2,\"linecolor\":\"white\",\"showbackground\":true,\"ticks\":\"\",\"zerolinecolor\":\"white\"},\"zaxis\":{\"backgroundcolor\":\"#E5ECF6\",\"gridcolor\":\"white\",\"gridwidth\":2,\"linecolor\":\"white\",\"showbackground\":true,\"ticks\":\"\",\"zerolinecolor\":\"white\"}},\"shapedefaults\":{\"line\":{\"color\":\"#2a3f5f\"}},\"ternary\":{\"aaxis\":{\"gridcolor\":\"white\",\"linecolor\":\"white\",\"ticks\":\"\"},\"baxis\":{\"gridcolor\":\"white\",\"linecolor\":\"white\",\"ticks\":\"\"},\"bgcolor\":\"#E5ECF6\",\"caxis\":{\"gridcolor\":\"white\",\"linecolor\":\"white\",\"ticks\":\"\"}},\"title\":{\"x\":0.05},\"xaxis\":{\"automargin\":true,\"gridcolor\":\"white\",\"linecolor\":\"white\",\"ticks\":\"\",\"title\":{\"standoff\":15},\"zerolinecolor\":\"white\",\"zerolinewidth\":2},\"yaxis\":{\"automargin\":true,\"gridcolor\":\"white\",\"linecolor\":\"white\",\"ticks\":\"\",\"title\":{\"standoff\":15},\"zerolinecolor\":\"white\",\"zerolinewidth\":2}}},\"title\":{\"text\":\"Epidemic Trend in Washington (Wave 2)\",\"x\":0.5},\"xaxis\":{\"title\":{\"text\":\"Day\"}},\"yaxis\":{\"title\":{\"text\":\"Population per 100k\"}}},                        {\"responsive\": true}                    ).then(function(){\n",
       "                            \n",
       "var gd = document.getElementById('785f888c-87cd-406b-ba51-cace9f9588c5');\n",
       "var x = new MutationObserver(function (mutations, observer) {{\n",
       "        var display = window.getComputedStyle(gd).display;\n",
       "        if (!display || display === 'none') {{\n",
       "            console.log([gd, 'removed!']);\n",
       "            Plotly.purge(gd);\n",
       "            observer.disconnect();\n",
       "        }}\n",
       "}});\n",
       "\n",
       "// Listen for the removal of the full notebook cells\n",
       "var notebookContainer = gd.closest('#notebook-container');\n",
       "if (notebookContainer) {{\n",
       "    x.observe(notebookContainer, {childList: true});\n",
       "}}\n",
       "\n",
       "// Listen for the clearing of the current output cell\n",
       "var outputEl = gd.closest('.output');\n",
       "if (outputEl) {{\n",
       "    x.observe(outputEl, {childList: true});\n",
       "}}\n",
       "\n",
       "                        })                };                });            </script>        </div>"
      ]
     },
     "metadata": {},
     "output_type": "display_data"
    }
   ],
   "source": [
    "#the prediction of the epidemic in a year\n",
    "import plotly.graph_objs as go    \n",
    "import plotly.offline as py \n",
    "#the prediction of the epidemic in a year\n",
    "result = base_seir_model(S,E,I,R,beta=0.14,sigma=0.05,gamma=0.32, t = 360)\n",
    "result['Day'] = list(range(360))\n",
    "\n",
    "trace0 = go.Scatter(\n",
    "      x = list(range(360)),\n",
    "      y = result['Susceptible'],\n",
    "      mode = 'lines',\n",
    "      name = 'Susceptible'   \n",
    ")\n",
    "trace1 = go.Scatter(\n",
    "      x = list(range(360)),\n",
    "      y = result['Exposed'],\n",
    "      mode = 'lines',\n",
    "      name = 'Exposed'   \n",
    ")\n",
    "trace2 = go.Scatter(\n",
    "      x = list(range(360)),\n",
    "      y = result['Infectant'],\n",
    "      mode = 'lines',\n",
    "      name = 'Exposed'   \n",
    ")\n",
    "\n",
    "trace3 = go.Scatter(\n",
    "      x = list(range(360)),\n",
    "      y = result['Recovered'],\n",
    "      mode = 'lines',\n",
    "      name = 'Exposed'   \n",
    ")\n",
    "data = [trace0, trace1,trace2,trace3]\n",
    "layout = dict(title = 'Epidemic Trend in Washington (Wave 2)', xaxis = dict(title = 'Day'), yaxis = dict(title = 'Population per 100k'), title_x=0.5)\n",
    "fig = dict(data=data, layout=layout)\n",
    "py.iplot(fig, filename='SEIR wave 1')\n"
   ]
  },
  {
   "cell_type": "markdown",
   "id": "b5109723",
   "metadata": {},
   "source": [
    "Even though Omicron has a larger beta(possibility of transmission), but also a higher recovery rate. It infects a lot of people, but it’s not scary.\n",
    "The pandemic soon stops."
   ]
  },
  {
   "cell_type": "code",
   "execution_count": 20,
   "id": "fa5a08d7",
   "metadata": {},
   "outputs": [
    {
     "data": {
      "application/vnd.plotly.v1+json": {
       "config": {
        "linkText": "Export to plot.ly",
        "plotlyServerURL": "https://plot.ly",
        "showLink": false
       },
       "data": [
        {
         "mode": "lines",
         "name": "Prediction",
         "type": "scatter",
         "x": [
          0,
          1,
          2,
          3,
          4,
          5,
          6,
          7,
          8,
          9,
          10,
          11,
          12,
          13,
          14,
          15,
          16,
          17,
          18,
          19,
          20,
          21,
          22,
          23,
          24,
          25,
          26,
          27,
          28,
          29,
          30,
          31,
          32,
          33,
          34,
          35,
          36,
          37,
          38,
          39,
          40,
          41,
          42,
          43,
          44,
          45,
          46,
          47,
          48,
          49,
          50,
          51,
          52,
          53,
          54,
          55
         ],
         "y": [
          35.4486924504389,
          36.10111885860761,
          36.75600861506143,
          37.41357529381895,
          38.074027612782054,
          38.73756959842222,
          39.40440074348353,
          40.07471615792761,
          40.74870671333678,
          41.42655918098249,
          42.108456363757604,
          42.79457722216324,
          43.48509699453249,
          44.18018731166632,
          44.88001630604973,
          45.58474871580898,
          46.29454598356471,
          47.00956635032906,
          47.729964944588936,
          48.45589386671205,
          49.187502268806476,
          49.924936430159555,
          50.6683398283766,
          51.41785320633533,
          52.173614635067054,
          52.93575957267147,
          53.704420919367585,
          54.47972906877931,
          55.2618119555503,
          56.05079509937928,
          56.846801645563154,
          57.64995240213238,
          58.46036587365938,
          59.27815829181833,
          60.10344364277135,
          60.93633369145373,
          61.776938002827976,
          62.62536396017444,
          63.481716780483566,
          64.34609952701302,
          65.21861311907064,
          66.09935633908242,
          66.98842583700308,
          67.88591613212469,
          68.79191961233784,
          69.70652653089799,
          70.62982500074848,
          71.5619009864506,
          72.5028382937698,
          73.45271855696622,
          74.41162122383712,
          75.37962353855733,
          76.35680052236403,
          77.34322495213083,
          78.33896733687617,
          79.34409589225025
         ]
        },
        {
         "mode": "lines",
         "name": "Real",
         "type": "scatter",
         "x": [
          0,
          1,
          2,
          3,
          4,
          5,
          6,
          7,
          8,
          9,
          10,
          11,
          12,
          13,
          14,
          15,
          16,
          17,
          18,
          19,
          20,
          21,
          22,
          23,
          24,
          25,
          26,
          27,
          28,
          29,
          30,
          31,
          32,
          33,
          34,
          35,
          36,
          37,
          38,
          39,
          40,
          41,
          42,
          43,
          44,
          45,
          46,
          47,
          48,
          49,
          50,
          51,
          52,
          53,
          54,
          55
         ],
         "y": [
          0,
          0,
          0,
          434.2674283144861,
          81.31434020149936,
          140.51412147222618,
          196.24701226924662,
          224.44176168988815,
          0,
          0,
          625.2090475860932,
          172.79297292818228,
          227.82985919828207,
          211.88741588358607,
          211.87428372270006,
          0,
          2125.505900082904,
          717.1079094611014,
          0,
          480.36131302173453,
          0,
          0,
          594.0989584489216,
          0,
          206.0567364505332,
          0,
          161.98520451961667,
          0,
          0,
          197.23192433564327,
          0,
          108.2615343380312,
          0,
          256.9963885244397,
          0,
          0,
          0.8141939748893492,
          0,
          -0.61721156161002,
          -1.4708020191465039,
          0,
          -16.362672463023046,
          0,
          0,
          0,
          67.97206474207997,
          -2.71835730325256,
          43.020959060093446,
          0,
          0,
          85.25398846708049,
          0,
          39.69852235611688,
          0,
          42.31182237229223
         ]
        }
       ],
       "layout": {
        "template": {
         "data": {
          "bar": [
           {
            "error_x": {
             "color": "#2a3f5f"
            },
            "error_y": {
             "color": "#2a3f5f"
            },
            "marker": {
             "line": {
              "color": "#E5ECF6",
              "width": 0.5
             },
             "pattern": {
              "fillmode": "overlay",
              "size": 10,
              "solidity": 0.2
             }
            },
            "type": "bar"
           }
          ],
          "barpolar": [
           {
            "marker": {
             "line": {
              "color": "#E5ECF6",
              "width": 0.5
             },
             "pattern": {
              "fillmode": "overlay",
              "size": 10,
              "solidity": 0.2
             }
            },
            "type": "barpolar"
           }
          ],
          "carpet": [
           {
            "aaxis": {
             "endlinecolor": "#2a3f5f",
             "gridcolor": "white",
             "linecolor": "white",
             "minorgridcolor": "white",
             "startlinecolor": "#2a3f5f"
            },
            "baxis": {
             "endlinecolor": "#2a3f5f",
             "gridcolor": "white",
             "linecolor": "white",
             "minorgridcolor": "white",
             "startlinecolor": "#2a3f5f"
            },
            "type": "carpet"
           }
          ],
          "choropleth": [
           {
            "colorbar": {
             "outlinewidth": 0,
             "ticks": ""
            },
            "type": "choropleth"
           }
          ],
          "contour": [
           {
            "colorbar": {
             "outlinewidth": 0,
             "ticks": ""
            },
            "colorscale": [
             [
              0,
              "#0d0887"
             ],
             [
              0.1111111111111111,
              "#46039f"
             ],
             [
              0.2222222222222222,
              "#7201a8"
             ],
             [
              0.3333333333333333,
              "#9c179e"
             ],
             [
              0.4444444444444444,
              "#bd3786"
             ],
             [
              0.5555555555555556,
              "#d8576b"
             ],
             [
              0.6666666666666666,
              "#ed7953"
             ],
             [
              0.7777777777777778,
              "#fb9f3a"
             ],
             [
              0.8888888888888888,
              "#fdca26"
             ],
             [
              1,
              "#f0f921"
             ]
            ],
            "type": "contour"
           }
          ],
          "contourcarpet": [
           {
            "colorbar": {
             "outlinewidth": 0,
             "ticks": ""
            },
            "type": "contourcarpet"
           }
          ],
          "heatmap": [
           {
            "colorbar": {
             "outlinewidth": 0,
             "ticks": ""
            },
            "colorscale": [
             [
              0,
              "#0d0887"
             ],
             [
              0.1111111111111111,
              "#46039f"
             ],
             [
              0.2222222222222222,
              "#7201a8"
             ],
             [
              0.3333333333333333,
              "#9c179e"
             ],
             [
              0.4444444444444444,
              "#bd3786"
             ],
             [
              0.5555555555555556,
              "#d8576b"
             ],
             [
              0.6666666666666666,
              "#ed7953"
             ],
             [
              0.7777777777777778,
              "#fb9f3a"
             ],
             [
              0.8888888888888888,
              "#fdca26"
             ],
             [
              1,
              "#f0f921"
             ]
            ],
            "type": "heatmap"
           }
          ],
          "heatmapgl": [
           {
            "colorbar": {
             "outlinewidth": 0,
             "ticks": ""
            },
            "colorscale": [
             [
              0,
              "#0d0887"
             ],
             [
              0.1111111111111111,
              "#46039f"
             ],
             [
              0.2222222222222222,
              "#7201a8"
             ],
             [
              0.3333333333333333,
              "#9c179e"
             ],
             [
              0.4444444444444444,
              "#bd3786"
             ],
             [
              0.5555555555555556,
              "#d8576b"
             ],
             [
              0.6666666666666666,
              "#ed7953"
             ],
             [
              0.7777777777777778,
              "#fb9f3a"
             ],
             [
              0.8888888888888888,
              "#fdca26"
             ],
             [
              1,
              "#f0f921"
             ]
            ],
            "type": "heatmapgl"
           }
          ],
          "histogram": [
           {
            "marker": {
             "pattern": {
              "fillmode": "overlay",
              "size": 10,
              "solidity": 0.2
             }
            },
            "type": "histogram"
           }
          ],
          "histogram2d": [
           {
            "colorbar": {
             "outlinewidth": 0,
             "ticks": ""
            },
            "colorscale": [
             [
              0,
              "#0d0887"
             ],
             [
              0.1111111111111111,
              "#46039f"
             ],
             [
              0.2222222222222222,
              "#7201a8"
             ],
             [
              0.3333333333333333,
              "#9c179e"
             ],
             [
              0.4444444444444444,
              "#bd3786"
             ],
             [
              0.5555555555555556,
              "#d8576b"
             ],
             [
              0.6666666666666666,
              "#ed7953"
             ],
             [
              0.7777777777777778,
              "#fb9f3a"
             ],
             [
              0.8888888888888888,
              "#fdca26"
             ],
             [
              1,
              "#f0f921"
             ]
            ],
            "type": "histogram2d"
           }
          ],
          "histogram2dcontour": [
           {
            "colorbar": {
             "outlinewidth": 0,
             "ticks": ""
            },
            "colorscale": [
             [
              0,
              "#0d0887"
             ],
             [
              0.1111111111111111,
              "#46039f"
             ],
             [
              0.2222222222222222,
              "#7201a8"
             ],
             [
              0.3333333333333333,
              "#9c179e"
             ],
             [
              0.4444444444444444,
              "#bd3786"
             ],
             [
              0.5555555555555556,
              "#d8576b"
             ],
             [
              0.6666666666666666,
              "#ed7953"
             ],
             [
              0.7777777777777778,
              "#fb9f3a"
             ],
             [
              0.8888888888888888,
              "#fdca26"
             ],
             [
              1,
              "#f0f921"
             ]
            ],
            "type": "histogram2dcontour"
           }
          ],
          "mesh3d": [
           {
            "colorbar": {
             "outlinewidth": 0,
             "ticks": ""
            },
            "type": "mesh3d"
           }
          ],
          "parcoords": [
           {
            "line": {
             "colorbar": {
              "outlinewidth": 0,
              "ticks": ""
             }
            },
            "type": "parcoords"
           }
          ],
          "pie": [
           {
            "automargin": true,
            "type": "pie"
           }
          ],
          "scatter": [
           {
            "marker": {
             "colorbar": {
              "outlinewidth": 0,
              "ticks": ""
             }
            },
            "type": "scatter"
           }
          ],
          "scatter3d": [
           {
            "line": {
             "colorbar": {
              "outlinewidth": 0,
              "ticks": ""
             }
            },
            "marker": {
             "colorbar": {
              "outlinewidth": 0,
              "ticks": ""
             }
            },
            "type": "scatter3d"
           }
          ],
          "scattercarpet": [
           {
            "marker": {
             "colorbar": {
              "outlinewidth": 0,
              "ticks": ""
             }
            },
            "type": "scattercarpet"
           }
          ],
          "scattergeo": [
           {
            "marker": {
             "colorbar": {
              "outlinewidth": 0,
              "ticks": ""
             }
            },
            "type": "scattergeo"
           }
          ],
          "scattergl": [
           {
            "marker": {
             "colorbar": {
              "outlinewidth": 0,
              "ticks": ""
             }
            },
            "type": "scattergl"
           }
          ],
          "scattermapbox": [
           {
            "marker": {
             "colorbar": {
              "outlinewidth": 0,
              "ticks": ""
             }
            },
            "type": "scattermapbox"
           }
          ],
          "scatterpolar": [
           {
            "marker": {
             "colorbar": {
              "outlinewidth": 0,
              "ticks": ""
             }
            },
            "type": "scatterpolar"
           }
          ],
          "scatterpolargl": [
           {
            "marker": {
             "colorbar": {
              "outlinewidth": 0,
              "ticks": ""
             }
            },
            "type": "scatterpolargl"
           }
          ],
          "scatterternary": [
           {
            "marker": {
             "colorbar": {
              "outlinewidth": 0,
              "ticks": ""
             }
            },
            "type": "scatterternary"
           }
          ],
          "surface": [
           {
            "colorbar": {
             "outlinewidth": 0,
             "ticks": ""
            },
            "colorscale": [
             [
              0,
              "#0d0887"
             ],
             [
              0.1111111111111111,
              "#46039f"
             ],
             [
              0.2222222222222222,
              "#7201a8"
             ],
             [
              0.3333333333333333,
              "#9c179e"
             ],
             [
              0.4444444444444444,
              "#bd3786"
             ],
             [
              0.5555555555555556,
              "#d8576b"
             ],
             [
              0.6666666666666666,
              "#ed7953"
             ],
             [
              0.7777777777777778,
              "#fb9f3a"
             ],
             [
              0.8888888888888888,
              "#fdca26"
             ],
             [
              1,
              "#f0f921"
             ]
            ],
            "type": "surface"
           }
          ],
          "table": [
           {
            "cells": {
             "fill": {
              "color": "#EBF0F8"
             },
             "line": {
              "color": "white"
             }
            },
            "header": {
             "fill": {
              "color": "#C8D4E3"
             },
             "line": {
              "color": "white"
             }
            },
            "type": "table"
           }
          ]
         },
         "layout": {
          "annotationdefaults": {
           "arrowcolor": "#2a3f5f",
           "arrowhead": 0,
           "arrowwidth": 1
          },
          "autotypenumbers": "strict",
          "coloraxis": {
           "colorbar": {
            "outlinewidth": 0,
            "ticks": ""
           }
          },
          "colorscale": {
           "diverging": [
            [
             0,
             "#8e0152"
            ],
            [
             0.1,
             "#c51b7d"
            ],
            [
             0.2,
             "#de77ae"
            ],
            [
             0.3,
             "#f1b6da"
            ],
            [
             0.4,
             "#fde0ef"
            ],
            [
             0.5,
             "#f7f7f7"
            ],
            [
             0.6,
             "#e6f5d0"
            ],
            [
             0.7,
             "#b8e186"
            ],
            [
             0.8,
             "#7fbc41"
            ],
            [
             0.9,
             "#4d9221"
            ],
            [
             1,
             "#276419"
            ]
           ],
           "sequential": [
            [
             0,
             "#0d0887"
            ],
            [
             0.1111111111111111,
             "#46039f"
            ],
            [
             0.2222222222222222,
             "#7201a8"
            ],
            [
             0.3333333333333333,
             "#9c179e"
            ],
            [
             0.4444444444444444,
             "#bd3786"
            ],
            [
             0.5555555555555556,
             "#d8576b"
            ],
            [
             0.6666666666666666,
             "#ed7953"
            ],
            [
             0.7777777777777778,
             "#fb9f3a"
            ],
            [
             0.8888888888888888,
             "#fdca26"
            ],
            [
             1,
             "#f0f921"
            ]
           ],
           "sequentialminus": [
            [
             0,
             "#0d0887"
            ],
            [
             0.1111111111111111,
             "#46039f"
            ],
            [
             0.2222222222222222,
             "#7201a8"
            ],
            [
             0.3333333333333333,
             "#9c179e"
            ],
            [
             0.4444444444444444,
             "#bd3786"
            ],
            [
             0.5555555555555556,
             "#d8576b"
            ],
            [
             0.6666666666666666,
             "#ed7953"
            ],
            [
             0.7777777777777778,
             "#fb9f3a"
            ],
            [
             0.8888888888888888,
             "#fdca26"
            ],
            [
             1,
             "#f0f921"
            ]
           ]
          },
          "colorway": [
           "#636efa",
           "#EF553B",
           "#00cc96",
           "#ab63fa",
           "#FFA15A",
           "#19d3f3",
           "#FF6692",
           "#B6E880",
           "#FF97FF",
           "#FECB52"
          ],
          "font": {
           "color": "#2a3f5f"
          },
          "geo": {
           "bgcolor": "white",
           "lakecolor": "white",
           "landcolor": "#E5ECF6",
           "showlakes": true,
           "showland": true,
           "subunitcolor": "white"
          },
          "hoverlabel": {
           "align": "left"
          },
          "hovermode": "closest",
          "mapbox": {
           "style": "light"
          },
          "paper_bgcolor": "white",
          "plot_bgcolor": "#E5ECF6",
          "polar": {
           "angularaxis": {
            "gridcolor": "white",
            "linecolor": "white",
            "ticks": ""
           },
           "bgcolor": "#E5ECF6",
           "radialaxis": {
            "gridcolor": "white",
            "linecolor": "white",
            "ticks": ""
           }
          },
          "scene": {
           "xaxis": {
            "backgroundcolor": "#E5ECF6",
            "gridcolor": "white",
            "gridwidth": 2,
            "linecolor": "white",
            "showbackground": true,
            "ticks": "",
            "zerolinecolor": "white"
           },
           "yaxis": {
            "backgroundcolor": "#E5ECF6",
            "gridcolor": "white",
            "gridwidth": 2,
            "linecolor": "white",
            "showbackground": true,
            "ticks": "",
            "zerolinecolor": "white"
           },
           "zaxis": {
            "backgroundcolor": "#E5ECF6",
            "gridcolor": "white",
            "gridwidth": 2,
            "linecolor": "white",
            "showbackground": true,
            "ticks": "",
            "zerolinecolor": "white"
           }
          },
          "shapedefaults": {
           "line": {
            "color": "#2a3f5f"
           }
          },
          "ternary": {
           "aaxis": {
            "gridcolor": "white",
            "linecolor": "white",
            "ticks": ""
           },
           "baxis": {
            "gridcolor": "white",
            "linecolor": "white",
            "ticks": ""
           },
           "bgcolor": "#E5ECF6",
           "caxis": {
            "gridcolor": "white",
            "linecolor": "white",
            "ticks": ""
           }
          },
          "title": {
           "x": 0.05
          },
          "xaxis": {
           "automargin": true,
           "gridcolor": "white",
           "linecolor": "white",
           "ticks": "",
           "title": {
            "standoff": 15
           },
           "zerolinecolor": "white",
           "zerolinewidth": 2
          },
          "yaxis": {
           "automargin": true,
           "gridcolor": "white",
           "linecolor": "white",
           "ticks": "",
           "title": {
            "standoff": 15
           },
           "zerolinecolor": "white",
           "zerolinewidth": 2
          }
         }
        },
        "title": {
         "text": "New Infectant (Predict vs. Real)"
        },
        "xaxis": {
         "title": {
          "text": "Day"
         }
        },
        "yaxis": {
         "title": {
          "text": "Population per 100k"
         }
        }
       }
      },
      "text/html": [
       "<div>                            <div id=\"fd7ad8d7-a764-45e9-b49e-c6181d2900af\" class=\"plotly-graph-div\" style=\"height:525px; width:100%;\"></div>            <script type=\"text/javascript\">                require([\"plotly\"], function(Plotly) {                    window.PLOTLYENV=window.PLOTLYENV || {};                                    if (document.getElementById(\"fd7ad8d7-a764-45e9-b49e-c6181d2900af\")) {                    Plotly.newPlot(                        \"fd7ad8d7-a764-45e9-b49e-c6181d2900af\",                        [{\"mode\":\"lines\",\"name\":\"Prediction\",\"x\":[0,1,2,3,4,5,6,7,8,9,10,11,12,13,14,15,16,17,18,19,20,21,22,23,24,25,26,27,28,29,30,31,32,33,34,35,36,37,38,39,40,41,42,43,44,45,46,47,48,49,50,51,52,53,54,55],\"y\":[35.4486924504389,36.10111885860761,36.75600861506143,37.41357529381895,38.074027612782054,38.73756959842222,39.40440074348353,40.07471615792761,40.74870671333678,41.42655918098249,42.108456363757604,42.79457722216324,43.48509699453249,44.18018731166632,44.88001630604973,45.58474871580898,46.29454598356471,47.00956635032906,47.729964944588936,48.45589386671205,49.187502268806476,49.924936430159555,50.6683398283766,51.41785320633533,52.173614635067054,52.93575957267147,53.704420919367585,54.47972906877931,55.2618119555503,56.05079509937928,56.846801645563154,57.64995240213238,58.46036587365938,59.27815829181833,60.10344364277135,60.93633369145373,61.776938002827976,62.62536396017444,63.481716780483566,64.34609952701302,65.21861311907064,66.09935633908242,66.98842583700308,67.88591613212469,68.79191961233784,69.70652653089799,70.62982500074848,71.5619009864506,72.5028382937698,73.45271855696622,74.41162122383712,75.37962353855733,76.35680052236403,77.34322495213083,78.33896733687617,79.34409589225025],\"type\":\"scatter\"},{\"mode\":\"lines\",\"name\":\"Real\",\"x\":[0,1,2,3,4,5,6,7,8,9,10,11,12,13,14,15,16,17,18,19,20,21,22,23,24,25,26,27,28,29,30,31,32,33,34,35,36,37,38,39,40,41,42,43,44,45,46,47,48,49,50,51,52,53,54,55],\"y\":[0.0,0.0,0.0,434.2674283144861,81.31434020149936,140.51412147222618,196.24701226924662,224.44176168988815,0.0,0.0,625.2090475860932,172.79297292818228,227.82985919828207,211.88741588358607,211.87428372270006,0.0,2125.505900082904,717.1079094611014,0.0,480.36131302173453,0.0,0.0,594.0989584489216,0.0,206.0567364505332,0.0,161.98520451961667,0.0,0.0,197.23192433564327,0.0,108.2615343380312,0.0,256.9963885244397,0.0,0.0,0.8141939748893492,0.0,-0.61721156161002,-1.4708020191465039,0.0,-16.362672463023046,0.0,0.0,0.0,67.97206474207997,-2.71835730325256,43.020959060093446,0.0,0.0,85.25398846708049,0.0,39.69852235611688,0.0,42.31182237229223],\"type\":\"scatter\"}],                        {\"template\":{\"data\":{\"barpolar\":[{\"marker\":{\"line\":{\"color\":\"#E5ECF6\",\"width\":0.5},\"pattern\":{\"fillmode\":\"overlay\",\"size\":10,\"solidity\":0.2}},\"type\":\"barpolar\"}],\"bar\":[{\"error_x\":{\"color\":\"#2a3f5f\"},\"error_y\":{\"color\":\"#2a3f5f\"},\"marker\":{\"line\":{\"color\":\"#E5ECF6\",\"width\":0.5},\"pattern\":{\"fillmode\":\"overlay\",\"size\":10,\"solidity\":0.2}},\"type\":\"bar\"}],\"carpet\":[{\"aaxis\":{\"endlinecolor\":\"#2a3f5f\",\"gridcolor\":\"white\",\"linecolor\":\"white\",\"minorgridcolor\":\"white\",\"startlinecolor\":\"#2a3f5f\"},\"baxis\":{\"endlinecolor\":\"#2a3f5f\",\"gridcolor\":\"white\",\"linecolor\":\"white\",\"minorgridcolor\":\"white\",\"startlinecolor\":\"#2a3f5f\"},\"type\":\"carpet\"}],\"choropleth\":[{\"colorbar\":{\"outlinewidth\":0,\"ticks\":\"\"},\"type\":\"choropleth\"}],\"contourcarpet\":[{\"colorbar\":{\"outlinewidth\":0,\"ticks\":\"\"},\"type\":\"contourcarpet\"}],\"contour\":[{\"colorbar\":{\"outlinewidth\":0,\"ticks\":\"\"},\"colorscale\":[[0.0,\"#0d0887\"],[0.1111111111111111,\"#46039f\"],[0.2222222222222222,\"#7201a8\"],[0.3333333333333333,\"#9c179e\"],[0.4444444444444444,\"#bd3786\"],[0.5555555555555556,\"#d8576b\"],[0.6666666666666666,\"#ed7953\"],[0.7777777777777778,\"#fb9f3a\"],[0.8888888888888888,\"#fdca26\"],[1.0,\"#f0f921\"]],\"type\":\"contour\"}],\"heatmapgl\":[{\"colorbar\":{\"outlinewidth\":0,\"ticks\":\"\"},\"colorscale\":[[0.0,\"#0d0887\"],[0.1111111111111111,\"#46039f\"],[0.2222222222222222,\"#7201a8\"],[0.3333333333333333,\"#9c179e\"],[0.4444444444444444,\"#bd3786\"],[0.5555555555555556,\"#d8576b\"],[0.6666666666666666,\"#ed7953\"],[0.7777777777777778,\"#fb9f3a\"],[0.8888888888888888,\"#fdca26\"],[1.0,\"#f0f921\"]],\"type\":\"heatmapgl\"}],\"heatmap\":[{\"colorbar\":{\"outlinewidth\":0,\"ticks\":\"\"},\"colorscale\":[[0.0,\"#0d0887\"],[0.1111111111111111,\"#46039f\"],[0.2222222222222222,\"#7201a8\"],[0.3333333333333333,\"#9c179e\"],[0.4444444444444444,\"#bd3786\"],[0.5555555555555556,\"#d8576b\"],[0.6666666666666666,\"#ed7953\"],[0.7777777777777778,\"#fb9f3a\"],[0.8888888888888888,\"#fdca26\"],[1.0,\"#f0f921\"]],\"type\":\"heatmap\"}],\"histogram2dcontour\":[{\"colorbar\":{\"outlinewidth\":0,\"ticks\":\"\"},\"colorscale\":[[0.0,\"#0d0887\"],[0.1111111111111111,\"#46039f\"],[0.2222222222222222,\"#7201a8\"],[0.3333333333333333,\"#9c179e\"],[0.4444444444444444,\"#bd3786\"],[0.5555555555555556,\"#d8576b\"],[0.6666666666666666,\"#ed7953\"],[0.7777777777777778,\"#fb9f3a\"],[0.8888888888888888,\"#fdca26\"],[1.0,\"#f0f921\"]],\"type\":\"histogram2dcontour\"}],\"histogram2d\":[{\"colorbar\":{\"outlinewidth\":0,\"ticks\":\"\"},\"colorscale\":[[0.0,\"#0d0887\"],[0.1111111111111111,\"#46039f\"],[0.2222222222222222,\"#7201a8\"],[0.3333333333333333,\"#9c179e\"],[0.4444444444444444,\"#bd3786\"],[0.5555555555555556,\"#d8576b\"],[0.6666666666666666,\"#ed7953\"],[0.7777777777777778,\"#fb9f3a\"],[0.8888888888888888,\"#fdca26\"],[1.0,\"#f0f921\"]],\"type\":\"histogram2d\"}],\"histogram\":[{\"marker\":{\"pattern\":{\"fillmode\":\"overlay\",\"size\":10,\"solidity\":0.2}},\"type\":\"histogram\"}],\"mesh3d\":[{\"colorbar\":{\"outlinewidth\":0,\"ticks\":\"\"},\"type\":\"mesh3d\"}],\"parcoords\":[{\"line\":{\"colorbar\":{\"outlinewidth\":0,\"ticks\":\"\"}},\"type\":\"parcoords\"}],\"pie\":[{\"automargin\":true,\"type\":\"pie\"}],\"scatter3d\":[{\"line\":{\"colorbar\":{\"outlinewidth\":0,\"ticks\":\"\"}},\"marker\":{\"colorbar\":{\"outlinewidth\":0,\"ticks\":\"\"}},\"type\":\"scatter3d\"}],\"scattercarpet\":[{\"marker\":{\"colorbar\":{\"outlinewidth\":0,\"ticks\":\"\"}},\"type\":\"scattercarpet\"}],\"scattergeo\":[{\"marker\":{\"colorbar\":{\"outlinewidth\":0,\"ticks\":\"\"}},\"type\":\"scattergeo\"}],\"scattergl\":[{\"marker\":{\"colorbar\":{\"outlinewidth\":0,\"ticks\":\"\"}},\"type\":\"scattergl\"}],\"scattermapbox\":[{\"marker\":{\"colorbar\":{\"outlinewidth\":0,\"ticks\":\"\"}},\"type\":\"scattermapbox\"}],\"scatterpolargl\":[{\"marker\":{\"colorbar\":{\"outlinewidth\":0,\"ticks\":\"\"}},\"type\":\"scatterpolargl\"}],\"scatterpolar\":[{\"marker\":{\"colorbar\":{\"outlinewidth\":0,\"ticks\":\"\"}},\"type\":\"scatterpolar\"}],\"scatter\":[{\"marker\":{\"colorbar\":{\"outlinewidth\":0,\"ticks\":\"\"}},\"type\":\"scatter\"}],\"scatterternary\":[{\"marker\":{\"colorbar\":{\"outlinewidth\":0,\"ticks\":\"\"}},\"type\":\"scatterternary\"}],\"surface\":[{\"colorbar\":{\"outlinewidth\":0,\"ticks\":\"\"},\"colorscale\":[[0.0,\"#0d0887\"],[0.1111111111111111,\"#46039f\"],[0.2222222222222222,\"#7201a8\"],[0.3333333333333333,\"#9c179e\"],[0.4444444444444444,\"#bd3786\"],[0.5555555555555556,\"#d8576b\"],[0.6666666666666666,\"#ed7953\"],[0.7777777777777778,\"#fb9f3a\"],[0.8888888888888888,\"#fdca26\"],[1.0,\"#f0f921\"]],\"type\":\"surface\"}],\"table\":[{\"cells\":{\"fill\":{\"color\":\"#EBF0F8\"},\"line\":{\"color\":\"white\"}},\"header\":{\"fill\":{\"color\":\"#C8D4E3\"},\"line\":{\"color\":\"white\"}},\"type\":\"table\"}]},\"layout\":{\"annotationdefaults\":{\"arrowcolor\":\"#2a3f5f\",\"arrowhead\":0,\"arrowwidth\":1},\"autotypenumbers\":\"strict\",\"coloraxis\":{\"colorbar\":{\"outlinewidth\":0,\"ticks\":\"\"}},\"colorscale\":{\"diverging\":[[0,\"#8e0152\"],[0.1,\"#c51b7d\"],[0.2,\"#de77ae\"],[0.3,\"#f1b6da\"],[0.4,\"#fde0ef\"],[0.5,\"#f7f7f7\"],[0.6,\"#e6f5d0\"],[0.7,\"#b8e186\"],[0.8,\"#7fbc41\"],[0.9,\"#4d9221\"],[1,\"#276419\"]],\"sequential\":[[0.0,\"#0d0887\"],[0.1111111111111111,\"#46039f\"],[0.2222222222222222,\"#7201a8\"],[0.3333333333333333,\"#9c179e\"],[0.4444444444444444,\"#bd3786\"],[0.5555555555555556,\"#d8576b\"],[0.6666666666666666,\"#ed7953\"],[0.7777777777777778,\"#fb9f3a\"],[0.8888888888888888,\"#fdca26\"],[1.0,\"#f0f921\"]],\"sequentialminus\":[[0.0,\"#0d0887\"],[0.1111111111111111,\"#46039f\"],[0.2222222222222222,\"#7201a8\"],[0.3333333333333333,\"#9c179e\"],[0.4444444444444444,\"#bd3786\"],[0.5555555555555556,\"#d8576b\"],[0.6666666666666666,\"#ed7953\"],[0.7777777777777778,\"#fb9f3a\"],[0.8888888888888888,\"#fdca26\"],[1.0,\"#f0f921\"]]},\"colorway\":[\"#636efa\",\"#EF553B\",\"#00cc96\",\"#ab63fa\",\"#FFA15A\",\"#19d3f3\",\"#FF6692\",\"#B6E880\",\"#FF97FF\",\"#FECB52\"],\"font\":{\"color\":\"#2a3f5f\"},\"geo\":{\"bgcolor\":\"white\",\"lakecolor\":\"white\",\"landcolor\":\"#E5ECF6\",\"showlakes\":true,\"showland\":true,\"subunitcolor\":\"white\"},\"hoverlabel\":{\"align\":\"left\"},\"hovermode\":\"closest\",\"mapbox\":{\"style\":\"light\"},\"paper_bgcolor\":\"white\",\"plot_bgcolor\":\"#E5ECF6\",\"polar\":{\"angularaxis\":{\"gridcolor\":\"white\",\"linecolor\":\"white\",\"ticks\":\"\"},\"bgcolor\":\"#E5ECF6\",\"radialaxis\":{\"gridcolor\":\"white\",\"linecolor\":\"white\",\"ticks\":\"\"}},\"scene\":{\"xaxis\":{\"backgroundcolor\":\"#E5ECF6\",\"gridcolor\":\"white\",\"gridwidth\":2,\"linecolor\":\"white\",\"showbackground\":true,\"ticks\":\"\",\"zerolinecolor\":\"white\"},\"yaxis\":{\"backgroundcolor\":\"#E5ECF6\",\"gridcolor\":\"white\",\"gridwidth\":2,\"linecolor\":\"white\",\"showbackground\":true,\"ticks\":\"\",\"zerolinecolor\":\"white\"},\"zaxis\":{\"backgroundcolor\":\"#E5ECF6\",\"gridcolor\":\"white\",\"gridwidth\":2,\"linecolor\":\"white\",\"showbackground\":true,\"ticks\":\"\",\"zerolinecolor\":\"white\"}},\"shapedefaults\":{\"line\":{\"color\":\"#2a3f5f\"}},\"ternary\":{\"aaxis\":{\"gridcolor\":\"white\",\"linecolor\":\"white\",\"ticks\":\"\"},\"baxis\":{\"gridcolor\":\"white\",\"linecolor\":\"white\",\"ticks\":\"\"},\"bgcolor\":\"#E5ECF6\",\"caxis\":{\"gridcolor\":\"white\",\"linecolor\":\"white\",\"ticks\":\"\"}},\"title\":{\"x\":0.05},\"xaxis\":{\"automargin\":true,\"gridcolor\":\"white\",\"linecolor\":\"white\",\"ticks\":\"\",\"title\":{\"standoff\":15},\"zerolinecolor\":\"white\",\"zerolinewidth\":2},\"yaxis\":{\"automargin\":true,\"gridcolor\":\"white\",\"linecolor\":\"white\",\"ticks\":\"\",\"title\":{\"standoff\":15},\"zerolinecolor\":\"white\",\"zerolinewidth\":2}}},\"title\":{\"text\":\"New Infectant (Predict vs. Real)\"},\"xaxis\":{\"title\":{\"text\":\"Day\"}},\"yaxis\":{\"title\":{\"text\":\"Population per 100k\"}}},                        {\"responsive\": true}                    ).then(function(){\n",
       "                            \n",
       "var gd = document.getElementById('fd7ad8d7-a764-45e9-b49e-c6181d2900af');\n",
       "var x = new MutationObserver(function (mutations, observer) {{\n",
       "        var display = window.getComputedStyle(gd).display;\n",
       "        if (!display || display === 'none') {{\n",
       "            console.log([gd, 'removed!']);\n",
       "            Plotly.purge(gd);\n",
       "            observer.disconnect();\n",
       "        }}\n",
       "}});\n",
       "\n",
       "// Listen for the removal of the full notebook cells\n",
       "var notebookContainer = gd.closest('#notebook-container');\n",
       "if (notebookContainer) {{\n",
       "    x.observe(notebookContainer, {childList: true});\n",
       "}}\n",
       "\n",
       "// Listen for the clearing of the current output cell\n",
       "var outputEl = gd.closest('.output');\n",
       "if (outputEl) {{\n",
       "    x.observe(outputEl, {childList: true});\n",
       "}}\n",
       "\n",
       "                        })                };                });            </script>        </div>"
      ]
     },
     "metadata": {},
     "output_type": "display_data"
    }
   ],
   "source": [
    "#test if the prediction \n",
    "new_in = result['New Infect'][1:len(inci)+1]\n",
    "trace0 = go.Scatter(\n",
    "      x = list(range(len(new_in))),\n",
    "      y = new_in,\n",
    "      mode = 'lines',\n",
    "      name = 'Prediction'   \n",
    ")\n",
    "trace1 = go.Scatter(\n",
    "      x = list(range(len(new_in))),\n",
    "      y = new_per_day,\n",
    "      mode = 'lines',\n",
    "      name = 'Real'   \n",
    ")\n",
    "data = [trace0, trace1]\n",
    "layout = dict(title = r'New Infectant (Predict vs. Real)', xaxis = dict(title = 'Day'), yaxis = dict(title = 'Population per 100k'))\n",
    "fig = dict(data=data, layout=layout)\n",
    "py.iplot(fig, filename='New Infectant (Predict vs. Real)')"
   ]
  },
  {
   "cell_type": "markdown",
   "id": "bf88949c",
   "metadata": {},
   "source": [
    "SEIR model is helpful when computing the internal relations. \n",
    "However, it considers too many features and is very likely to be influenced by other features. \n",
    "The prediction is not very accurate."
   ]
  },
  {
   "cell_type": "code",
   "execution_count": 5,
   "id": "7b099df8",
   "metadata": {},
   "outputs": [
    {
     "data": {
      "image/png": "[encoded data removed]",
      "text/plain": [
       "<Figure size 432x288 with 1 Axes>"
      ]
     },
     "metadata": {
      "needs_background": "light"
     },
     "output_type": "display_data"
    }
   ],
   "source": [
    "#new infectants per day\n",
    "inci_ca = np.array(idr_ca['incident_rate'])\n",
    "new_per_day_ca = inci_ca[1:]-inci_ca[:-1]\n",
    "inci_tx = np.array(idr_tx['incident_rate'])\n",
    "new_per_day_tx = inci_tx[1:]-inci_tx[:-1]\n",
    "inci_wa = np.array(idr_wa['incident_rate'])\n",
    "new_per_day_wa = inci_wa[1:]-inci_wa[:-1]\n",
    "date = idr_ca.index[1:]\n",
    "plt.plot(date, new_per_day_ca, color = 'blue', label = 'CA')\n",
    "plt.plot(date, new_per_day_tx, color = 'red', label = 'TX')\n",
    "plt.plot(date, new_per_day_wa, color = 'green', label = 'WA')\n",
    "plt.legend()\n",
    "plt.title('New Infectants per 100000 people')\n",
    "plt.xlabel('Date')\n",
    "plt.ylabel('Count')\n",
    "plt.show()"
   ]
  },
  {
   "cell_type": "markdown",
   "id": "27a53252",
   "metadata": {},
   "source": [
    "The plot shows that there are roughly 3 waves of the pandemic"
   ]
  },
  {
   "cell_type": "code",
   "execution_count": 76,
   "id": "fbdac3a3",
   "metadata": {},
   "outputs": [
    {
     "name": "stdout",
     "output_type": "stream",
     "text": [
      "                  Date  MMWR_week Location  Distributed  Distributed_Janssen  \\\n",
      "2022-02-27  02/27/2022          9       CA     85834025              3685200   \n",
      "2022-02-26  02/26/2022          8       CA     85834025              3685200   \n",
      "2022-02-25  02/25/2022          8       CA     85777025              3683900   \n",
      "2022-02-24  02/24/2022          8       CA     85679525              3683900   \n",
      "2022-02-23  02/23/2022          8       CA     85646925              3683600   \n",
      "\n",
      "            Distributed_Moderna  Distributed_Pfizer  Distributed_Unk_Manuf  \\\n",
      "2022-02-27             30682620            51466205                      0   \n",
      "2022-02-26             30682620            51466205                      0   \n",
      "2022-02-25             30655520            51437605                      0   \n",
      "2022-02-24             30644420            51351205                      0   \n",
      "2022-02-23             30612220            51351105                      0   \n",
      "\n",
      "            Dist_Per_100K  Distributed_Per_100k_12Plus  ...  \\\n",
      "2022-02-27         217234                       255107  ...   \n",
      "2022-02-26         217234                       255107  ...   \n",
      "2022-02-25         217090                       254938  ...   \n",
      "2022-02-24         216843                       254648  ...   \n",
      "2022-02-23         216761                       254551  ...   \n",
      "\n",
      "            Administered_Dose1_Recip_5PlusPop_Pct  Series_Complete_5Plus  \\\n",
      "2022-02-27                                   87.1             27819880.0   \n",
      "2022-02-26                                   87.0             27802376.0   \n",
      "2022-02-25                                   87.0             27784555.0   \n",
      "2022-02-24                                   86.9             27768189.0   \n",
      "2022-02-23                                   86.9             27753642.0   \n",
      "\n",
      "            Series_Complete_5PlusPop_Pct  Administered_5Plus  \\\n",
      "2022-02-27                          74.9          71504665.0   \n",
      "2022-02-26                          74.9          71429397.0   \n",
      "2022-02-25                          74.8          71356837.0   \n",
      "2022-02-24                          74.8          71286458.0   \n",
      "2022-02-23                          74.8          71227013.0   \n",
      "\n",
      "            Admin_Per_100k_5Plus  Distributed_Per_100k_5Plus  \\\n",
      "2022-02-27              192587.0                    231181.0   \n",
      "2022-02-26              192384.0                    231181.0   \n",
      "2022-02-25              192189.0                    231027.0   \n",
      "2022-02-24              191999.0                    230765.0   \n",
      "2022-02-23              191839.0                    230677.0   \n",
      "\n",
      "            Series_Complete_Moderna_5Plus  Series_Complete_Pfizer_5Plus  \\\n",
      "2022-02-27                      9574882.0                    16170562.0   \n",
      "2022-02-26                      9572174.0                    16156487.0   \n",
      "2022-02-25                      9569106.0                    16142657.0   \n",
      "2022-02-24                      9566411.0                    16129523.0   \n",
      "2022-02-23                      9564165.0                    16117948.0   \n",
      "\n",
      "            Series_Complete_Janssen_5Plus  Series_Complete_Unk_Manuf_5Plus  \n",
      "2022-02-27                      2069564.0                           4872.0  \n",
      "2022-02-26                      2068846.0                           4869.0  \n",
      "2022-02-25                      2067957.0                           4835.0  \n",
      "2022-02-24                      2067423.0                           4832.0  \n",
      "2022-02-23                      2066702.0                           4827.0  \n",
      "\n",
      "[5 rows x 82 columns]\n"
     ]
    }
   ],
   "source": [
    "b = data[data['Location']=='CA']\n",
    "b.fillna(0)\n",
    "b.index=list(pd.to_datetime(b['Date']))\n",
    "print(b.head())\n",
    "#new_per_day= np.array(b['Distributed'])[1:] - np.array(b['Distributed'])[:-1]\n",
    "#plt.plot(list(b['Date'][:-1]),new_per_day)"
   ]
  },
  {
   "cell_type": "code",
   "execution_count": 53,
   "id": "c7ce618f",
   "metadata": {},
   "outputs": [
    {
     "name": "stdout",
     "output_type": "stream",
     "text": [
      "|   iter    |  target   |   beta    |   gamma   |   sigma   |\n",
      "-------------------------------------------------------------\n",
      "| \u001b[95m 11      \u001b[0m | \u001b[95m-4.507e+0\u001b[0m | \u001b[95m 0.0     \u001b[0m | \u001b[95m 1.0     \u001b[0m | \u001b[95m 1.0     \u001b[0m |\n",
      "| \u001b[95m 35      \u001b[0m | \u001b[95m-4.493e+0\u001b[0m | \u001b[95m 0.006696\u001b[0m | \u001b[95m 0.138   \u001b[0m | \u001b[95m 0.7571  \u001b[0m |\n",
      "| \u001b[95m 49      \u001b[0m | \u001b[95m-4.475e+0\u001b[0m | \u001b[95m 0.2199  \u001b[0m | \u001b[95m 1.0     \u001b[0m | \u001b[95m 0.1     \u001b[0m |\n",
      "| \u001b[95m 51      \u001b[0m | \u001b[95m-1.435e+0\u001b[0m | \u001b[95m 0.01366 \u001b[0m | \u001b[95m 0.005685\u001b[0m | \u001b[95m 0.3199  \u001b[0m |\n",
      "=============================================================\n",
      "{'target': -1435.1245801839516, 'params': {'beta': 0.013661239945000903, 'gamma': 0.0056853352667423085, 'sigma': 0.31989170217970553}}\n"
     ]
    }
   ],
   "source": [
    "inci = np.array(round1_data['incident_rate'])\n",
    "new_per_day = inci[1:]-inci[:-1]\n",
    "\n",
    "\n",
    "S =  100000-inci[0]\n",
    "# 设置模型初始值\n",
    "E = 0\n",
    "I = inci[0]\n",
    "R = 0\n",
    "init_vals = [S, E, I, R]  \n",
    "\n",
    "l = make_loss(init_vals, new_per_day)\n",
    "\n",
    "# 设置BO参数\n",
    "pbounds = {'sigma': (0.1, 1), 'beta': (0, 1), 'gamma': (0, 1)}\n",
    "optimizer = BayesianOptimization(\n",
    "    f=l,\n",
    "    pbounds=pbounds,\n",
    "    verbose=1,  # verbose = 1 prints only when a maximum is observed, verbose = 0 is silent\n",
    "    random_state=1,\n",
    ")\n",
    "\n",
    "optimizer.maximize(\n",
    "    init_points=2,\n",
    "    n_iter=100,\n",
    ")\n",
    "\n",
    "# 开始BO\n",
    "print(optimizer.max)\n",
    "r = optimizer.max['params']"
   ]
  },
  {
   "cell_type": "code",
   "execution_count": 77,
   "id": "6770eeb1",
   "metadata": {},
   "outputs": [
    {
     "name": "stdout",
     "output_type": "stream",
     "text": [
      "2021-01-24\n"
     ]
    }
   ],
   "source": [
    "from datetime import datetime, timedelta\n",
    "date = '2022-02-27'\n",
    "datetime_object = datetime.strptime(date, '%Y-%m-%d')\n",
    "past_days = 400\n",
    "next_days = 0\n",
    "start_date = datetime_object + timedelta(days=-past_days)\n",
    "end_date = datetime_object + timedelta(days=next_days)\n",
    "\n",
    "date_range= pd.date_range(start=start_date, end=end_date, closed='right').strftime('%Y-%m-%d')\n",
    "print(date_range[0])"
   ]
  },
  {
   "cell_type": "code",
   "execution_count": null,
   "id": "0fe4fcb0",
   "metadata": {},
   "outputs": [],
   "source": [
    "path = 'C:\\Users\\lizhu\\Desktop\\ece143\\projec\\covid19-dashboard\\data\\COVID-19_Vaccinations_in_the_United_States_Jurisdiction.csv'\n"
   ]
  },
  {
   "cell_type": "code",
   "execution_count": 82,
   "id": "6fb2e8c9",
   "metadata": {},
   "outputs": [
    {
     "data": {
      "image/png": "[encoded data removed]",
      "text/plain": [
       "<Figure size 432x288 with 1 Axes>"
      ]
     },
     "metadata": {
      "needs_background": "light"
     },
     "output_type": "display_data"
    }
   ],
   "source": [
    "distributed = []\n",
    "for i in date_range:\n",
    "    distributed.append(b.loc[i,'Dist_Per_100K'][0])\n",
    "\n",
    "new = np.array(distributed[1:])-np.array(distributed[:-1])\n",
    "plt.plot(date_range[1:], new)\n",
    "plt.show()"
   ]
  },
  {
   "cell_type": "code",
   "execution_count": 54,
   "id": "3c548ca2",
   "metadata": {},
   "outputs": [
    {
     "data": {
      "image/png": "[encoded data removed]",
      "text/plain": [
       "<Figure size 432x288 with 1 Axes>"
      ]
     },
     "metadata": {
      "needs_background": "light"
     },
     "output_type": "display_data"
    },
    {
     "data": {
      "image/png": "[encoded data removed]",
      "text/plain": [
       "<Figure size 432x288 with 1 Axes>"
      ]
     },
     "metadata": {
      "needs_background": "light"
     },
     "output_type": "display_data"
    }
   ],
   "source": [
    "# 用最优参数进行simulation\n",
    "new_case_per_day = base_seir_model(init_vals[0],init_vals[1],init_vals[2],init_vals[3],\n",
    "    r['sigma'], r['beta'], r['gamma'], t=np.shape(new_per_day)[0],dt=1, plot=True)\n",
    "n = np.shape(new_per_day)[0]\n",
    "t_s = list(range(n))\n",
    "plt.plot(t_s, new_case_per_day[1:,-1], 'r')\n",
    "plt.plot(t_s, new_per_day, 'k')\n",
    "plt.show()"
   ]
  },
  {
   "cell_type": "code",
   "execution_count": 45,
   "id": "1e470acc",
   "metadata": {},
   "outputs": [
    {
     "name": "stdout",
     "output_type": "stream",
     "text": [
      "|   iter    |  target   |   beta    |   gamma   |   sigma   |\n",
      "-------------------------------------------------------------\n",
      "| \u001b[95m 3       \u001b[0m | \u001b[95m-1.991e+0\u001b[0m | \u001b[95m 0.4358  \u001b[0m | \u001b[95m 0.7175  \u001b[0m | \u001b[95m 0.01417 \u001b[0m |\n",
      "| \u001b[95m 46      \u001b[0m | \u001b[95m-1.954e+0\u001b[0m | \u001b[95m 0.4463  \u001b[0m | \u001b[95m 0.6897  \u001b[0m | \u001b[95m 0.01385 \u001b[0m |\n",
      "| \u001b[95m 59      \u001b[0m | \u001b[95m-1.808e+0\u001b[0m | \u001b[95m 0.9872  \u001b[0m | \u001b[95m 0.2507  \u001b[0m | \u001b[95m 0.00376 \u001b[0m |\n",
      "| \u001b[95m 90      \u001b[0m | \u001b[95m-1.756e+0\u001b[0m | \u001b[95m 0.008966\u001b[0m | \u001b[95m 0.00544 \u001b[0m | \u001b[95m 0.5066  \u001b[0m |\n",
      "=============================================================\n",
      "{'target': -17562.65663435294, 'params': {'beta': 0.00896631561408201, 'gamma': 0.0054395418387247485, 'sigma': 0.5065591130720906}}\n"
     ]
    }
   ],
   "source": [
    "#use round 2 data to do prediction\n",
    "inci = np.array(round2_data['incident_rate'])\n",
    "new_per_day = inci[1:]-inci[:-1]\n",
    "\n",
    "S =  100000-inci[0]\n",
    "# 设置模型初始值\n",
    "E = 0\n",
    "I = inci[0]\n",
    "R = 0\n",
    "init_vals = [S, E, I, R]  \n",
    "\n",
    "print(new_per_day)"
   ]
  },
  {
   "cell_type": "code",
   "execution_count": 87,
   "id": "0645aee1",
   "metadata": {},
   "outputs": [],
   "source": [
    "from sklearn.preprocessing import PolynomialFeatures\n",
    "poly = PolynomialFeatures(degree=6, include_bias=False)\n",
    "poly_features = poly.fit_transform(np.array(range(399)).reshape(-1, 1))\n",
    "#predict_features = poly.fit_transform(np.array(range(100,200)).reshape(-1, 1))"
   ]
  },
  {
   "cell_type": "code",
   "execution_count": 4,
   "id": "dcd2f8f2",
   "metadata": {},
   "outputs": [
    {
     "ename": "NameError",
     "evalue": "name 'new_per_day' is not defined",
     "output_type": "error",
     "traceback": [
      "\u001b[1;31m---------------------------------------------------------------------------\u001b[0m",
      "\u001b[1;31mNameError\u001b[0m                                 Traceback (most recent call last)",
      "Input \u001b[1;32mIn [4]\u001b[0m, in \u001b[0;36m<module>\u001b[1;34m\u001b[0m\n\u001b[0;32m      6\u001b[0m R \u001b[38;5;241m=\u001b[39m \u001b[38;5;241m0\u001b[39m\n\u001b[0;32m      7\u001b[0m init_vals \u001b[38;5;241m=\u001b[39m [S, E, I, R]  \n\u001b[0;32m      8\u001b[0m new_case_per_day \u001b[38;5;241m=\u001b[39m base_seir_model(init_vals[\u001b[38;5;241m0\u001b[39m],init_vals[\u001b[38;5;241m1\u001b[39m],init_vals[\u001b[38;5;241m2\u001b[39m],init_vals[\u001b[38;5;241m3\u001b[39m],\n\u001b[1;32m----> 9\u001b[0m     \u001b[38;5;241m0.3\u001b[39m, \u001b[38;5;241m0.07\u001b[39m, \u001b[38;5;241m0.05\u001b[39m, t\u001b[38;5;241m=\u001b[39mnp\u001b[38;5;241m.\u001b[39mshape(\u001b[43mnew_per_day\u001b[49m)[\u001b[38;5;241m0\u001b[39m],dt\u001b[38;5;241m=\u001b[39m\u001b[38;5;241m1\u001b[39m, plot\u001b[38;5;241m=\u001b[39m\u001b[38;5;28;01mTrue\u001b[39;00m)\n\u001b[0;32m     10\u001b[0m n \u001b[38;5;241m=\u001b[39m np\u001b[38;5;241m.\u001b[39mshape(new_per_day)[\u001b[38;5;241m0\u001b[39m]\n\u001b[0;32m     11\u001b[0m t_s \u001b[38;5;241m=\u001b[39m \u001b[38;5;28mlist\u001b[39m(\u001b[38;5;28mrange\u001b[39m(n))\n",
      "\u001b[1;31mNameError\u001b[0m: name 'new_per_day' is not defined"
     ]
    }
   ],
   "source": [
    "# 用最优参数进行simulation\n",
    "S =  100000-1000\n",
    "# 设置模型初始值\n",
    "E = 0\n",
    "I = 1000\n",
    "R = 0\n",
    "init_vals = [S, E, I, R]  \n",
    "new_case_per_day = base_seir_model(init_vals[0],init_vals[1],init_vals[2],init_vals[3],\n",
    "    0.3, 0.07, 0.05, t=np.shape(new_per_day)[0],dt=1, plot=True)\n",
    "n = np.shape(new_per_day)[0]\n",
    "t_s = list(range(n))\n",
    "plt.plot(t_s, new_case_per_day[1:,-1], 'r')\n",
    "plt.plot(t_s, new_per_day, 'k')\n",
    "plt.show()"
   ]
  },
  {
   "cell_type": "code",
   "execution_count": 88,
   "id": "fcda76f1",
   "metadata": {},
   "outputs": [
    {
     "data": {
      "image/png": "[encoded data removed]",
      "text/plain": [
       "<Figure size 432x288 with 1 Axes>"
      ]
     },
     "metadata": {
      "needs_background": "light"
     },
     "output_type": "display_data"
    }
   ],
   "source": [
    "from sklearn.linear_model import LinearRegression\n",
    "poly_reg_model = LinearRegression()\n",
    "poly_reg_model.fit(poly_features, new)\n",
    "y_predicted = poly_reg_model.predict(poly_features)\n",
    "trace0 = go.Scatter(\n",
    "      x = list(range(360)),\n",
    "      y = result['Susceptible'],\n",
    "      mode = 'lines',\n",
    "      name = 'Susceptible'   \n",
    ")\n",
    "trace1 = go.Scatter(\n",
    "      x = list(range(360)),\n",
    "      y = result['Exposed'],\n",
    "      mode = 'lines',\n",
    "      name = 'Exposed'   \n",
    ")\n",
    "data = [trace0, trace1,trace2,trace3]\n",
    "layout = dict(title = 'Epidemic Trend in Washington (Wave 2)', xaxis = dict(title = 'Day'), yaxis = dict(title = 'Population per 100k'), title_x=0.5)\n",
    "fig = dict(data=data, layout=layout)\n",
    "py.iplot(fig, filename='SEIR wave 1')"
   ]
  }
 ],
 "metadata": {
  "kernelspec": {
   "display_name": "Python 3 (ipykernel)",
   "language": "python",
   "name": "python3"
  },
  "language_info": {
   "codemirror_mode": {
    "name": "ipython",
    "version": 3
   },
   "file_extension": ".py",
   "mimetype": "text/x-python",
   "name": "python",
   "nbconvert_exporter": "python",
   "pygments_lexer": "ipython3",
   "version": "3.8.10"
  }
 },
 "nbformat": 4,
 "nbformat_minor": 5
}
